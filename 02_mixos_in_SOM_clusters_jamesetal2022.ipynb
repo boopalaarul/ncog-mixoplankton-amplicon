{
 "cells": [
  {
   "cell_type": "markdown",
   "id": "4e734a61",
   "metadata": {},
   "source": [
    "Preparing models for 2 different approaches: tree models and neural networks.\n",
    "Can bring in the latter after forming some initial hypotheses about how samples are clustered.\n",
    "\n",
    "Input Data Files:\n",
    "in calcofi-ncog-amplicon/01_out_files/\n",
    "- 18Sv4 and 18Sv9 asv counts\n",
    "- taxo_mft dictionaries, just in case?\n",
    "- File of \"ASV occurrence delta\" between \"nearshore\" and \"farshore\" (clustering of ASVs on the basis of their sample occurrences, \"particular clusters\" (same ASV may fall into different clusters?) identified as nearshore or farshore based on their proportions witin samples.).\n",
    "    - \"Community clusters identified by SOMs have been subsequently labeled as “nearshore” or “offshore” based upon whether they were found more frequently in nearshore or offshore stations (weighted centroid). \"\n",
    "    - \"The ASVs that show the greatest differential abundance (>99th percentile) between nearshore and offshore clusters are provided in Supplementary Data 1.\"\n",
    "    - but it should be winner take all... yes, so each ASV gets a representation within the SOM...\n",
    "in calcofi-ncog-amplicon/input_data_files/\n",
    "- pr2 taxonomy which also integrates the Mixoplankton Database (Mitra et al 2023)\n",
    "- Mixoplankton Database (has some unique species not annotated in PR2, vice versa)\n",
    "\n",
    "outputs of this notebook: (can expand this to the water mass SOM clusters in the later paper)\n",
    "- some indication of whether all, most, or very few mixos have a large ASV delta? permutation test? assumption of beta distribution? ratio statistic of some kind? could do a welch test but if statistic's sampling distribution isn't actually equal to the t distribution then that'd be misleading... unless there's a way to keep the permutation test concept and calculate a statistic that accounts for unequal variances or sample sizes.\n",
    "- test of whether mixos in general (or CMs in particular) are differently distributed than non-mixos, or a specific group like diatoms? test of whether any particular mixos are outliers, (but outliers are evaluated with respect to their effect on a model, are meaningless without the concept of a model...)"
   ]
  },
  {
   "cell_type": "markdown",
   "id": "527c98ca",
   "metadata": {},
   "source": [
    "### **Reading in input files**"
   ]
  },
  {
   "cell_type": "code",
   "execution_count": 1,
   "id": "5c1bb830",
   "metadata": {},
   "outputs": [],
   "source": [
    "import pandas as pd\n",
    "import numpy as np\n",
    "import matplotlib.pyplot as plt\n",
    "%matplotlib inline"
   ]
  },
  {
   "cell_type": "code",
   "execution_count": 2,
   "id": "af0b0896",
   "metadata": {},
   "outputs": [],
   "source": [
    "#any functions required by other notebooks have been moved here\n",
    "#reimport when changing functions\n",
    "from helper_functions import identify_mixo_by_taxo "
   ]
  },
  {
   "cell_type": "code",
   "execution_count": 6,
   "id": "89d20129",
   "metadata": {},
   "outputs": [
    {
     "data": {
      "text/plain": [
       "(0    CM\n",
       " dtype: object,\n",
       " 0    CM\n",
       " dtype: object,\n",
       " 0    \n",
       " dtype: object)"
      ]
     },
     "execution_count": 6,
     "metadata": {},
     "output_type": "execute_result"
    }
   ],
   "source": [
    "identify_mixo_by_taxo(pd.Series([\"Tripos_tenuis\"]), match_by_genus=True, threshold = 1),\\\n",
    "identify_mixo_by_taxo(pd.Series([\"Tripos_tenuis\"]), match_by_genus=True, threshold = 5),\\\n",
    "identify_mixo_by_taxo(pd.Series([\"Tripos_tenuis\"]), match_by_genus=False)"
   ]
  },
  {
   "cell_type": "code",
   "execution_count": 7,
   "id": "3f6d2aa2",
   "metadata": {},
   "outputs": [],
   "source": [
    "#difference in mean ASV proportion between near and farshore SOM clusters (segmentation of samples over ASV frequencies)\n",
    "asv_delta_ASVSOM = pd.read_csv(\"input_data_files/jamesetal2022_ASVdelta_betweenASVclusters.csv\", index_col = 0)"
   ]
  },
  {
   "cell_type": "markdown",
   "id": "ea0970f6",
   "metadata": {},
   "source": [
    "### List of mixo names (most specific names, match these against last term of each classification)"
   ]
  },
  {
   "cell_type": "code",
   "execution_count": 13,
   "id": "9e91785d",
   "metadata": {},
   "outputs": [
    {
     "data": {
      "text/plain": [
       "(45, 18)"
      ]
     },
     "execution_count": 13,
     "metadata": {},
     "output_type": "execute_result"
    }
   ],
   "source": [
    "asv_delta_ASVSOM[\"Taxonomy\"] = asv_delta_ASVSOM[\"Taxonomy\"].str.strip(\";.\")\n",
    "asv_delta_ASVSOM[\"most_specific_name\"] = asv_delta_ASVSOM[\"Taxonomy\"].apply(lambda x: x.split(\";\")[-1].strip())\n",
    "asv_delta_ASVSOM[\"MFT_loose\"] = identify_mixo_by_taxo(\n",
    "    asv_delta_ASVSOM[\"most_specific_name\"], match_by_genus=True, threshold=5\n",
    ")\n",
    "asv_delta_ASVSOM[\"MFT_strict\"] = identify_mixo_by_taxo(\n",
    "    asv_delta_ASVSOM[\"most_specific_name\"], match_by_genus=False\n",
    ")\n",
    "asv_delta_ASVSOM.loc[asv_delta_ASVSOM[\"MFT_loose\"] != \"\"].index.size,\\\n",
    "asv_delta_ASVSOM.loc[asv_delta_ASVSOM[\"MFT_strict\"] != \"\"].index.size"
   ]
  },
  {
   "cell_type": "code",
   "execution_count": 18,
   "id": "f9470428",
   "metadata": {},
   "outputs": [],
   "source": [
    "#assert MFT_strict is a subset of MFT_loose\n",
    "assert(\n",
    "    asv_delta_ASVSOM.loc[asv_delta_ASVSOM[\"MFT_loose\"] != \"\"].index.intersection(\n",
    "        asv_delta_ASVSOM.loc[asv_delta_ASVSOM[\"MFT_strict\"] != \"\"].index\n",
    "    ).equals(asv_delta_ASVSOM.loc[asv_delta_ASVSOM[\"MFT_strict\"] != \"\"].index)\n",
    ")"
   ]
  },
  {
   "cell_type": "code",
   "execution_count": 22,
   "id": "56ac7326",
   "metadata": {},
   "outputs": [
    {
     "data": {
      "image/png": "[encoded data removed]",
      "text/plain": [
       "<Figure size 1000x480 with 2 Axes>"
      ]
     },
     "metadata": {},
     "output_type": "display_data"
    }
   ],
   "source": [
    "#99th percentile greatest deltas.\n",
    "fig, ax = plt.subplots(1,2)\n",
    "fig.set_figwidth(10)\n",
    "ax[0].hist(asv_delta_ASVSOM[\"Delta Relative Abundance\"], \n",
    "         log = True, bins = np.arange(-0.5, 0.5, 0.05))\n",
    "ax[0].hist(asv_delta_ASVSOM.loc[(asv_delta_ASVSOM[\"MFT_strict\"] == \"CM\"), \"Delta Relative Abundance\"],\n",
    "         log = True, bins = np.arange(-0.5, 0.5, 0.05))\n",
    "ax[1].hist(asv_delta_ASVSOM[\"Delta Relative Abundance\"], \n",
    "         log = True, bins = np.arange(-0.5, 0.5, 0.05))\n",
    "ax[1].hist(asv_delta_ASVSOM.loc[(asv_delta_ASVSOM[\"MFT_loose\"] == \"CM\"), \"Delta Relative Abundance\"],\n",
    "         log = True, bins = np.arange(-0.5, 0.5, 0.05))\n",
    "plt.show()"
   ]
  },
  {
   "cell_type": "code",
   "execution_count": 23,
   "id": "dc1a6494",
   "metadata": {},
   "outputs": [
    {
     "data": {
      "image/png": "[encoded data removed]",
      "text/plain": [
       "<Figure size 1000x480 with 2 Axes>"
      ]
     },
     "metadata": {},
     "output_type": "display_data"
    }
   ],
   "source": [
    "#99th percentile greatest deltas.\n",
    "fig, ax = plt.subplots(1,2)\n",
    "fig.set_figwidth(10)\n",
    "ax[0].hist(asv_delta_ASVSOM[\"Delta Relative Abundance\"], \n",
    "         log = True, bins = np.arange(-0.5, 0.5, 0.05))\n",
    "ax[0].hist(asv_delta_ASVSOM.loc[(asv_delta_ASVSOM[\"MFT_strict\"] == \"GNCM\"), \"Delta Relative Abundance\"],\n",
    "         log = True, bins = np.arange(-0.5, 0.5, 0.05))\n",
    "ax[1].hist(asv_delta_ASVSOM[\"Delta Relative Abundance\"], \n",
    "         log = True, bins = np.arange(-0.5, 0.5, 0.05))\n",
    "ax[1].hist(asv_delta_ASVSOM.loc[(asv_delta_ASVSOM[\"MFT_loose\"] == \"GNCM\"), \"Delta Relative Abundance\"],\n",
    "         log = True, bins = np.arange(-0.5, 0.5, 0.05))\n",
    "plt.show()"
   ]
  },
  {
   "cell_type": "code",
   "execution_count": 24,
   "id": "57176fdb",
   "metadata": {},
   "outputs": [
    {
     "data": {
      "image/png": "[encoded data removed]",
      "text/plain": [
       "<Figure size 1000x480 with 2 Axes>"
      ]
     },
     "metadata": {},
     "output_type": "display_data"
    }
   ],
   "source": [
    "#99th percentile greatest deltas.\n",
    "fig, ax = plt.subplots(1,2)\n",
    "fig.set_figwidth(10)\n",
    "ax[0].hist(asv_delta_ASVSOM[\"Delta Relative Abundance\"], \n",
    "         log = True, bins = np.arange(-0.5, 0.5, 0.05))\n",
    "ax[0].hist(asv_delta_ASVSOM.loc[(asv_delta_ASVSOM[\"MFT_strict\"] == \"eSNCM\"), \"Delta Relative Abundance\"],\n",
    "         log = True, bins = np.arange(-0.5, 0.5, 0.05))\n",
    "ax[1].hist(asv_delta_ASVSOM[\"Delta Relative Abundance\"], \n",
    "         log = True, bins = np.arange(-0.5, 0.5, 0.05))\n",
    "ax[1].hist(asv_delta_ASVSOM.loc[(asv_delta_ASVSOM[\"MFT_loose\"] == \"eSNCM\"), \"Delta Relative Abundance\"],\n",
    "         log = True, bins = np.arange(-0.5, 0.5, 0.05))\n",
    "plt.show()"
   ]
  },
  {
   "cell_type": "code",
   "execution_count": 25,
   "id": "7e4e0a5c",
   "metadata": {},
   "outputs": [
    {
     "data": {
      "text/plain": [
       "array(['', 'eSNCM', 'GNCM', 'CM'], dtype=object)"
      ]
     },
     "execution_count": 25,
     "metadata": {},
     "output_type": "execute_result"
    }
   ],
   "source": [
    "asv_delta_ASVSOM[\"MFT_loose\"].unique()"
   ]
  },
  {
   "cell_type": "markdown",
   "id": "762aa2c8",
   "metadata": {},
   "source": [
    "### Conclusion: \n",
    "\n",
    "**none of the mixos' deltas are anything out of the ordinary**, no clear preference of nearshore or farshore clusters... I think this is more due to mixo frequencies being low across the board, it's just something this dataset is going to end up reproducing in any test.\n",
    "\n",
    "**Assumption that match_by_genus will only add a few false negatives (not really mixos) seems unfounded.** Even at threshold = 5 (a species in the same genus as at least 5 mixotroph species is itself tagged as a mixotroph), this returns 45 matches compared to the strict species-match returning 18. That's 27 more matches, 1.5x the original. Although this may add a greater *number* of ASVs, their per-sample proportions may be low enough (for the false negatives, which I expect to be less common than the mixotrophs) that it won't impact an analysis relying on those."
   ]
  },
  {
   "cell_type": "markdown",
   "id": "4e5ca251",
   "metadata": {},
   "source": [
    "---\n",
    "\n",
    "## Part 2?\n",
    "\n",
    "Check the water mass paper for useful supplementary tables. None. Still worth checking."
   ]
  }
 ],
 "metadata": {
  "kernelspec": {
   "display_name": "Python 3 (ipykernel)",
   "language": "python",
   "name": "python3"
  },
  "language_info": {
   "codemirror_mode": {
    "name": "ipython",
    "version": 3
   },
   "file_extension": ".py",
   "mimetype": "text/x-python",
   "name": "python",
   "nbconvert_exporter": "python",
   "pygments_lexer": "ipython3",
   "version": "3.8.15"
  }
 },
 "nbformat": 4,
 "nbformat_minor": 5
}
