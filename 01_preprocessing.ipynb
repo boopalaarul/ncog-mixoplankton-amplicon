{
 "cells": [
  {
   "cell_type": "markdown",
   "id": "4e734a61",
   "metadata": {},
   "source": [
    "Preparing models for 2 different approaches: tree models and neural networks.\n",
    "Can bring in the latter after forming some initial hypotheses about how samples are clustered.\n",
    "\n",
    "Input Data Files:\n",
    "in ./input_data_files/\n",
    "- 18Sv4 and 18Sv9 asv counts\n",
    "- pr2 taxonomy which also integrates the Mixoplankton Database (Mitra et al 2023)\n",
    "- exclude_samples.txt, samples to filter out of analysis\n",
    "- new 18Sv4 and 18Sv9 taxonomies on pr2 5.0.0\n",
    "- metadata file containing \"predictor\" sample features\n",
    "- additional Datazoo / Calcofi website files with more environmental predictor features\n",
    "    - **\"High-Performance Liquid Chromatography Pigments (CalCOFI Cruise) subset 2014-2020.csv\"**, contains data for cruises (not necessarily the same as the NCOG DNA/RNA collection cruises!)\n",
    "\n",
    "outputs of this notebook:\n",
    "- new frequency tables for individual asvs, individual species, and individual functional types. each formatted as such: the samples are rows/observations and the asvs are the \"response\" features. \n",
    "- additional response features: per sample ASV diversity scores, or diversity scores within particular categories.\n",
    "- \"predictor\" tables subset from the metadata file, include only the allowed samples and have data for all included samples. there may be cases of NA... not sure how to resolve, may have to go col by col.\n",
    "\n",
    "Protocols for data:\n",
    "- [Main CalCofi page for protocols](https://calcofi.org/data/marine-ecosystem-data/e-dna/)\n",
    "- [Protocols.io sample collection](https://www.protocols.io/view/noaa-calcofi-ocean-genomics-ncog-sample-collection-eq2lypdorlx9/v1)\n",
    "- [Protocols.io DNA extraction](https://www.protocols.io/view/sterivex-dna-extraction-x54v9m1y4g3e/v2)\n",
    "- [Protocols.io PCR library prep & barcoding](https://www.protocols.io/view/amplicon-library-preparation-bp2l6b4j5gqe/v1) (primers used are listed here; \"quantify with the qubit\" (fluorometric... so it can measure amount of DNA but not quantify sequences))\n",
    "    - [PR2 primer database, try and find them](https://app.pr2-primers.org/pr2-primers/)\n",
    "- [QIIME protocols on allenlab github & the other data folder](https://github.com/allenlab/QIIME2_18Sv4_ASV_protocol)"
   ]
  },
  {
   "cell_type": "markdown",
   "id": "527c98ca",
   "metadata": {},
   "source": [
    "### **Reading in input files**"
   ]
  },
  {
   "cell_type": "code",
   "execution_count": 46,
   "id": "5c1bb830",
   "metadata": {},
   "outputs": [],
   "source": [
    "import pandas as pd\n",
    "import numpy as np\n",
    "import matplotlib.pyplot as plt\n",
    "%matplotlib inline"
   ]
  },
  {
   "cell_type": "code",
   "execution_count": 19,
   "id": "af0b0896",
   "metadata": {},
   "outputs": [],
   "source": [
    "#any functions required by other notebooks have been moved here\n",
    "#reimport when changing functions\n",
    "from helper_functions import proportional_frequencies, shannon_index, asv_richness"
   ]
  },
  {
   "cell_type": "code",
   "execution_count": 20,
   "id": "3f6d2aa2",
   "metadata": {},
   "outputs": [],
   "source": [
    "raw_asv_freqs_18Sv9 = pd.read_csv(\"input_data_files/NCOG_18sV9_asv_count_tax_S.tsv\", sep = \"\\t\", index_col = 0)\n",
    "raw_asv_freqs_18Sv4 = pd.read_csv(\"input_data_files/NCOG_18sV4_asv_count_tax.tsv\", sep = \"\\t\", index_col = 0)\n",
    "\n",
    "raw_asv_taxonomies_18Sv9 = pd.read_csv(\"input_data_files/18Sv9_pr2_5.0.0_classifications.tsv\", sep = \"\\t\", index_col = 0)\n",
    "raw_asv_taxonomies_18Sv4 = pd.read_csv(\"input_data_files/18Sv4_pr2_5.0.0_classifications.tsv\", sep = \"\\t\", index_col = 0)\n",
    "\n",
    "pr2_taxonomies = pd.read_csv(\"input_data_files/pr2_version_5.0.0_taxonomy.tsv\", sep = \"\\t\")\n",
    "mdb = pd.read_csv(\"input_data_files/trophic_type_databases/MDB_data.tsv\", sep = \"\\t\")\n",
    "\n",
    "samples_to_exclude = pd.read_csv(\"input_data_files/exclude_samples.txt\", skiprows=2)\n",
    "sample_metadata = pd.read_csv(\"input_data_files/NCOG_sample_log_DNA_stvx_meta_2014-2020.csv\", index_col = 0)"
   ]
  },
  {
   "cell_type": "code",
   "execution_count": 21,
   "id": "9d97b8ac",
   "metadata": {},
   "outputs": [
    {
     "data": {
      "text/plain": [
       "((50408, 1542), True, (34498, 1203), True)"
      ]
     },
     "execution_count": 21,
     "metadata": {},
     "output_type": "execute_result"
    }
   ],
   "source": [
    "#making sure all column (sample) indices are unique - they are. diff # of ASVs and samples in each.\n",
    "raw_asv_freqs_18Sv9.shape,\\\n",
    "(raw_asv_freqs_18Sv9.columns.value_counts() == 1).all(),\\\n",
    "raw_asv_freqs_18Sv4.shape,\\\n",
    "(raw_asv_freqs_18Sv4.columns.value_counts() == 1).all()"
   ]
  },
  {
   "cell_type": "code",
   "execution_count": 22,
   "id": "62f212d4",
   "metadata": {},
   "outputs": [
    {
     "data": {
      "text/html": [
       "<div>\n",
       "<style scoped>\n",
       "    .dataframe tbody tr th:only-of-type {\n",
       "        vertical-align: middle;\n",
       "    }\n",
       "\n",
       "    .dataframe tbody tr th {\n",
       "        vertical-align: top;\n",
       "    }\n",
       "\n",
       "    .dataframe thead th {\n",
       "        text-align: right;\n",
       "    }\n",
       "</style>\n",
       "<table border=\"1\" class=\"dataframe\">\n",
       "  <thead>\n",
       "    <tr style=\"text-align: right;\">\n",
       "      <th></th>\n",
       "      <th>X201407_081.8_046.9_10</th>\n",
       "    </tr>\n",
       "    <tr>\n",
       "      <th>Feature.ID</th>\n",
       "      <th></th>\n",
       "    </tr>\n",
       "  </thead>\n",
       "  <tbody>\n",
       "    <tr>\n",
       "      <th>00033b106a444099d17b2aa0812e6e18</th>\n",
       "      <td>0</td>\n",
       "    </tr>\n",
       "    <tr>\n",
       "      <th>000802b67e2ce04ac2fe019e4c7e2eb3</th>\n",
       "      <td>0</td>\n",
       "    </tr>\n",
       "    <tr>\n",
       "      <th>00130228e31d0a7657e07746c53d84a7</th>\n",
       "      <td>0</td>\n",
       "    </tr>\n",
       "    <tr>\n",
       "      <th>0018b3779c593d261b070353cd17140a</th>\n",
       "      <td>0</td>\n",
       "    </tr>\n",
       "    <tr>\n",
       "      <th>001d40995cee1776cd7a14fee1a7602b</th>\n",
       "      <td>0</td>\n",
       "    </tr>\n",
       "    <tr>\n",
       "      <th>...</th>\n",
       "      <td>...</td>\n",
       "    </tr>\n",
       "    <tr>\n",
       "      <th>fff4a21634d0f82626510963a24076cf</th>\n",
       "      <td>0</td>\n",
       "    </tr>\n",
       "    <tr>\n",
       "      <th>fff58e982f748b9f04044f6bc2fd4f21</th>\n",
       "      <td>0</td>\n",
       "    </tr>\n",
       "    <tr>\n",
       "      <th>fff63ac13cceabd997eea4d9e54d05e3</th>\n",
       "      <td>0</td>\n",
       "    </tr>\n",
       "    <tr>\n",
       "      <th>fff75ae8231f48886647062afe10a2a4</th>\n",
       "      <td>0</td>\n",
       "    </tr>\n",
       "    <tr>\n",
       "      <th>fff9aa99816819a6c66a968851490e39</th>\n",
       "      <td>0</td>\n",
       "    </tr>\n",
       "  </tbody>\n",
       "</table>\n",
       "<p>34498 rows × 1 columns</p>\n",
       "</div>"
      ],
      "text/plain": [
       "                                  X201407_081.8_046.9_10\n",
       "Feature.ID                                              \n",
       "00033b106a444099d17b2aa0812e6e18                       0\n",
       "000802b67e2ce04ac2fe019e4c7e2eb3                       0\n",
       "00130228e31d0a7657e07746c53d84a7                       0\n",
       "0018b3779c593d261b070353cd17140a                       0\n",
       "001d40995cee1776cd7a14fee1a7602b                       0\n",
       "...                                                  ...\n",
       "fff4a21634d0f82626510963a24076cf                       0\n",
       "fff58e982f748b9f04044f6bc2fd4f21                       0\n",
       "fff63ac13cceabd997eea4d9e54d05e3                       0\n",
       "fff75ae8231f48886647062afe10a2a4                       0\n",
       "fff9aa99816819a6c66a968851490e39                       0\n",
       "\n",
       "[34498 rows x 1 columns]"
      ]
     },
     "execution_count": 22,
     "metadata": {},
     "output_type": "execute_result"
    }
   ],
   "source": [
    "raw_asv_freqs_18Sv4.loc[:,raw_asv_freqs_18Sv4.columns.str.contains(\"X201407_081.8_046.9\")]"
   ]
  },
  {
   "cell_type": "markdown",
   "id": "d7548cfe",
   "metadata": {},
   "source": [
    "### **Filter out asv counts and rescale to proportions after removing S. pombe**"
   ]
  },
  {
   "cell_type": "code",
   "execution_count": 23,
   "id": "6f22c13a",
   "metadata": {},
   "outputs": [],
   "source": [
    "def sample_select(column):\n",
    "    \"\"\"Selects only the columns which correspond to valid sample IDs, and which are not to be excluded,\n",
    "    and which do not contain only zeroes.\"\"\"\n",
    "    return column.name[0] == \"X\" \\\n",
    "        and column.name[1:7].isdigit() \\\n",
    "        and column.name not in samples_to_exclude \\\n",
    "        and sum(column) > 0\n",
    "\n",
    "#18Sv4 and v9 do not have the same number of observations (samples).\n",
    "sample_mask_18Sv4 = raw_asv_freqs_18Sv4.apply(sample_select, axis = 0)\n",
    "sample_mask_18Sv9 = raw_asv_freqs_18Sv9.apply(sample_select, axis = 0)\n",
    "\n",
    "#exclude all ASVs identified as internal standard Schizosaccharomyces pomb\n",
    "standard_mask_18Sv4 = raw_asv_taxonomies_18Sv4[\"Taxon\"].str.contains(\"pombe\").apply(lambda x: not x)\n",
    "standard_mask_18Sv9 = raw_asv_taxonomies_18Sv9[\"Taxon\"].str.contains(\"pombe\").apply(lambda x: not x)"
   ]
  },
  {
   "cell_type": "code",
   "execution_count": 24,
   "id": "85795dbb",
   "metadata": {},
   "outputs": [
    {
     "data": {
      "text/plain": [
       "(True, True)"
      ]
     },
     "execution_count": 24,
     "metadata": {},
     "output_type": "execute_result"
    }
   ],
   "source": [
    "(raw_asv_taxonomies_18Sv4.index == raw_asv_freqs_18Sv4.index).all(),\\\n",
    "(raw_asv_taxonomies_18Sv9.index == raw_asv_freqs_18Sv9.index).all()"
   ]
  },
  {
   "cell_type": "code",
   "execution_count": 25,
   "id": "b4db29fc",
   "metadata": {},
   "outputs": [
    {
     "data": {
      "text/plain": [
       "Index(['X201802_076.7_051.0_10', 'X201802_076.7_055.0_10',\n",
       "       'X201802_076.7_055.0_20', 'X201802_076.7_060.0_10',\n",
       "       'X201802_076.7_060.0_20', 'X201802_080.0_051.0_10',\n",
       "       'X201802_080.0_055.0_10', 'X201802_080.0_055.0_30',\n",
       "       'X201802_080.0_060.0_10', 'X201802_080.0_060.0_30',\n",
       "       ...\n",
       "       'X202010_090.0_080.0_80', 'X202010_090.0_090.0_10',\n",
       "       'X202010_090.0_090.0_60', 'X202010_090.0_120.0_10',\n",
       "       'X202010_090.0_120.0_87', 'X202010_093.3_050.0_10',\n",
       "       'X202010_093.3_050.0_30', 'X202010_093.3_090.0_10',\n",
       "       'X202010_093.3_090.0_75', 'X202010_093.4_026.4_10'],\n",
       "      dtype='object', length=489)"
      ]
     },
     "execution_count": 25,
     "metadata": {},
     "output_type": "execute_result"
    }
   ],
   "source": [
    "#checking if CPL normalization is possible at all... only for 489 columns and only from 2018 - 2020? only these columns\n",
    "#actually have any Spike read recovery at all. or more appropriately-- only for these 489 were any present ASVs identified\n",
    "#as S. pombe, but I think we can move past doubting the taxonomy accuracy.\n",
    "spike_only_18Sv4 = raw_asv_freqs_18Sv4.loc[ raw_asv_taxonomies_18Sv4[\"Taxon\"].str.contains(\"pombe\"), sample_mask_18Sv4 ]\n",
    "spike_only_18Sv4.columns[(spike_only_18Sv4.apply(sum) > 0)]"
   ]
  },
  {
   "cell_type": "code",
   "execution_count": 26,
   "id": "d9e8f0a5",
   "metadata": {},
   "outputs": [
    {
     "data": {
      "text/plain": [
       "Index(['X201802_076.7_051.0_10', 'X201802_076.7_055.0_10',\n",
       "       'X201802_076.7_055.0_20', 'X201802_076.7_060.0_10',\n",
       "       'X201802_076.7_060.0_20', 'X201802_080.0_051.0_10',\n",
       "       'X201802_080.0_055.0_10', 'X201802_080.0_055.0_30',\n",
       "       'X201802_080.0_060.0_10', 'X201802_080.0_060.0_30',\n",
       "       ...\n",
       "       'X201611_090.0_090.0_10_S', 'X201611_090.0_090.0_50_S',\n",
       "       'X201611_090.0_120.0_10_S', 'X201611_090.0_120.0_87_S',\n",
       "       'X201611_093.3_026.7_12_S', 'X201611_093.3_026.7_24_S',\n",
       "       'X201611_093.3_045.0_33_S', 'X201611_093.3_045.0_9_S',\n",
       "       'X201611_093.3_070.0_12_S', 'X201611_093.3_070.0_40_S'],\n",
       "      dtype='object', length=827)"
      ]
     },
     "execution_count": 26,
     "metadata": {},
     "output_type": "execute_result"
    }
   ],
   "source": [
    "spike_only_18Sv9 = raw_asv_freqs_18Sv9.loc[ raw_asv_taxonomies_18Sv9[\"Taxon\"].str.contains(\"pombe\"), sample_mask_18Sv9 ]\n",
    "spike_only_18Sv9.columns[(spike_only_18Sv9.apply(sum) > 0)]"
   ]
  },
  {
   "cell_type": "code",
   "execution_count": 27,
   "id": "b4dc2a80",
   "metadata": {},
   "outputs": [],
   "source": [
    "raw_asv_counts_18Sv4 = raw_asv_freqs_18Sv4.loc[standard_mask_18Sv4, sample_mask_18Sv4]\n",
    "raw_asv_counts_18Sv9 = raw_asv_freqs_18Sv9.loc[standard_mask_18Sv9, sample_mask_18Sv9]"
   ]
  },
  {
   "cell_type": "code",
   "execution_count": 28,
   "id": "6ce0f60d",
   "metadata": {},
   "outputs": [
    {
     "data": {
      "text/plain": [
       "((50407, 1485), (34496, 1145))"
      ]
     },
     "execution_count": 28,
     "metadata": {},
     "output_type": "execute_result"
    }
   ],
   "source": [
    "#apply row and column masks to each table, then scale proportionally along columns for proportional asv frequencies\n",
    "asv_freqs_18Sv4 = raw_asv_freqs_18Sv4.loc[standard_mask_18Sv4, sample_mask_18Sv4].apply(\n",
    "    proportional_frequencies, axis = 0)\n",
    "asv_freqs_18Sv9 = raw_asv_freqs_18Sv9.loc[standard_mask_18Sv9, sample_mask_18Sv9].apply(\n",
    "    proportional_frequencies, axis = 0)\n",
    "asv_freqs_18Sv9.shape, asv_freqs_18Sv4.shape"
   ]
  },
  {
   "cell_type": "code",
   "execution_count": 29,
   "id": "ca5bdaf6",
   "metadata": {},
   "outputs": [
    {
     "data": {
      "text/plain": [
       "((34496, 2), (50407, 2))"
      ]
     },
     "execution_count": 29,
     "metadata": {},
     "output_type": "execute_result"
    }
   ],
   "source": [
    "asv_taxonomies_18Sv4 = raw_asv_taxonomies_18Sv4.loc[standard_mask_18Sv4]\n",
    "asv_taxonomies_18Sv9 = raw_asv_taxonomies_18Sv9.loc[standard_mask_18Sv9]\n",
    "asv_taxonomies_18Sv4.shape, asv_taxonomies_18Sv9.shape"
   ]
  },
  {
   "cell_type": "code",
   "execution_count": 30,
   "id": "1f6374c3",
   "metadata": {},
   "outputs": [
    {
     "data": {
      "text/plain": [
       "(0.014492155536291532, 0.015505582537939155)"
      ]
     },
     "execution_count": 30,
     "metadata": {},
     "output_type": "execute_result"
    }
   ],
   "source": [
    "#only 1% of the cells in both tables have a nonzero value, should only expect useful data by aggregating into\n",
    "#either species or MFTs... calculate per sample diversity scores for each\n",
    "#since it's the species or MFT proportions that are going to be the \"response features\", i don't have to transpose just yet\n",
    "\n",
    "sum(asv_freqs_18Sv4.values.flatten() != 0) / (asv_freqs_18Sv4.index.size * asv_freqs_18Sv4.columns.size),\\\n",
    "sum(asv_freqs_18Sv9.values.flatten() != 0) / (asv_freqs_18Sv9.index.size * asv_freqs_18Sv9.columns.size)"
   ]
  },
  {
   "cell_type": "markdown",
   "id": "b9ec1f64",
   "metadata": {},
   "source": [
    "### **Environmental feature tables for 18Sv4 and 18Sv9**\n",
    "\n",
    "Since there's different numbers of samples in each table, these won't be exactly the same.\n",
    "\n",
    "LightGBM can handle missing values so I'll leave them in.\n",
    "\n",
    "Not all the metadata is included in the main metadata file. Can import the ones that aren't here (example: \"region\" category for stations (upwelling region, etc))"
   ]
  },
  {
   "cell_type": "code",
   "execution_count": 31,
   "id": "933f2bd6",
   "metadata": {},
   "outputs": [],
   "source": [
    "#change index so it matches columns of the frequency tables. guessing that qiime adds the X to avoid numerical var names\n",
    "sample_metadata.index = [\"X\" + sample_id for sample_id in sample_metadata.index]"
   ]
  },
  {
   "cell_type": "code",
   "execution_count": 32,
   "id": "57f5143a",
   "metadata": {},
   "outputs": [],
   "source": [
    "samples_without_metadata_18Sv4 = asv_freqs_18Sv4.columns.drop(sample_metadata.index, errors = \"ignore\")\n",
    "samples_without_metadata_18Sv9 = asv_freqs_18Sv9.columns.drop(sample_metadata.index, errors = \"ignore\")\n",
    "asv_freqs_18Sv4 = asv_freqs_18Sv4.drop(samples_without_metadata_18Sv4, axis = 1)\n",
    "asv_freqs_18Sv9 = asv_freqs_18Sv9.drop(samples_without_metadata_18Sv9, axis = 1)"
   ]
  },
  {
   "cell_type": "code",
   "execution_count": 33,
   "id": "1d0519be",
   "metadata": {},
   "outputs": [],
   "source": [
    "#Columns that contain environmental data about a sample-- not just IDs or combos of other variables.\n",
    "#variables where you wouldn't expect this to make a difference but if it does it'll be good to know: Cast_Type, Cardinal_Sta\n",
    "#keep lat and long as floats, for tree regression cutoffs\n",
    "useful_metadata = [\"Cast_Type\",\"Cardinal_Sta\",\n",
    "                   \"Lat_Dec\", \"Lon_Dec\", \n",
    "                   \"Bottle_Depth\", \n",
    "                   \"T_degC\", \n",
    "                   \"Salnty\", \n",
    "                   \"STheta\", \"O2ml_L\",\"PO4ug\",\"SiO3ug\",\"NO3ug\",\"NH3ug\",\"ChlorA\",\"Phaeop\",\n",
    "                   \"RecInd\",\"MLD_Sigma\"]\n",
    "\n",
    "#not all the samples have metadata; drop the ones that don't.\n",
    "#selecting sample metadata rows based on asv_freqs columns (already filtered) excludes the \"samples to exclude\".\n",
    "env_features_18Sv4 = sample_metadata.loc[asv_freqs_18Sv4.columns, useful_metadata]\n",
    "env_features_18Sv9 = sample_metadata.loc[asv_freqs_18Sv9.columns, useful_metadata]"
   ]
  },
  {
   "cell_type": "code",
   "execution_count": 34,
   "id": "bde33ae9",
   "metadata": {},
   "outputs": [],
   "source": [
    "#transform the date and time variables: \n",
    "#date should be year/month/season (see how many boosting trees end up splitting on month)\n",
    "#should these be discrete? does lightgbm treat discrete ints differently from categorical strings?\n",
    "timevars = [\"year\", \"month\", \"season\"]\n",
    "def split_date(date_series):\n",
    "    \"\"\"Takes a series of (M)M/DD/YYYY objects and returns 3 series of year, month, date.\"\"\"\n",
    "    finished_variables = {\"year\":[],\"month\":[],\"season\":[]}\n",
    "    seasons = [\"winter\", \"spring\", \"summer\", \"fall\"]\n",
    "    for date in date_series:\n",
    "        if type(date) == float and np.isnan(date):\n",
    "            finished_variables[\"year\"].append(np.nan)\n",
    "            finished_variables[\"month\"].append(np.nan)\n",
    "            finished_variables[\"season\"].append(np.nan)\n",
    "        else:\n",
    "            month, day, year = date.split(\"/\")\n",
    "            finished_variables[\"year\"].append(int(year))\n",
    "            finished_variables[\"month\"].append(int(month))\n",
    "            season_index = (int(month) % 12) // 3 #0, 1, 2, 3\n",
    "            finished_variables[\"season\"].append(seasons[season_index])\n",
    "    return pd.DataFrame(finished_variables, index = date_series.index)\n",
    "\n",
    "env_features_18Sv4[timevars] = split_date(sample_metadata.loc[env_features_18Sv4.index, \"Date\"])\n",
    "env_features_18Sv9[timevars] = split_date(sample_metadata.loc[env_features_18Sv9.index, \"Date\"])"
   ]
  },
  {
   "cell_type": "code",
   "execution_count": 35,
   "id": "0566a890",
   "metadata": {},
   "outputs": [],
   "source": [
    "#convert time to minutes since 0000 \n",
    "def time_to_mins(time):\n",
    "    \"\"\"Converts a H:MM, HH:MM, or (H)H:MM:SS string to \"minutes since 0000\". If time is nan, return nan.\"\"\"\n",
    "    if type(time) == float and np.isnan(time):\n",
    "        return time\n",
    "    hhmmss = time.split(\":\")\n",
    "    return int(hhmmss[0]) * 60 + int(hhmmss[1]) #ignore seconds\n",
    "        \n",
    "env_features_18Sv4[\"Mins_since_0000\"] = sample_metadata.loc[env_features_18Sv4.index, \"Time\"].apply(time_to_mins)\n",
    "env_features_18Sv9[\"Mins_since_0000\"] = sample_metadata.loc[env_features_18Sv9.index, \"Time\"].apply(time_to_mins)"
   ]
  },
  {
   "cell_type": "code",
   "execution_count": 36,
   "id": "a408020f",
   "metadata": {},
   "outputs": [
    {
     "data": {
      "text/plain": [
       "(1144, 21)"
      ]
     },
     "execution_count": 36,
     "metadata": {},
     "output_type": "execute_result"
    }
   ],
   "source": [
    "env_features_18Sv4.shape"
   ]
  },
  {
   "cell_type": "markdown",
   "id": "b2880b08",
   "metadata": {},
   "source": [
    "### Coverage of Spike sequences at different times/places\n",
    "\n",
    "why does CPL table only include samples after 2018? Was a different internal standard used before 2018, or none at all?"
   ]
  },
  {
   "cell_type": "markdown",
   "id": "232e3d33",
   "metadata": {},
   "source": [
    "According to plots: it's not that spikes weren't used at all before, but that they're only picked up in 18Sv4 after 2018... even so, the 18Sv9 table's 2014 values are also truncated."
   ]
  },
  {
   "cell_type": "code",
   "execution_count": 42,
   "id": "9d71f6c5",
   "metadata": {},
   "outputs": [],
   "source": [
    "spikes_per_sample_18Sv4 = spike_only_18Sv4.drop(samples_without_metadata_18Sv4, axis = 1).apply(sum)\n",
    "spikes_per_sample_18Sv9 = spike_only_18Sv9.drop(samples_without_metadata_18Sv9, axis = 1).apply(sum)"
   ]
  },
  {
   "cell_type": "code",
   "execution_count": 43,
   "id": "3b1fdc4f",
   "metadata": {},
   "outputs": [
    {
     "data": {
      "text/plain": [
       "True"
      ]
     },
     "execution_count": 43,
     "metadata": {},
     "output_type": "execute_result"
    }
   ],
   "source": [
    "(spikes_per_sample_18Sv4.index == env_features_18Sv4.index).all()"
   ]
  },
  {
   "cell_type": "code",
   "execution_count": 53,
   "id": "6b795060",
   "metadata": {},
   "outputs": [
    {
     "data": {
      "image/png": "[encoded data removed]",
      "text/plain": [
       "<Figure size 1000x480 with 2 Axes>"
      ]
     },
     "metadata": {},
     "output_type": "display_data"
    }
   ],
   "source": [
    "fig, ax = plt.subplots(1,2)\n",
    "fig.set_figwidth(10)\n",
    "ax[0].scatter(env_features_18Sv4[\"year\"], spikes_per_sample_18Sv4)\n",
    "ax[1].scatter(env_features_18Sv9[\"year\"], spikes_per_sample_18Sv9)\n",
    "plt.show()"
   ]
  },
  {
   "cell_type": "code",
   "execution_count": 44,
   "id": "5e0fa1ea",
   "metadata": {},
   "outputs": [
    {
     "data": {
      "text/plain": [
       "Index(['Cast_Type', 'Cardinal_Sta', 'Lat_Dec', 'Lon_Dec', 'Bottle_Depth',\n",
       "       'T_degC', 'Salnty', 'STheta', 'O2ml_L', 'PO4ug', 'SiO3ug', 'NO3ug',\n",
       "       'NH3ug', 'ChlorA', 'Phaeop', 'RecInd', 'MLD_Sigma', 'year', 'month',\n",
       "       'season', 'Mins_since_0000'],\n",
       "      dtype='object')"
      ]
     },
     "execution_count": 44,
     "metadata": {},
     "output_type": "execute_result"
    }
   ],
   "source": [
    "env_features_18Sv4.columns"
   ]
  },
  {
   "cell_type": "markdown",
   "id": "d4bc5dba",
   "metadata": {},
   "source": [
    "### **Identify ASV species and MFT, add together frequencies of ASVs tagged as the same species**\n",
    "\n",
    "Can also take per sample diversity scores of relevant species as an additional feature."
   ]
  },
  {
   "cell_type": "code",
   "execution_count": 17,
   "id": "4e80ad50",
   "metadata": {},
   "outputs": [],
   "source": [
    "#note that index doesn't count for drop-duplicates, need \"species\" to be its own column.\n",
    "#select only the rows that don't correspond to :nucl or :plas non nuclear sequencies\n",
    "#pr2_mixo_species = pr2_taxonomies.loc[pr2_taxonomies[\"species\"].str.contains(\":\") == False\n",
    "#                                      , [\"species\", \"mixoplankton\"]].dropna()\n",
    "\n",
    "#nucleomorph and plastid entries are fine, seems like pr2 neive bayes classification may also include them.\n",
    "pr2_mixo_species = pr2_taxonomies[[\"species\", \"mixoplankton\"]].dropna()\n",
    "\n",
    "pr2_mixo_species.columns = [\"species\", \"MFT\"]\n",
    "\n",
    "#clean characters that could create false differences\n",
    "pr2_mixo_species[\"species\"] = pr2_mixo_species[\"species\"].str.strip(\";.\")"
   ]
  },
  {
   "cell_type": "code",
   "execution_count": 18,
   "id": "456299e6",
   "metadata": {},
   "outputs": [],
   "source": [
    "mdb_mixo_species = pd.DataFrame({\n",
    "    \"species\" : mdb[\"Species Name\"].apply(lambda x: \"_\".join(x.split(\" \")).strip(\".\") ),\n",
    "    \"MFT\" : mdb[\"MFT\"].str.strip(\"*\")\n",
    "})"
   ]
  },
  {
   "cell_type": "code",
   "execution_count": 19,
   "id": "2bee79a0",
   "metadata": {},
   "outputs": [
    {
     "data": {
      "text/plain": [
       "514"
      ]
     },
     "execution_count": 19,
     "metadata": {},
     "output_type": "execute_result"
    }
   ],
   "source": [
    "combined_mixo_species = pd.concat([pr2_mixo_species, mdb_mixo_species], ignore_index=True).drop_duplicates()\n",
    "combined_species_mft = combined_mixo_species[\"MFT\"].rename(index=combined_mixo_species[\"species\"])\n",
    "combined_species_mft.size"
   ]
  },
  {
   "cell_type": "code",
   "execution_count": 20,
   "id": "141b589c",
   "metadata": {},
   "outputs": [],
   "source": [
    "#add the mixo column to each taxonomies object\n",
    "#pr2_mft = pr2_taxonomies[\"mixoplankton\"]\n",
    "#pr2_mft.index = pr2_taxonomies[\"species\"]\n",
    "#pr2_mft.name = \"MFT\"\n",
    "asv_taxo_mft_18Sv4 = pd.DataFrame({\n",
    "    \"Taxon\" : asv_taxonomies_18Sv4[\"Taxon\"],\n",
    "    \"Confidence\" : asv_taxonomies_18Sv4[\"Confidence\"],\n",
    "    \"most_specific_name\" : asv_taxonomies_18Sv4[\"Taxon\"].apply(lambda x : x.strip(\";.\").split(\";\")[-1])\n",
    "})\n",
    "asv_taxo_mft_18Sv9 = pd.DataFrame({\n",
    "    \"Taxon\" : asv_taxonomies_18Sv9[\"Taxon\"],\n",
    "    \"Confidence\" : asv_taxonomies_18Sv9[\"Confidence\"],\n",
    "    \"most_specific_name\" : asv_taxonomies_18Sv9[\"Taxon\"].apply(lambda x : x.strip(\";.\").split(\";\")[-1])\n",
    "})\n",
    "\n",
    "asv_taxo_mft_18Sv4[\"MFT\"] = asv_taxo_mft_18Sv4[\"most_specific_name\"].apply(\n",
    "    lambda x: combined_species_mft[x] if x in combined_species_mft.index else \"\"\n",
    ")\n",
    "asv_taxo_mft_18Sv9[\"MFT\"] = asv_taxo_mft_18Sv9[\"most_specific_name\"].apply(\n",
    "    lambda x: combined_species_mft[x] if x in combined_species_mft.index else \"\"\n",
    ")"
   ]
  },
  {
   "cell_type": "code",
   "execution_count": 21,
   "id": "a46fe021",
   "metadata": {},
   "outputs": [
    {
     "data": {
      "text/plain": [
       "(True, True)"
      ]
     },
     "execution_count": 21,
     "metadata": {},
     "output_type": "execute_result"
    }
   ],
   "source": [
    "(asv_taxo_mft_18Sv4.index == asv_freqs_18Sv4.index).all(),\\\n",
    "(asv_taxo_mft_18Sv9.index == asv_freqs_18Sv9.index).all()"
   ]
  },
  {
   "cell_type": "code",
   "execution_count": 22,
   "id": "4a295422",
   "metadata": {},
   "outputs": [
    {
     "name": "stdout",
     "output_type": "stream",
     "text": [
      "(473, 4) (450, 4)\n",
      "(22, 4) (7, 4)\n",
      "(4, 4) (15, 4)\n",
      "(84, 4) (158, 4)\n"
     ]
    }
   ],
   "source": [
    "#v4 has more species classified in CM and GNCM, v9 has more in pSNCM and eSNCM - interesting.\n",
    "#from here on out, should keep doing the steps for v4 and v9\n",
    "for mft in [\"CM\", \"GNCM\", \"pSNCM\", \"eSNCM\"]:\n",
    "    print(\n",
    "        asv_taxo_mft_18Sv4.loc[asv_taxo_mft_18Sv4[\"MFT\"] == mft].shape,\n",
    "        asv_taxo_mft_18Sv9.loc[asv_taxo_mft_18Sv9[\"MFT\"] == mft].shape,\n",
    "    )\n",
    "#test.loc[ [\"Dinophysis_ac\" in name for name in test[\"most_specific_name\"] ] ]"
   ]
  },
  {
   "cell_type": "code",
   "execution_count": 23,
   "id": "17f391f9",
   "metadata": {},
   "outputs": [],
   "source": [
    "asv_freqs_18Sv4.to_csv(\"01_out_asv_proportions_18Sv4.tsv\", sep = \"\\t\")\n",
    "asv_freqs_18Sv9.to_csv(\"01_out_asv_proportions_18Sv9.tsv\", sep = \"\\t\")"
   ]
  },
  {
   "cell_type": "code",
   "execution_count": 24,
   "id": "62794d46",
   "metadata": {},
   "outputs": [],
   "source": [
    "asv_taxo_mft_18Sv4.to_csv(\"01_out_asv_taxo_mft_18Sv4.tsv\", sep = \"\\t\")\n",
    "asv_taxo_mft_18Sv9.to_csv(\"01_out_asv_taxo_mft_18Sv9.tsv\", sep = \"\\t\")"
   ]
  },
  {
   "cell_type": "code",
   "execution_count": 29,
   "id": "a74b5134",
   "metadata": {},
   "outputs": [],
   "source": [
    "env_features_18Sv4.to_csv(\"01_out_env_features_18Sv4.tsv\", sep = \"\\t\")\n",
    "env_features_18Sv9.to_csv(\"01_out_env_features_18Sv9.tsv\", sep = \"\\t\")\n",
    "#index == asv_freqs_18Sv4.columns).all()"
   ]
  },
  {
   "cell_type": "code",
   "execution_count": 30,
   "id": "93c88bd1",
   "metadata": {},
   "outputs": [
    {
     "data": {
      "text/plain": [
       "(True, True)"
      ]
     },
     "execution_count": 30,
     "metadata": {},
     "output_type": "execute_result"
    }
   ],
   "source": [
    "(env_features_18Sv4.index == asv_freqs_18Sv4.columns).all(),\\\n",
    "(env_features_18Sv9.index == asv_freqs_18Sv9.columns).all()"
   ]
  },
  {
   "cell_type": "code",
   "execution_count": 22,
   "id": "292c3508",
   "metadata": {},
   "outputs": [],
   "source": [
    "#raw counts shouldn't include samples without metadata: \n",
    "#the metric used to eliminate some samples from asv_freqs and env_features\n",
    "raw_asv_counts_18Sv4[env_features_18Sv4.index].to_csv(\"01_out_raw_asv_counts_18Sv4.tsv\",\n",
    "                                                      sep = \"\\t\", index = True)\n",
    "raw_asv_counts_18Sv9[env_features_18Sv9.index].to_csv(\"01_out_raw_asv_counts_18Sv9.tsv\",\n",
    "                                                      sep = \"\\t\", index = True)"
   ]
  },
  {
   "cell_type": "markdown",
   "id": "39e57e06",
   "metadata": {},
   "source": [
    "### Try log ratios?"
   ]
  },
  {
   "cell_type": "markdown",
   "id": "e7eb7753",
   "metadata": {},
   "source": [
    "### Mixo_only features"
   ]
  },
  {
   "cell_type": "code",
   "execution_count": 85,
   "id": "a42af77a",
   "metadata": {},
   "outputs": [],
   "source": [
    "def add_species_asvs(series, frequencies, taxonomies):\n",
    "    #series.name lists required species\n",
    "    current_species = series.name\n",
    "    asv_mask = taxonomies[\"most_specific_name\"].str.match(current_species)\n",
    "    matching_asvs = taxonomies.loc[asv_mask].index\n",
    "    matching_asv_frequencies = frequencies.loc[matching_asvs]\n",
    "    return matching_asv_frequencies.apply(sum, axis = 0)\n",
    "    #assert(False)"
   ]
  },
  {
   "cell_type": "code",
   "execution_count": 88,
   "id": "5f9b7f8a",
   "metadata": {},
   "outputs": [],
   "source": [
    "mixo_species_18Sv4 = asv_taxo_mft_18Sv4.dropna()[\"most_specific_name\"].unique()\n",
    "mixo_species_18Sv9 = asv_taxo_mft_18Sv9.dropna()[\"most_specific_name\"].unique()\n",
    "\n",
    "#Flashweave wants variables to be listed by column. also seems to want integers but we'll see if it really needs\n",
    "#them, if so do CPL norm using Spike 1 & 8 numbers in metadata.\n",
    "mixo_species_freqs_18Sv4 = pd.DataFrame(\n",
    "    np.zeros( ( asv_freqs_18Sv4.columns.size, mixo_species_18Sv4.size ) ),\n",
    "    columns = mixo_species_18Sv4,\n",
    "    index = asv_freqs_18Sv4.columns\n",
    ").apply(add_species_asvs, frequencies = asv_freqs_18Sv4, taxonomies = asv_taxo_mft_18Sv4, axis = 0) #by column\n",
    "\n",
    "mixo_species_freqs_18Sv9 = pd.DataFrame(\n",
    "    np.zeros( ( asv_freqs_18Sv9.columns.size, mixo_species_18Sv9.size ) ),\n",
    "    columns = mixo_species_18Sv9,\n",
    "    index = asv_freqs_18Sv9.columns\n",
    ").apply(add_species_asvs, frequencies = asv_freqs_18Sv9, taxonomies = asv_taxo_mft_18Sv9, axis = 0) #by column\n",
    "\n",
    "#mixo_taxo_asv_18Sv4.loc[ mixo_taxo_asv_18Sv4[\"MFT\"].str.contains(\"GNCM\"), \"most_specific_name\" ].unique()\n",
    "#mixo_taxo_asv_18Sv9.loc[ mixo_taxo_asv_18Sv9[\"MFT\"].str.contains(\"GNCM\"), \"most_specific_name\" ].unique()\n",
    "#display(asv_taxo_mft_18Sv9.loc[ [mft == \"GNCM\" for mft in asv_taxo_mft_18Sv9[\"MFT\"]] ])"
   ]
  },
  {
   "cell_type": "code",
   "execution_count": 101,
   "id": "f5240d6d",
   "metadata": {},
   "outputs": [],
   "source": [
    "#export species frequency tables for flashweave\n",
    "mixo_species_freqs_18Sv4.to_csv(\"_out_mixo_species_freqs_18Sv4_noindex.tsv\", sep = \"\\t\", index=False)\n",
    "mixo_species_freqs_18Sv9.to_csv(\"_out_mixo_species_freqs_18Sv9_noindex.tsv\", sep = \"\\t\", index=False)\n",
    "mixo_species_freqs_18Sv4.to_csv(\"_out_mixo_species_freqs_18Sv4.tsv\", sep = \"\\t\", index=True)\n",
    "mixo_species_freqs_18Sv9.to_csv(\"_out_mixo_species_freqs_18Sv9.tsv\", sep = \"\\t\", index=True)"
   ]
  },
  {
   "cell_type": "markdown",
   "id": "4810dcaf",
   "metadata": {},
   "source": [
    "### **Adding more environmental features - matching HPLC data to NCOG cruises**\n",
    "\n",
    "In many cases it may not be an exact match for the cruise month/depth, so 1) pick the closest option 2) add a flag describing the problem.\n",
    "\n",
    "Need to add 2 extra columns to HPLC data: 1) an \"index\" column which can be left-joined onto other environmental features (specifically join to env_features_18Sv4 and v9 - not to sample_metadata!), or at least contain NULL 2) a \"flag\" column saying if it was an exact match for month/depth or not\n",
    "- **this may not be totally accurate: check the date-times on HPLC data and on the sample_metadata file. they actually do match, or are very close.**\n",
    "\n",
    "want exact match on year, line, station\n",
    "\n",
    "how to keep 2 HPLC samples from matching the exact same NCOG sample? - or, how to replace a worse match witha better one?"
   ]
  },
  {
   "cell_type": "code",
   "execution_count": null,
   "id": "1d1f1217",
   "metadata": {},
   "outputs": [],
   "source": [
    "from datetime import datetime\n",
    "import re"
   ]
  },
  {
   "cell_type": "code",
   "execution_count": null,
   "id": "32cb244c",
   "metadata": {},
   "outputs": [],
   "source": [
    "#this is a comma sep file\n",
    "hplc_data = pd.read_csv(\"input_data_files/High-Performance Liquid Chromatography Pigments (CalCOFI Cruise) subset 2014-2020.csv\",\n",
    "                       #index_col = 0\n",
    "                       )\n",
    "\n",
    "#can't make index_col = 0 because index is actually identical for every row in the same cruise.\n",
    "hplc_data.index = [hplc_data.iloc[i][\"studyName\"] + f\"_s{i}\" for i in range(hplc_data.index.size)]"
   ]
  },
  {
   "cell_type": "code",
   "execution_count": null,
   "id": "8c7a6699",
   "metadata": {},
   "outputs": [],
   "source": [
    "datetime(year = 2014, month = 5, day = 6, hour = 23, minute = 23, second = 23) \\\n",
    "- datetime(year = 2014, month = 5, day = 6, hour = 23, minute = 23, second = 22)"
   ]
  },
  {
   "cell_type": "code",
   "execution_count": null,
   "id": "556f2a37",
   "metadata": {},
   "outputs": [],
   "source": [
    "#if no match, re.match gives None\n",
    "re.match(\"[0-9]{4}-[0-9]{2}-[0-9]{2} [0-9]{2}:[0-9]{2}:[0-9]{2}\",\n",
    "         \"2014-01-29 05:11:05\"),\\\n",
    "re.match(\"[0-9]{,2}/[0-9]{,2}/[0-9]{4} [0-9]{,2}:[0-9]{2}\",\n",
    "         \"1/29/2014 18:30\")"
   ]
  },
  {
   "cell_type": "code",
   "execution_count": null,
   "id": "d9edfa5c",
   "metadata": {},
   "outputs": [],
   "source": [
    "def convert_datetime_ncog(datetime_str):\n",
    "    #some of this might be NA or wrong format: if so, return a flag that will end main method early\n",
    "    if type(datetime_str) != str \\\n",
    "    or re.match(\"[0-9]{,2}/[0-9]{,2}/[0-9]{4} [0-9]{,2}:[0-9]{2}\", datetime_str) == None:\n",
    "        return -1\n",
    "    \n",
    "    #otherwise, break according to format \"1/29/2014 18:30\"\n",
    "    month, day, year, hour, minute = (int(s) for s in re.split(\"/| |:\", datetime_str))\n",
    "    return datetime(year=year, month=month, day=day, hour=hour, minute=minute)"
   ]
  },
  {
   "cell_type": "raw",
   "id": "172e0556",
   "metadata": {},
   "source": [
    "#this method is actually not necessary since the HPLC dates are already in \"isoformat\", can be converted to datetime objects with default constructor\n",
    "\n",
    "def convert_datetime_hplc(datetime_str):\n",
    "    #some of this might be NA or wrong format: if so, return a flag that will end main method early\n",
    "    if type(datetime_str) != str \\\n",
    "    or re.match(\"[0-9]{4}-[0-9]{2}-[0-9]{2} [0-9]{2}:[0-9]{2}:[0-9]{2}\", datetime_str) == None:\n",
    "        return -1\n",
    "    \n",
    "    #otherwise, break according to format \"2014-01-29 05:11:05\", convert each substr to int\n",
    "    year, month, day, hour, minute, second = (int(s) for s in re.split(\"-| |:\", datetime_str))\n",
    "    return datetime(year=year, month=month, day=day, hour=hour, minute=minute, second=second)\n",
    "\n",
    "#good so none of these dates have been knocked out\n",
    "sum(hplc_data[\"Datetime GMT\"].apply(datetime.fromisoformat) == -1)"
   ]
  },
  {
   "cell_type": "code",
   "execution_count": null,
   "id": "edbc4115",
   "metadata": {},
   "outputs": [],
   "source": [
    "abs_delta = abs(hplc_data[\"Datetime GMT\"].apply(datetime.fromisoformat) - convert_datetime_ncog(\"1/29/2014 18:30\"))\n",
    "sum([delta.total_seconds() < 3*3600 for delta in abs_delta])"
   ]
  },
  {
   "cell_type": "code",
   "execution_count": null,
   "id": "2e887b88",
   "metadata": {},
   "outputs": [],
   "source": [
    "#sorting key for timedelta objects automatically sorts the smallest deltas first!\n",
    "abs_delta.sort_values()"
   ]
  },
  {
   "cell_type": "code",
   "execution_count": null,
   "id": "93168275",
   "metadata": {},
   "outputs": [],
   "source": [
    "#fill dataframe\n",
    "def match_ncog_hplc_indices(row):\n",
    "    \"\"\"Point of this method is less to match hplc data exactly with DNA extraction \n",
    "    (they might have just not happened at the same time), but to match with an hplc sample\n",
    "    that is as representative as possible of the location, depth, and time that DNA extraction happened\"\"\"\n",
    "    #name of each row in env_features is an ncog index\n",
    "    ncog_index = row.name\n",
    "    #assuming that line comes first...\n",
    "    ncog_line, ncog_station = (float(s) for s in sample_metadata.loc[ncog_index, \"Sta_ID\"].split(\" \"))\n",
    "    #depth.... just be within 5 (?) meters, try with \"Bottle_Depth\" and \"Depthm\".\n",
    "    ncog_depth = sample_metadata.loc[ncog_index, \"Bottle_Depth\"]\n",
    "    \n",
    "    #selection from hplc_data: \n",
    "    #matches line and station exactly... within 5m of depth\n",
    "    subset_mask = [hplc_data.loc[index, \"Line\"] == ncog_line \\\n",
    "                   and hplc_data.loc[index, \"Station\"] == ncog_station \\\n",
    "                   and abs(hplc_data.loc[index, \"Depth (m)\"] - ncog_depth) < 15 \\\n",
    "                  for index in hplc_data.index]\n",
    "    #subset the relevant hplc_rows: those in correct location and depth\n",
    "    hplc_subset = hplc_data.loc[subset_mask]\n",
    "    \n",
    "    #print(ncog_index, ncog_line, ncog_depth)\n",
    "    #print(hplc_subset[[\"Line\", \"Station\", \"Depth (m)\"]])\n",
    "    \n",
    "    #convert datetime to datetime.datetime, but only if it is valid input\n",
    "    #if datetime is valid, convert\n",
    "    ncog_datetime = convert_datetime_ncog(datetime_str=sample_metadata.loc[ncog_index, \"DateTime\"])\n",
    "    if ncog_datetime == -1 or hplc_subset.empty:\n",
    "        return row #new row = original row, unaltered\n",
    "    \n",
    "    #rank hplc rows by how close the datetimes are: the best option will be assigned, unless \n",
    "    #it's already in the dataframe, in which case we assign the second best or etc. option;\n",
    "    #do not consider any options that are more than 4 hours away from ncog_datetime\n",
    "    ranked_abs_delta = abs(hplc_subset[\"Datetime GMT\"].apply(datetime.fromisoformat) - ncog_datetime).sort_values()\n",
    "    \n",
    "    #print(ranked_abs_delta)\n",
    "    \n",
    "    #for each HPLC entry in this ranked subset:\n",
    "    for hplc_index in ranked_abs_delta.index:\n",
    "        #if the entry is 4 hours or more away from the current ncog entry, discard\n",
    "        abs_delta = ranked_abs_delta.loc[hplc_index] \n",
    "        if abs_delta.total_seconds() > 4*3600:\n",
    "            return row #new row = original row, no HPLC entry found\n",
    "        #if not, is hplc_index already used elsewhere? this is the same as asking for a diff. row\n",
    "        #of the current frame's column but there's no way of knowing that. at some point if the depth,\n",
    "        #time, etc all match then you should just go for it\n",
    "        #if hplc_index in join_env_features_18Sv4[\"HPLC_index\"]:\n",
    "        #    continue\n",
    "        #else:\n",
    "        row_iloc = int(re.split(\"_s\", hplc_index)[1]) #extracts the row # from ID string\n",
    "        return pd.Series([hplc_index] + list(hplc_data.iloc[row_iloc,12:]),\n",
    "                        index = row.index) #new row includes HPLC index\n",
    "\n",
    "pigment_columns = [\"HPLC_index\"] + list(hplc_data.iloc[:,12:].columns.values)\n",
    "\n",
    "#prepare blank dataframe to fill\n",
    "pigment_features_18Sv4 = pd.DataFrame(np.zeros( (env_features_18Sv4.index.size, len(pigment_columns)), dtype=str ), \n",
    "                                        index = env_features_18Sv4.index,\n",
    "                                        columns = pigment_columns)\n",
    "pigment_features_18Sv9 = pd.DataFrame(np.zeros( (env_features_18Sv9.index.size, len(pigment_columns)), dtype=str ), \n",
    "                                        index = env_features_18Sv9.index,\n",
    "                                        columns = pigment_columns)"
   ]
  },
  {
   "cell_type": "raw",
   "id": "f02371d5",
   "metadata": {},
   "source": [
    "#more individual test cases.\n",
    "match_ncog_hplc_indices(pigment_features_18Sv4.loc[\"X202001_090.0_120.0_87\"])"
   ]
  },
  {
   "cell_type": "markdown",
   "id": "167b873b",
   "metadata": {},
   "source": [
    "### Investigating the samples that couldn't be paired\n",
    "\n",
    "Seem to be cases where NCOG molecular sampling happened and HPLC didn't, on particular lines/stations during particular cruises, or at particular depths.\n",
    "\n",
    "Consider cases like \"X201402_093.3_030.0_10\". Even where there is a corresponding entry in pigment dataset, Peridinin features are NaN.\n",
    "\n",
    "Might be better to not use these as features or to only do so on the tree models."
   ]
  },
  {
   "cell_type": "code",
   "execution_count": null,
   "id": "54bb4b8e",
   "metadata": {},
   "outputs": [],
   "source": [
    "#apply function with whole series\n",
    "pigment_features_18Sv4 = pigment_features_18Sv4.apply(match_ncog_hplc_indices, axis = 1)\n",
    "pigment_features_18Sv9 = pigment_features_18Sv9.apply(match_ncog_hplc_indices, axis = 1)\n",
    "#can then join columns of hplc_data to this provisional dataframe along \"HPLC_index\", then join that to env_features...?\n",
    "\n",
    "#large minority of samples still have no secondary pigments matched... more individual test cases needed.\n",
    "sum(pigment_features_18Sv9[\"HPLC_index\"] == \"\"), pigment_features_18Sv9.index.size,\\\n",
    "sum(pigment_features_18Sv4[\"HPLC_index\"] == \"\"), pigment_features_18Sv4.index.size"
   ]
  },
  {
   "cell_type": "code",
   "execution_count": null,
   "id": "5cf9f43a",
   "metadata": {},
   "outputs": [],
   "source": [
    "#(this is a series and has an index: pigment_features_18Sv9[\"HPLC_index\"] == \"\"\n",
    "#sample_metadata.loc[(pigment_features_18Sv9[\"HPLC_index\"] == \"\").index, \"Sta_ID\"].unique()\n",
    "\n",
    "#line and cruise numbers for NCOG samples which were never paired with pigment data\n",
    "#.loc can only be used on a frame of the same size, from that can extract index of varying sizes, and finally\n",
    "#a list of varying lengths\n",
    "unpaired_row_ids = pigment_features_18Sv9.loc[(pigment_features_18Sv9[\"HPLC_index\"] == \"\")].index.values\n",
    "\n",
    "line_numbers = sample_metadata.loc[unpaired_row_ids, \"Sta_ID\"].apply(\n",
    "    lambda x: float(x.split(\" \")[0]))\n",
    "station_numbers = sample_metadata.loc[unpaired_row_ids, \"Sta_ID\"].apply(\n",
    "    lambda x: float(x.split(\" \")[1]))\n",
    "cruisenums = sample_metadata.loc[unpaired_row_ids, \"Cruise\"]\n",
    "\n",
    "for cruise in cruisenums.unique():\n",
    "    cruise_line_numbers = line_numbers.loc[(cruisenums == cruise)]\n",
    "    cruise_st_numbers = station_numbers.loc[(cruisenums == cruise)]\n",
    "    print(cruise, cruise_line_numbers.sort_values().unique())\n",
    "    print(cruise, cruise_st_numbers.sort_values().unique())\n",
    "    \n",
    "\n",
    "#cruisenums = sample_metadata.loc[(pigment_features_18Sv9[\"HPLC_index\"] == \"\").index, \"Cruise\"]\n",
    "\n",
    "#pd.DataFrame({\n",
    "#    \"line#\":line_numbers,\n",
    "#    \"cruise#\":cruisenums\n",
    "#}).drop_duplicates()\n",
    "#.unique()"
   ]
  },
  {
   "cell_type": "code",
   "execution_count": null,
   "id": "610c79bb",
   "metadata": {},
   "outputs": [],
   "source": [
    "mask = [sample_metadata.loc[index, \"Cruise\"] == 201402 \n",
    "        and sample_metadata.loc[index, \"Sta_ID\"].split(\" \")[0] == \"093.3\"\n",
    "        and sample_metadata.loc[index, \"Sta_ID\"].split(\" \")[1] == \"030.0\"\n",
    "        for index in sample_metadata.index]\n",
    "with pd.option_context(\"display.max_columns\", None):\n",
    "    display(sample_metadata.loc[mask])"
   ]
  },
  {
   "cell_type": "code",
   "execution_count": null,
   "id": "9cdc2dd4",
   "metadata": {},
   "outputs": [],
   "source": [
    "#Line \n",
    "with pd.option_context(\"display.max_columns\", None):\n",
    "    display(hplc_data.loc[[\n",
    "    hplc_data.loc[index, \"studyName\"][:7] in [\"2014-01\"]\n",
    "    and \n",
    "    hplc_data.loc[index, \"Line\"] in [93.3]\n",
    "    and hplc_data.loc[index, \"Station\"] == 30.0\n",
    "    for index in hplc_data.index]])"
   ]
  },
  {
   "cell_type": "code",
   "execution_count": null,
   "id": "a43b581f",
   "metadata": {},
   "outputs": [],
   "source": [
    "#pigment_features_18Sv4.loc[pigment_features_18Sv4[\"HPLC_index\"] == \"\"]\n",
    "pigment_features_18Sv4.loc[\"X201402_093.3_030.0_10\"]"
   ]
  },
  {
   "cell_type": "markdown",
   "id": "8e09d15a",
   "metadata": {},
   "source": [
    "**Per sample species proportions - defunct section**\n",
    "\n",
    "Don't actually need all these to be calculated ahead of time, can select the asvs matching \"most specific name\" we want for desired species later"
   ]
  },
  {
   "cell_type": "raw",
   "id": "0e937ffa",
   "metadata": {},
   "source": [
    "unique_species_18Sv4 = asv_taxo_mft_18Sv4[\"most_specific_name\"].unique()\n",
    "species_proportions_18Sv4 = pd.DataFrame(\n",
    "    #blank dataframe with set shape, index, and columns\n",
    "    np.zeros((len(env_features_18Sv4.index), len(unique_species_18Sv4))),\n",
    "    index=env_features_18Sv4.index,\n",
    "    columns=unique_species_18Sv4\n",
    ")\n",
    "species_proportions_18Sv4"
   ]
  },
  {
   "cell_type": "raw",
   "id": "585b246e",
   "metadata": {},
   "source": [
    "#update along rows or along cols? say it's cols. then name is a species and index is each sample.\n",
    "def sum_species(col, freqs, taxo_mft):\n",
    "    \"\"\"Returns a col sum (collapses rows and preserves columns) in asv_freqs. Rows selected according to species\n",
    "    in col.name\"\"\"\n",
    "    #taxo_mft and freqs have the exact same index, this was guaranteed in an earlier step\n",
    "    row_mask = taxo_mft[\"most_specific_name\"] == col.name\n",
    "    col_sum = freqs.loc[ row_mask ].apply(sum, axis = 0)\n",
    "    return col_sum\n",
    "\n",
    "species_proportions_18Sv9 = species_proportions_18Sv9.apply(sum_species, \n",
    "                                                            freqs=asv_freqs_18Sv9, \n",
    "                                                            taxo_mft = asv_taxo_mft_18Sv9)\n",
    "species_proportions_18Sv4 = species_proportions_18Sv4.apply(sum_species, \n",
    "                                                            freqs=asv_freqs_18Sv4, \n",
    "                                                            taxo_mft = asv_taxo_mft_18Sv4)"
   ]
  },
  {
   "cell_type": "raw",
   "id": "4098ec96",
   "metadata": {},
   "source": [
    "mft_proportions_18Sv9 = pd.DataFrame(\n",
    "    np.zeros((len(env_features_18Sv9) , 4)),\n",
    "    index = env_features_18Sv9.index,\n",
    "    columns = [\"CM\", \"GNCM\", \"pSNCM\", \"eSNCM\"]\n",
    ")\n",
    "\n",
    "mft_proportions_18Sv4 = pd.DataFrame(\n",
    "    np.zeros((len(env_features_18Sv4) , 4)),\n",
    "    index = env_features_18Sv4.index,\n",
    "    columns = [\"CM\", \"GNCM\", \"pSNCM\", \"eSNCM\"]\n",
    ")\n",
    "#asv_taxo_mft_18Sv4[\"MFT\"].unique(),\\\n",
    "#asv_taxo_mft_18Sv9[\"MFT\"].unique()\n",
    "#mft_proportions_18Sv9"
   ]
  },
  {
   "cell_type": "raw",
   "id": "f7795cf7",
   "metadata": {},
   "source": [
    "def sum_mft(col, freqs, taxo_mft):\n",
    "    \"\"\"Returns a col sum (collapses rows and preserves columns) in asv_freqs. Rows selected according to MFT\n",
    "    in col.name\"\"\"\n",
    "    #taxo_mft and freqs have the exact same index, this was guaranteed in an earlier step\n",
    "    row_mask = taxo_mft[\"MFT\"] == col.name\n",
    "    col_sum = freqs.loc[ row_mask ].apply(sum, axis = 0)\n",
    "    return col_sum\n",
    "\n",
    "mft_proportions_18Sv9 = mft_proportions_18Sv9.apply(sum_mft, \n",
    "                                                    freqs=asv_freqs_18Sv9, \n",
    "                                                    taxo_mft = asv_taxo_mft_18Sv9)\n",
    "mft_proportions_18Sv4 = mft_proportions_18Sv4.apply(sum_mft, \n",
    "                                                    freqs=asv_freqs_18Sv4, \n",
    "                                                    taxo_mft = asv_taxo_mft_18Sv4)"
   ]
  },
  {
   "cell_type": "raw",
   "id": "2406a3ad",
   "metadata": {},
   "source": [
    "mft_proportions_18Sv9"
   ]
  },
  {
   "cell_type": "markdown",
   "id": "1d9de5de",
   "metadata": {},
   "source": [
    "### **Extracting dino-only species proportions and MFT proportions**\n",
    "\n",
    "Should be able to use the same methods as for all species."
   ]
  },
  {
   "cell_type": "raw",
   "id": "a58c3fc7",
   "metadata": {},
   "source": [
    "dino_asv_taxo_mft_18Sv4 = asv_taxo_mft_18Sv4.loc[\n",
    "    [\"Dinoflagellata\" in taxon for taxon in asv_taxo_mft_18Sv4[\"Taxon\"]]\n",
    "]\n",
    "#each of these tables needs to have proportions sum to 1, in order to calculate diversity for just this subset.\n",
    "dino_asv_freqs_18Sv4 = asv_freqs_18Sv4.loc[dino_asv_taxo_mft_18Sv4.index].apply(\n",
    "    proportional_frequencies,axis = 0)\n",
    "\n",
    "dino_asv_taxo_mft_18Sv9 = asv_taxo_mft_18Sv9.loc[\n",
    "    [\"Dinoflagellata\" in taxon for taxon in asv_taxo_mft_18Sv9[\"Taxon\"]]\n",
    "]\n",
    "dino_asv_freqs_18Sv9 = asv_freqs_18Sv9.loc[dino_asv_taxo_mft_18Sv9.index].apply(\n",
    "    proportional_frequencies,axis = 0)"
   ]
  },
  {
   "cell_type": "raw",
   "id": "77dc0196",
   "metadata": {},
   "source": [
    "#species proportions: subset from larger table, but then proportions need to add to 1. \n",
    "#apply a rescale to each column\n",
    "dino_unique_species_18Sv4 = dino_asv_taxo_mft_18Sv4[\"most_specific_name\"].unique()\n",
    "dino_species_proportions_18Sv4 = species_proportions_18Sv4[dino_unique_species_18Sv4].apply(\n",
    "    proportional_frequencies, axis = 0)\n",
    "\n",
    "dino_unique_species_18Sv9 = dino_asv_taxo_mft_18Sv9[\"most_specific_name\"].unique()\n",
    "dino_species_proportions_18Sv9 = species_proportions_18Sv9[dino_unique_species_18Sv9].apply(\n",
    "    proportional_frequencies, axis = 0)\n",
    "\n",
    "dino_species_proportions_18Sv9.apply(sum, axis = 0)"
   ]
  },
  {
   "cell_type": "raw",
   "id": "4966f2f6",
   "metadata": {},
   "source": [
    "#dino-only MFT proportions\n",
    "#prepare blank dataframes\n",
    "\n",
    "dino_mft_proportions_18Sv4 = pd.DataFrame(\n",
    "    np.zeros((len(env_features_18Sv4) , 4)),\n",
    "    index = env_features_18Sv4.index,\n",
    "    columns = [\"CM\", \"GNCM\", \"pSNCM\", \"eSNCM\"]\n",
    ")\n",
    "\n",
    "dino_mft_proportions_18Sv9 = pd.DataFrame(\n",
    "    np.zeros((len(env_features_18Sv9) , 4)),\n",
    "    index = env_features_18Sv9.index,\n",
    "    columns = [\"CM\", \"GNCM\", \"pSNCM\", \"eSNCM\"]\n",
    ")\n",
    "\n",
    "dino_mft_proportions_18Sv4 = dino_mft_proportions_18Sv4.apply(sum_mft, \n",
    "                                                    freqs=dino_asv_freqs_18Sv4, \n",
    "                                                    taxo_mft = dino_asv_taxo_mft_18Sv4)\n",
    "\n",
    "dino_mft_proportions_18Sv9 = dino_mft_proportions_18Sv9.apply(sum_mft, \n",
    "                                                    freqs=dino_asv_freqs_18Sv9, \n",
    "                                                    taxo_mft = dino_asv_taxo_mft_18Sv9)"
   ]
  },
  {
   "cell_type": "raw",
   "id": "75fcadf9",
   "metadata": {},
   "source": [
    "#add shannon column to each eco_features table\n",
    "#should have dropped empty columns from the original asv_freqs objects? \n",
    "    #there's only 1 or 2...\n",
    "    #but they don't have any information, right?\n",
    "    \n",
    "#left join species & mft proportions on index; they all have same index\n",
    "eco_features_18Sv4 = pd.DataFrame({\n",
    "    \"all_asv_shannon\" : asv_freqs_18Sv4.apply(shannon_index, axis = 0),\n",
    "    #summed proportion of dino ASVs, can add for other classes\n",
    "    \"all_dino_proportion\" : asv_freqs_18Sv4.loc[[\n",
    "        \"Dinoflagellata\" in taxon for taxon in asv_taxo_mft_18Sv4[\"Taxon\"]\n",
    "    ]].apply(sum, axis = 0)\n",
    "}, index = species_proportions_18Sv4.index)\\\n",
    ".join(species_proportions_18Sv4).join(mft_proportions_18Sv4)\n",
    "\n",
    "eco_features_18Sv9 = pd.DataFrame({\n",
    "    \"all_asv_shannon\" : asv_freqs_18Sv9.apply(shannon_index, axis = 0),\n",
    "    \"all_dino_proportion\" : asv_freqs_18Sv9.loc[[\n",
    "        \"Dinoflagellata\" in taxon for taxon in asv_taxo_mft_18Sv9[\"Taxon\"]\n",
    "    ]].apply(sum, axis = 0)\n",
    "}, index = species_proportions_18Sv9.index\n",
    ").join(species_proportions_18Sv9).join(mft_proportions_18Sv9)\n",
    "\n",
    "#don't mix up dino and all_asv features, they are proportions of different wholes \n",
    "#(dino_asv_freqs and species_freqs have both been readjusted)\n",
    "dino_eco_features_18Sv4 = pd.DataFrame({\n",
    "    \"dino_shannon\" : dino_asv_freqs_18Sv4.apply(shannon_index),\n",
    "    \"dino_CM_shannon\" : dino_asv_freqs_18Sv4.loc[dino_asv_taxo_mft_18Sv4[\"MFT\"] == \"CM\"].apply(shannon_index)\n",
    "},index = dino_species_proportions_18Sv4.index\n",
    ").join(dino_mft_proportions_18Sv4).join(dino_species_proportions_18Sv4)\n",
    "\n",
    "dino_eco_features_18Sv9 = pd.DataFrame({\n",
    "    \"dino_shannon\" : dino_asv_freqs_18Sv9.apply(shannon_index),\n",
    "    \"dino_CM_shannon\" : dino_asv_freqs_18Sv9.loc[dino_asv_taxo_mft_18Sv9[\"MFT\"] == \"CM\"].apply(shannon_index)\n",
    "},index = dino_species_proportions_18Sv9.index\n",
    ").join(dino_mft_proportions_18Sv9).join(dino_species_proportions_18Sv9)"
   ]
  },
  {
   "cell_type": "markdown",
   "id": "89054583",
   "metadata": {},
   "source": [
    "### **Alpha diversity & \"composability\" of pandas & helper functions**\n",
    "\n",
    "Want to apply different diversity scores to different datasets? Generate dataset by transforming the basic data then apply desired function. Mix & match different row selector lists & apply functions to resulting subsets.\n",
    "\n",
    "Faith PD over ASVs for: dino ASVs. (Genetic saturation: distance trees not as effective for more distantly related organisms)\n",
    "Shannon over ASVs for: all ASVs, dino ASVs.\n",
    "\n",
    "Shannon diversity function defined in \"helper_functions.py\"."
   ]
  },
  {
   "cell_type": "code",
   "execution_count": 45,
   "id": "1578dcaf",
   "metadata": {},
   "outputs": [],
   "source": [
    "#can start doing some introductory analysis\n",
    "#make a scatterplot of all ASV shannon, dino shannon, and dino CM shannon against... \n",
    "#idk for the first two it should be pan-dino proportion of all ASVs and for dino CM it can be CM proportion of all dinos\n",
    "import matplotlib.pyplot as plt\n",
    "%matplotlib inline"
   ]
  },
  {
   "cell_type": "code",
   "execution_count": 46,
   "id": "261d536a",
   "metadata": {},
   "outputs": [],
   "source": [
    "#selects only ASVs which were classified (Naive Bayes) as CM dinoflagellate species.\n",
    "dino_mask_18Sv4 = [\"Dinoflagellata\" in asv_taxo_mft_18Sv4.loc[asv, \"Taxon\"] for asv in asv_taxo_mft_18Sv4.index]\n",
    "CM_mask_18Sv4 = asv_taxo_mft_18Sv4[\"MFT\"] == \"CM\"\n",
    "\n",
    "dino_mask_18Sv9 = [\"Dinoflagellata\" in asv_taxo_mft_18Sv9.loc[asv, \"Taxon\"] for asv in asv_taxo_mft_18Sv9.index]\n",
    "CM_mask_18Sv9 = asv_taxo_mft_18Sv9[\"MFT\"] == \"CM\""
   ]
  },
  {
   "cell_type": "code",
   "execution_count": 47,
   "id": "df971065",
   "metadata": {},
   "outputs": [
    {
     "ename": "IndexError",
     "evalue": "Boolean index has wrong length: 34500 instead of 34496",
     "output_type": "error",
     "traceback": [
      "\u001b[0;31m---------------------------------------------------------------------------\u001b[0m",
      "\u001b[0;31mIndexError\u001b[0m                                Traceback (most recent call last)",
      "Cell \u001b[0;32mIn[47], line 2\u001b[0m\n\u001b[1;32m      1\u001b[0m response_features_18Sv4 \u001b[38;5;241m=\u001b[39m pd\u001b[38;5;241m.\u001b[39mDataFrame({\n\u001b[0;32m----> 2\u001b[0m     \u001b[38;5;124m\"\u001b[39m\u001b[38;5;124mwithin_dino_CM_diversity\u001b[39m\u001b[38;5;124m\"\u001b[39m : \u001b[43masv_freqs_18Sv4\u001b[49m\u001b[38;5;241;43m.\u001b[39;49m\u001b[43mloc\u001b[49m\u001b[43m[\u001b[49m\u001b[43mdino_mask_18Sv4\u001b[49m\u001b[43m]\u001b[49m \u001b[38;5;66;03m#select only the rows corresponding to dinos\u001b[39;00m\n\u001b[1;32m      3\u001b[0m                                     \u001b[38;5;241m.\u001b[39mapply(proportional_frequencies, axis \u001b[38;5;241m=\u001b[39m \u001b[38;5;241m0\u001b[39m) \u001b[38;5;66;03m#rescale proportions in terms of dinos only\u001b[39;00m\n\u001b[1;32m      4\u001b[0m                                     \u001b[38;5;241m.\u001b[39mloc[CM_mask_18Sv4] \u001b[38;5;66;03m#select only the rows corresponding to CMs\u001b[39;00m\n\u001b[1;32m      5\u001b[0m                                     \u001b[38;5;241m.\u001b[39mapply(shannon_index), \u001b[38;5;66;03m#per sample shannon index\u001b[39;00m\n\u001b[1;32m      6\u001b[0m     \u001b[38;5;124m\"\u001b[39m\u001b[38;5;124mwithin_dino_CM_percent\u001b[39m\u001b[38;5;124m\"\u001b[39m : asv_freqs_18Sv4\u001b[38;5;241m.\u001b[39mloc[dino_mask_18Sv4]\n\u001b[1;32m      7\u001b[0m                                 \u001b[38;5;241m.\u001b[39mapply(proportional_frequencies, axis \u001b[38;5;241m=\u001b[39m \u001b[38;5;241m0\u001b[39m)\n\u001b[1;32m      8\u001b[0m                                 \u001b[38;5;241m.\u001b[39mloc[CM_mask_18Sv4]\n\u001b[1;32m      9\u001b[0m                                 \u001b[38;5;241m.\u001b[39mapply(\u001b[38;5;28msum\u001b[39m, axis \u001b[38;5;241m=\u001b[39m \u001b[38;5;241m0\u001b[39m) \u001b[38;5;241m*\u001b[39m \u001b[38;5;241m100\u001b[39m, \u001b[38;5;66;03m#per sample sum of frequencies * 100%\u001b[39;00m\n\u001b[1;32m     10\u001b[0m     \u001b[38;5;124m\"\u001b[39m\u001b[38;5;124mwithin_sample_dino_CM_percent\u001b[39m\u001b[38;5;124m\"\u001b[39m : asv_freqs_18Sv4\u001b[38;5;241m.\u001b[39mloc[dino_mask_18Sv4 \u001b[38;5;129;01mand\u001b[39;00m CM_mask_18Sv4]\n\u001b[1;32m     11\u001b[0m                                         \u001b[38;5;241m.\u001b[39mapply(\u001b[38;5;28msum\u001b[39m, axis \u001b[38;5;241m=\u001b[39m \u001b[38;5;241m0\u001b[39m) \u001b[38;5;241m*\u001b[39m \u001b[38;5;241m100\u001b[39m,\n\u001b[1;32m     12\u001b[0m     \u001b[38;5;124m\"\u001b[39m\u001b[38;5;124mwithin_dino_diversity\u001b[39m\u001b[38;5;124m\"\u001b[39m : asv_freqs_18Sv4\u001b[38;5;241m.\u001b[39mloc[dino_mask_18Sv4]\n\u001b[1;32m     13\u001b[0m                                 \u001b[38;5;241m.\u001b[39mapply(proportional_frequencies, axis \u001b[38;5;241m=\u001b[39m \u001b[38;5;241m0\u001b[39m)\n\u001b[1;32m     14\u001b[0m                                 \u001b[38;5;241m.\u001b[39mapply(shannon_index, axis \u001b[38;5;241m=\u001b[39m \u001b[38;5;241m0\u001b[39m),\n\u001b[1;32m     15\u001b[0m     \u001b[38;5;124m\"\u001b[39m\u001b[38;5;124mwithin_sample_dino_percent\u001b[39m\u001b[38;5;124m\"\u001b[39m : asv_freqs_18Sv4\u001b[38;5;241m.\u001b[39mloc[dino_mask_18Sv4]\u001b[38;5;241m.\u001b[39mapply(\u001b[38;5;28msum\u001b[39m, axis \u001b[38;5;241m=\u001b[39m \u001b[38;5;241m0\u001b[39m) \u001b[38;5;241m*\u001b[39m \u001b[38;5;241m100\u001b[39m\n\u001b[1;32m     16\u001b[0m \n\u001b[1;32m     17\u001b[0m }, index \u001b[38;5;241m=\u001b[39m asv_freqs_18Sv4\u001b[38;5;241m.\u001b[39mcolumns)\n\u001b[1;32m     19\u001b[0m response_features_18Sv9 \u001b[38;5;241m=\u001b[39m pd\u001b[38;5;241m.\u001b[39mDataFrame({\n\u001b[1;32m     20\u001b[0m     \u001b[38;5;124m\"\u001b[39m\u001b[38;5;124mwithin_dino_CM_diversity\u001b[39m\u001b[38;5;124m\"\u001b[39m : asv_freqs_18Sv9\u001b[38;5;241m.\u001b[39mloc[dino_mask_18Sv9] \u001b[38;5;66;03m#select only the rows corresponding to dinos\u001b[39;00m\n\u001b[1;32m     21\u001b[0m                                     \u001b[38;5;241m.\u001b[39mapply(proportional_frequencies, axis \u001b[38;5;241m=\u001b[39m \u001b[38;5;241m0\u001b[39m) \u001b[38;5;66;03m#rescale proportions in terms of dinos only\u001b[39;00m\n\u001b[0;32m   (...)\u001b[0m\n\u001b[1;32m     33\u001b[0m     \u001b[38;5;124m\"\u001b[39m\u001b[38;5;124mwithin_sample_dino_percent\u001b[39m\u001b[38;5;124m\"\u001b[39m : asv_freqs_18Sv9\u001b[38;5;241m.\u001b[39mloc[dino_mask_18Sv9]\u001b[38;5;241m.\u001b[39mapply(\u001b[38;5;28msum\u001b[39m, axis \u001b[38;5;241m=\u001b[39m \u001b[38;5;241m0\u001b[39m) \u001b[38;5;241m*\u001b[39m \u001b[38;5;241m100\u001b[39m\n\u001b[1;32m     34\u001b[0m }, index \u001b[38;5;241m=\u001b[39m asv_freqs_18Sv9\u001b[38;5;241m.\u001b[39mcolumns)\n",
      "File \u001b[0;32m/tscc/projects/ps-allenlab/projdata/common/programs/miniconda3/envs/qiime2-2023.9/lib/python3.8/site-packages/pandas/core/indexing.py:1073\u001b[0m, in \u001b[0;36m_LocationIndexer.__getitem__\u001b[0;34m(self, key)\u001b[0m\n\u001b[1;32m   1070\u001b[0m axis \u001b[38;5;241m=\u001b[39m \u001b[38;5;28mself\u001b[39m\u001b[38;5;241m.\u001b[39maxis \u001b[38;5;129;01mor\u001b[39;00m \u001b[38;5;241m0\u001b[39m\n\u001b[1;32m   1072\u001b[0m maybe_callable \u001b[38;5;241m=\u001b[39m com\u001b[38;5;241m.\u001b[39mapply_if_callable(key, \u001b[38;5;28mself\u001b[39m\u001b[38;5;241m.\u001b[39mobj)\n\u001b[0;32m-> 1073\u001b[0m \u001b[38;5;28;01mreturn\u001b[39;00m \u001b[38;5;28;43mself\u001b[39;49m\u001b[38;5;241;43m.\u001b[39;49m\u001b[43m_getitem_axis\u001b[49m\u001b[43m(\u001b[49m\u001b[43mmaybe_callable\u001b[49m\u001b[43m,\u001b[49m\u001b[43m \u001b[49m\u001b[43maxis\u001b[49m\u001b[38;5;241;43m=\u001b[39;49m\u001b[43maxis\u001b[49m\u001b[43m)\u001b[49m\n",
      "File \u001b[0;32m/tscc/projects/ps-allenlab/projdata/common/programs/miniconda3/envs/qiime2-2023.9/lib/python3.8/site-packages/pandas/core/indexing.py:1292\u001b[0m, in \u001b[0;36m_LocIndexer._getitem_axis\u001b[0;34m(self, key, axis)\u001b[0m\n\u001b[1;32m   1290\u001b[0m     \u001b[38;5;28;01mreturn\u001b[39;00m \u001b[38;5;28mself\u001b[39m\u001b[38;5;241m.\u001b[39m_get_slice_axis(key, axis\u001b[38;5;241m=\u001b[39maxis)\n\u001b[1;32m   1291\u001b[0m \u001b[38;5;28;01melif\u001b[39;00m com\u001b[38;5;241m.\u001b[39mis_bool_indexer(key):\n\u001b[0;32m-> 1292\u001b[0m     \u001b[38;5;28;01mreturn\u001b[39;00m \u001b[38;5;28;43mself\u001b[39;49m\u001b[38;5;241;43m.\u001b[39;49m\u001b[43m_getbool_axis\u001b[49m\u001b[43m(\u001b[49m\u001b[43mkey\u001b[49m\u001b[43m,\u001b[49m\u001b[43m \u001b[49m\u001b[43maxis\u001b[49m\u001b[38;5;241;43m=\u001b[39;49m\u001b[43maxis\u001b[49m\u001b[43m)\u001b[49m\n\u001b[1;32m   1293\u001b[0m \u001b[38;5;28;01melif\u001b[39;00m is_list_like_indexer(key):\n\u001b[1;32m   1294\u001b[0m \n\u001b[1;32m   1295\u001b[0m     \u001b[38;5;66;03m# an iterable multi-selection\u001b[39;00m\n\u001b[1;32m   1296\u001b[0m     \u001b[38;5;28;01mif\u001b[39;00m \u001b[38;5;129;01mnot\u001b[39;00m (\u001b[38;5;28misinstance\u001b[39m(key, \u001b[38;5;28mtuple\u001b[39m) \u001b[38;5;129;01mand\u001b[39;00m \u001b[38;5;28misinstance\u001b[39m(labels, MultiIndex)):\n",
      "File \u001b[0;32m/tscc/projects/ps-allenlab/projdata/common/programs/miniconda3/envs/qiime2-2023.9/lib/python3.8/site-packages/pandas/core/indexing.py:1091\u001b[0m, in \u001b[0;36m_LocationIndexer._getbool_axis\u001b[0;34m(self, key, axis)\u001b[0m\n\u001b[1;32m   1087\u001b[0m \u001b[38;5;129m@final\u001b[39m\n\u001b[1;32m   1088\u001b[0m \u001b[38;5;28;01mdef\u001b[39;00m \u001b[38;5;21m_getbool_axis\u001b[39m(\u001b[38;5;28mself\u001b[39m, key, axis: \u001b[38;5;28mint\u001b[39m):\n\u001b[1;32m   1089\u001b[0m     \u001b[38;5;66;03m# caller is responsible for ensuring non-None axis\u001b[39;00m\n\u001b[1;32m   1090\u001b[0m     labels \u001b[38;5;241m=\u001b[39m \u001b[38;5;28mself\u001b[39m\u001b[38;5;241m.\u001b[39mobj\u001b[38;5;241m.\u001b[39m_get_axis(axis)\n\u001b[0;32m-> 1091\u001b[0m     key \u001b[38;5;241m=\u001b[39m \u001b[43mcheck_bool_indexer\u001b[49m\u001b[43m(\u001b[49m\u001b[43mlabels\u001b[49m\u001b[43m,\u001b[49m\u001b[43m \u001b[49m\u001b[43mkey\u001b[49m\u001b[43m)\u001b[49m\n\u001b[1;32m   1092\u001b[0m     inds \u001b[38;5;241m=\u001b[39m key\u001b[38;5;241m.\u001b[39mnonzero()[\u001b[38;5;241m0\u001b[39m]\n\u001b[1;32m   1093\u001b[0m     \u001b[38;5;28;01mreturn\u001b[39;00m \u001b[38;5;28mself\u001b[39m\u001b[38;5;241m.\u001b[39mobj\u001b[38;5;241m.\u001b[39m_take_with_is_copy(inds, axis\u001b[38;5;241m=\u001b[39maxis)\n",
      "File \u001b[0;32m/tscc/projects/ps-allenlab/projdata/common/programs/miniconda3/envs/qiime2-2023.9/lib/python3.8/site-packages/pandas/core/indexing.py:2571\u001b[0m, in \u001b[0;36mcheck_bool_indexer\u001b[0;34m(index, key)\u001b[0m\n\u001b[1;32m   2567\u001b[0m \u001b[38;5;28;01melif\u001b[39;00m \u001b[38;5;129;01mnot\u001b[39;00m is_array_like(result):\n\u001b[1;32m   2568\u001b[0m     \u001b[38;5;66;03m# GH 33924\u001b[39;00m\n\u001b[1;32m   2569\u001b[0m     \u001b[38;5;66;03m# key may contain nan elements, check_array_indexer needs bool array\u001b[39;00m\n\u001b[1;32m   2570\u001b[0m     result \u001b[38;5;241m=\u001b[39m pd_array(result, dtype\u001b[38;5;241m=\u001b[39m\u001b[38;5;28mbool\u001b[39m)\n\u001b[0;32m-> 2571\u001b[0m \u001b[38;5;28;01mreturn\u001b[39;00m \u001b[43mcheck_array_indexer\u001b[49m\u001b[43m(\u001b[49m\u001b[43mindex\u001b[49m\u001b[43m,\u001b[49m\u001b[43m \u001b[49m\u001b[43mresult\u001b[49m\u001b[43m)\u001b[49m\n",
      "File \u001b[0;32m/tscc/projects/ps-allenlab/projdata/common/programs/miniconda3/envs/qiime2-2023.9/lib/python3.8/site-packages/pandas/core/indexers/utils.py:552\u001b[0m, in \u001b[0;36mcheck_array_indexer\u001b[0;34m(array, indexer)\u001b[0m\n\u001b[1;32m    550\u001b[0m     \u001b[38;5;66;03m# GH26658\u001b[39;00m\n\u001b[1;32m    551\u001b[0m     \u001b[38;5;28;01mif\u001b[39;00m \u001b[38;5;28mlen\u001b[39m(indexer) \u001b[38;5;241m!=\u001b[39m \u001b[38;5;28mlen\u001b[39m(array):\n\u001b[0;32m--> 552\u001b[0m         \u001b[38;5;28;01mraise\u001b[39;00m \u001b[38;5;167;01mIndexError\u001b[39;00m(\n\u001b[1;32m    553\u001b[0m             \u001b[38;5;124mf\u001b[39m\u001b[38;5;124m\"\u001b[39m\u001b[38;5;124mBoolean index has wrong length: \u001b[39m\u001b[38;5;124m\"\u001b[39m\n\u001b[1;32m    554\u001b[0m             \u001b[38;5;124mf\u001b[39m\u001b[38;5;124m\"\u001b[39m\u001b[38;5;132;01m{\u001b[39;00m\u001b[38;5;28mlen\u001b[39m(indexer)\u001b[38;5;132;01m}\u001b[39;00m\u001b[38;5;124m instead of \u001b[39m\u001b[38;5;132;01m{\u001b[39;00m\u001b[38;5;28mlen\u001b[39m(array)\u001b[38;5;132;01m}\u001b[39;00m\u001b[38;5;124m\"\u001b[39m\n\u001b[1;32m    555\u001b[0m         )\n\u001b[1;32m    556\u001b[0m \u001b[38;5;28;01melif\u001b[39;00m is_integer_dtype(dtype):\n\u001b[1;32m    557\u001b[0m     \u001b[38;5;28;01mtry\u001b[39;00m:\n",
      "\u001b[0;31mIndexError\u001b[0m: Boolean index has wrong length: 34500 instead of 34496"
     ]
    }
   ],
   "source": [
    "response_features_18Sv4 = pd.DataFrame({\n",
    "    \"within_dino_CM_diversity\" : asv_freqs_18Sv4.loc[dino_mask_18Sv4] #select only the rows corresponding to dinos\n",
    "                                    .apply(proportional_frequencies, axis = 0) #rescale proportions in terms of dinos only\n",
    "                                    .loc[CM_mask_18Sv4] #select only the rows corresponding to CMs\n",
    "                                    .apply(shannon_index), #per sample shannon index\n",
    "    \"within_dino_CM_percent\" : asv_freqs_18Sv4.loc[dino_mask_18Sv4]\n",
    "                                .apply(proportional_frequencies, axis = 0)\n",
    "                                .loc[CM_mask_18Sv4]\n",
    "                                .apply(sum, axis = 0) * 100, #per sample sum of frequencies * 100%\n",
    "    \"within_sample_dino_CM_percent\" : asv_freqs_18Sv4.loc[dino_mask_18Sv4 and CM_mask_18Sv4]\n",
    "                                        .apply(sum, axis = 0) * 100,\n",
    "    \"within_dino_diversity\" : asv_freqs_18Sv4.loc[dino_mask_18Sv4]\n",
    "                                .apply(proportional_frequencies, axis = 0)\n",
    "                                .apply(shannon_index, axis = 0),\n",
    "    \"within_sample_dino_percent\" : asv_freqs_18Sv4.loc[dino_mask_18Sv4].apply(sum, axis = 0) * 100\n",
    "\n",
    "}, index = asv_freqs_18Sv4.columns)\n",
    "\n",
    "response_features_18Sv9 = pd.DataFrame({\n",
    "    \"within_dino_CM_diversity\" : asv_freqs_18Sv9.loc[dino_mask_18Sv9] #select only the rows corresponding to dinos\n",
    "                                    .apply(proportional_frequencies, axis = 0) #rescale proportions in terms of dinos only\n",
    "                                    .loc[CM_mask_18Sv9] #select only the rows corresponding to CMs\n",
    "                                    .apply(shannon_index), #per sample sum\n",
    "    \"within_dino_CM_percent\" : asv_freqs_18Sv9.loc[dino_mask_18Sv9]\n",
    "                                .apply(proportional_frequencies, axis = 0)\n",
    "                                .loc[CM_mask_18Sv9]\n",
    "                                .apply(sum, axis = 0) * 100,\n",
    "    \"within_sample_dino_CM_percent\" : asv_freqs_18Sv9.loc[dino_mask_18Sv9 and CM_mask_18Sv9]\n",
    "                                        .apply(sum, axis = 0) * 100,\n",
    "    \"within_dino_diversity\" : asv_freqs_18Sv9.loc[dino_mask_18Sv9]\n",
    "                                .apply(proportional_frequencies, axis = 0)\n",
    "                                .apply(shannon_index, axis = 0),\n",
    "    \"within_sample_dino_percent\" : asv_freqs_18Sv9.loc[dino_mask_18Sv9].apply(sum, axis = 0) * 100\n",
    "}, index = asv_freqs_18Sv9.columns)"
   ]
  },
  {
   "cell_type": "code",
   "execution_count": null,
   "id": "c21d87f9",
   "metadata": {},
   "outputs": [],
   "source": [
    "#if ASV proportion of the total sample corresponds with biomass, then I shouldn't ever have \"proportion of subset\"\n",
    "#as the x axis\n",
    "#customizability problems: the only real solution is not trying to create anything ahead of time and just having\n",
    "#standard procedures for generating all required features from the basic \"asv_freqs\" and \"asv_taxo_mft\" using\n",
    "#pandas methods and helper methods\n",
    "\n",
    "fig, ax = plt.subplots(2)\n",
    "fig.set_figheight(10)\n",
    "fig.set_figwidth(5)\n",
    "\n",
    "ax[0].scatter(\n",
    "    #Y axis: shannon index within the subset \"dinoflagellate CMs\": select dino ASVs, redo proportional frequencies,\n",
    "    #select CMs, then shannon? ok wow this worked\n",
    "    #y=dino_eco_features_18Sv4[\"dino_CM_shannon\"],\n",
    "    y=response_features_18Sv4[\"within_dino_CM_diversity\"],\n",
    "    #X axis: summed ASV per-sample proportions (sum along column, collapse rows) for \"dinoflagellate CMs\"\n",
    "    x=response_features_18Sv4[\"within_sample_dino_CM_percent\"]\n",
    ")\n",
    "ax[0].set_ylabel(\"H'[18Sv4 dino CM ASVs]\")\n",
    "ax[0].set_xlabel(\"Per-sample proportion of dino CM ASVs\")\n",
    "\n",
    "ax[1].scatter(\n",
    "    y=response_features_18Sv9[\"within_dino_CM_diversity\"],\n",
    "    x=response_features_18Sv9[\"within_sample_dino_CM_percent\"]\n",
    ")\n",
    "ax[1].set_ylabel(\"H'[18Sv9 dino CM ASVs]\")\n",
    "ax[1].set_xlabel(\"Per-sample proportion of dino CM ASVs\")\n",
    "\n",
    "plt.show()"
   ]
  },
  {
   "cell_type": "code",
   "execution_count": null,
   "id": "14ed9879",
   "metadata": {},
   "outputs": [],
   "source": [
    "fig, ax = plt.subplots(2)\n",
    "fig.set_figwidth(5)\n",
    "fig.set_figheight(10)\n",
    "\n",
    "ax[0].scatter(\n",
    "    #Y axis: Shannon index of dinos only, with proportions rescaled so dino freqs sum to 1.\n",
    "    y=response_features_18Sv4[\"within_dino_diversity\"],\n",
    "    #X axis: per-sample summed proportion for dino ASVs.\n",
    "    x=response_features_18Sv4[\"within_sample_dino_percent\"]\n",
    ")\n",
    "ax[1].scatter(\n",
    "    y=response_features_18Sv9[\"within_dino_diversity\"],\n",
    "    x=response_features_18Sv9[\"within_sample_dino_percent\"]\n",
    ")\n",
    "plt.show()"
   ]
  },
  {
   "cell_type": "markdown",
   "id": "da91c241",
   "metadata": {},
   "source": [
    "### Species richness (number of ASVs) vs proportion of ASVs"
   ]
  },
  {
   "cell_type": "code",
   "execution_count": null,
   "id": "2cd75b5f",
   "metadata": {},
   "outputs": [],
   "source": [
    "#reread dan et al 2024, this metric doesn't actually mean anything - neither do the other ones based on ASVs. \n",
    "#they calculate jaccard dissimilarities, another paper did resampling curves I think\n",
    "#for now just stick to predicting percents\n",
    "response_features_18Sv4[\"within_sample_dino_CM_ASVs\"] = asv_freqs_18Sv4.loc[dino_mask_18Sv4 and CM_mask_18Sv4].apply(asv_richness, axis = 0)\n",
    "response_features_18Sv4[\"within_sample_dino_ASVs\"] = asv_freqs_18Sv4.loc[dino_mask_18Sv4].apply(asv_richness, axis = 0)\n",
    "\n",
    "response_features_18Sv9[\"within_sample_dino_CM_ASVs\"] = asv_freqs_18Sv9.loc[dino_mask_18Sv9 and CM_mask_18Sv9].apply(asv_richness, axis = 0)\n",
    "response_features_18Sv9[\"within_sample_dino_ASVs\"] = asv_freqs_18Sv9.loc[dino_mask_18Sv9].apply(asv_richness, axis = 0)"
   ]
  },
  {
   "cell_type": "code",
   "execution_count": null,
   "id": "0e57cff3",
   "metadata": {},
   "outputs": [],
   "source": [
    "fig, ax = plt.subplots(2)\n",
    "fig.set_figwidth(5)\n",
    "fig.set_figheight(10)\n",
    "\n",
    "#species richness = # nonzero ASVs *per column* in selected rows\n",
    "\n",
    "ax[0].scatter(\n",
    "    #Y axis: per sample ASV richness (# nonzero ASVs) of dino CMs\n",
    "    y=response_features_18Sv4[\"within_sample_dino_CM_ASVs\"], \n",
    "    #X axis: per sample summed proportion of dino CMs\n",
    "    x=response_features_18Sv4[\"within_sample_dino_CM_percent\"]\n",
    ")\n",
    "ax[1].scatter(\n",
    "    y=response_features_18Sv9[\"within_sample_dino_CM_ASVs\"], \n",
    "    x=response_features_18Sv9[\"within_sample_dino_CM_percent\"]\n",
    ")\n",
    "plt.show()"
   ]
  },
  {
   "cell_type": "code",
   "execution_count": null,
   "id": "17ef9cfb",
   "metadata": {},
   "outputs": [],
   "source": [
    "fig, ax = plt.subplots(2)\n",
    "fig.set_figwidth(5)\n",
    "fig.set_figheight(10)\n",
    "\n",
    "ax[0].scatter(\n",
    "    #Y axis: per sample ASV richness (# nonzero ASVs) of dino CMs\n",
    "    y=response_features_18Sv4[\"within_sample_dino_ASVs\"], \n",
    "    #X axis: per sample summed proportion of dino CMs\n",
    "    x=response_features_18Sv4[\"within_sample_dino_percent\"]\n",
    ")\n",
    "ax[1].scatter(\n",
    "    y=response_features_18Sv9[\"within_sample_dino_ASVs\"], \n",
    "    x=response_features_18Sv9[\"within_sample_dino_percent\"]\n",
    ")\n",
    "plt.show()"
   ]
  },
  {
   "cell_type": "markdown",
   "id": "b22f426f",
   "metadata": {},
   "source": [
    "### Using Chlorophyll & Peridinin for biomass \n",
    "\n",
    "First evidence so far for negative correlation (but heteroscedastic) of dino diversity and biomass... except it's not even dino biomass.\n",
    "check datazoo for peridinin. env feature \"Phaeop\" = phaeophytin, 2ndary pigment for diatoms.\n",
    "\n",
    "**NOW WITH PERIDININ**: similar heteroscedastic downward sloping pattern, steeper slope on 18Sv9 proportions than 18Sv4... what could it mean."
   ]
  },
  {
   "cell_type": "code",
   "execution_count": null,
   "id": "46182302",
   "metadata": {},
   "outputs": [],
   "source": [
    "env_features_18Sv4[\"ChlorA\"].shape,\\\n",
    "asv_freqs_18Sv4.loc[dino_mask_18Sv4].shape\n",
    "\n",
    "#X201904_086.7_035.0_19 doesn't have any metadata, dropped from both env_features tables"
   ]
  },
  {
   "cell_type": "code",
   "execution_count": null,
   "id": "5e6b5a54",
   "metadata": {},
   "outputs": [],
   "source": [
    "fig, ax = plt.subplots(2)\n",
    "\n",
    "fig.set_figheight(10)\n",
    "fig.set_figwidth(5)\n",
    "\n",
    "ax[0].scatter(\n",
    "    y = response_features_18Sv4[\"within_dino_diversity\"].loc[env_features_18Sv4.index],\n",
    "    x = env_features_18Sv4[\"ChlorA\"] #chlor a, associates with all photosynthetic organisms\n",
    ")\n",
    "\n",
    "ax[1].scatter(\n",
    "    y = response_features_18Sv4[\"within_sample_dino_ASVs\"].loc[env_features_18Sv4.index],\n",
    "    #asv_freqs_18Sv4.loc[dino_mask_18Sv4, env_features_18Sv4.index].apply(asv_richness, axis = 0),\n",
    "    x = env_features_18Sv4[\"ChlorA\"] #chlor a, associates with all photosynthetic organisms\n",
    ")\n",
    "\n",
    "plt.show()"
   ]
  },
  {
   "cell_type": "code",
   "execution_count": null,
   "id": "9db98bf7",
   "metadata": {},
   "outputs": [],
   "source": [
    "fig, ax = plt.subplots(2)\n",
    "\n",
    "fig.set_figheight(10)\n",
    "fig.set_figwidth(5)\n",
    "\n",
    "ax[0].scatter(\n",
    "    y = response_features_18Sv4[\"within_dino_diversity\"].loc[env_features_18Sv4.index],\n",
    "    x = pigment_features_18Sv4[\"Peridinin (UMCES) (µg/L)\"].replace(\"\", np.nan) #chlor a, associates with all photosynthetic organisms\n",
    ")\n",
    "\n",
    "ax[1].scatter(\n",
    "    y = response_features_18Sv4[\"within_sample_dino_ASVs\"].loc[env_features_18Sv4.index],\n",
    "    x = pigment_features_18Sv4[\"Peridinin (UMCES) (µg/L)\"].replace(\"\", np.nan) #chlor a, associates with all photosynthetic organisms\n",
    ")\n",
    "\n",
    "plt.show()"
   ]
  },
  {
   "cell_type": "raw",
   "id": "feda47ae",
   "metadata": {},
   "source": [
    "fig, ax = plt.subplots(1,2)\n",
    "\n",
    "fig.set_figheight(5)\n",
    "fig.set_figwidth(10)\n",
    "\n",
    "ax[0].scatter(\n",
    "    #this is a column where ASV frequencies don't sum to 1, is shannon score really valid here\n",
    "    y = asv_freqs_18Sv4.loc[dino_mask_18Sv4, env_features_18Sv4.index].apply(shannon_index, axis = 0),\n",
    "    x = pigment_features_18Sv4[\"Peridinin (Goericke_SIO) (µg/L)\"].replace(\"\", np.nan) #chlor a, associates with all photosynthetic organisms\n",
    ")\n",
    "\n",
    "ax[1].scatter(\n",
    "    y = asv_freqs_18Sv4.loc[dino_mask_18Sv4, env_features_18Sv4.index].apply(asv_richness, axis = 0),\n",
    "    x = pigment_features_18Sv4[\"Peridinin (Goericke_SIO) (µg/L)\"].replace(\"\", np.nan) #chlor a, associates with all photosynthetic organisms\n",
    ")\n",
    "\n",
    "plt.show()"
   ]
  },
  {
   "cell_type": "code",
   "execution_count": null,
   "id": "28097547",
   "metadata": {},
   "outputs": [],
   "source": [
    "fig, ax = plt.subplots(1,2)\n",
    "\n",
    "fig.set_figheight(5)\n",
    "fig.set_figwidth(10)\n",
    "\n",
    "ax[0].scatter(\n",
    "    y = response_features_18Sv4[\"within_dino_diversity\"].loc[env_features_18Sv4.index],\n",
    "    x = pigment_features_18Sv4[\"Peridinin (Goericke_SIO) (µg/L)\"].replace(\"\", np.nan) #chlor a, associates with all photosynthetic organisms\n",
    ")\n",
    "\n",
    "ax[1].scatter(\n",
    "    y = response_features_18Sv4[\"within_sample_dino_ASVs\"].loc[env_features_18Sv4.index],\n",
    "    x = pigment_features_18Sv4[\"Peridinin (Goericke_SIO) (µg/L)\"].replace(\"\", np.nan) #chlor a, associates with all photosynthetic organisms\n",
    ")\n",
    "\n",
    "plt.show()"
   ]
  },
  {
   "cell_type": "markdown",
   "id": "dbe41c95",
   "metadata": {},
   "source": [
    "### **outputs and next steps**\n",
    "\n",
    "want to use the GBM to... if it can't fully summarize the relationship by itself, it could at least point to which variables would make the most interesting scatterplots, especially for comparing v9 and v4.\n",
    "\n",
    "decide what to export and why in order to perform the above 4 tests and whatever other tests you want to do.\n",
    "\n",
    "export env_features, asv_taxo_mft, and asv_freqs. can compose them with helper functions into desired response variables. "
   ]
  },
  {
   "cell_type": "code",
   "execution_count": null,
   "id": "40fe4f76",
   "metadata": {},
   "outputs": [],
   "source": [
    "env_features_18Sv4.to_csv(\"_out_env_features_18Sv4.tsv\", sep = \"\\t\")\n",
    "env_features_18Sv9.to_csv(\"_out_env_features_18Sv9.tsv\", sep = \"\\t\")\n",
    "pigment_features_18Sv4.to_csv(\"_out_pigment_features_18Sv4.tsv\", sep = \"\\t\")\n",
    "pigment_features_18Sv9.to_csv(\"_out_pigment_features_18Sv9.tsv\", sep = \"\\t\")\n",
    "response_features_18Sv4.to_csv(\"_out_response_features_18Sv4.tsv\", sep = \"\\t\")\n",
    "response_features_18Sv9.to_csv(\"_out_response_features_18Sv9.tsv\", sep = \"\\t\")"
   ]
  },
  {
   "cell_type": "code",
   "execution_count": null,
   "id": "398857a4",
   "metadata": {},
   "outputs": [],
   "source": [
    "assert(False)"
   ]
  },
  {
   "cell_type": "markdown",
   "id": "863ab8da",
   "metadata": {},
   "source": [
    "**cool dataframe properties**"
   ]
  },
  {
   "cell_type": "code",
   "execution_count": null,
   "id": "255f71c3",
   "metadata": {},
   "outputs": [],
   "source": [
    "row_mask = asv_taxo_mft_18Sv4[\"most_specific_name\"] == \"Eukaryota\"\n",
    "asv_freqs_18Sv4.loc[ row_mask ].apply(sum, axis = 0)"
   ]
  },
  {
   "cell_type": "code",
   "execution_count": null,
   "id": "c0f1d2ab",
   "metadata": {},
   "outputs": [],
   "source": [
    "np.zeros((2,3))"
   ]
  },
  {
   "cell_type": "code",
   "execution_count": null,
   "id": "82549143",
   "metadata": {},
   "outputs": [],
   "source": [
    "pd.DataFrame({\"A\":[1,2,3]}, index=[0,1,2]).apply(lambda x: [x+1, x+2, x+3], axis=1)"
   ]
  },
  {
   "cell_type": "code",
   "execution_count": null,
   "id": "8dba09bb",
   "metadata": {},
   "outputs": [],
   "source": [
    "pd.Series([\"a;a\",\"b;b\",\"c;c\"]).map(lambda x : x.split(\";\")[-1] )"
   ]
  },
  {
   "cell_type": "code",
   "execution_count": null,
   "id": "408240b6",
   "metadata": {},
   "outputs": [],
   "source": [
    "#\"on\" matches a certain column on the left database to the index on the right\n",
    "#(default) left join means the final index is the left database's index\n",
    "pd.DataFrame({\"A\":[2,3,2], \"B\":[\"C\", 4,4]}, index = [0,1,2]).join(\n",
    "    pd.DataFrame({\"C\":[2]}, index=[2]), on=\"A\", how = \"right\"\n",
    ")"
   ]
  },
  {
   "cell_type": "code",
   "execution_count": null,
   "id": "dd61aadf",
   "metadata": {},
   "outputs": [],
   "source": [
    "#\"on\" matches a certain column on the left database to the index on the right\n",
    "#(default) left join means the final index is the left database's index\n",
    "pd.DataFrame({\"A\":[2,3,2], \"B\":[\"C\", 4,4]}, index = [0,1,2]).join(\n",
    "    pd.DataFrame({\"C\":[2]}, index=[2]), on=\"A\", how = \"left\"\n",
    ")"
   ]
  },
  {
   "cell_type": "code",
   "execution_count": null,
   "id": "449cc8f8",
   "metadata": {},
   "outputs": [],
   "source": [
    "asv_taxo_mft_18Sv4.shape, asv_taxo_mft_18Sv9.shape"
   ]
  },
  {
   "cell_type": "code",
   "execution_count": null,
   "id": "0297a9a7",
   "metadata": {},
   "outputs": [],
   "source": [
    "asv_taxo_mft_18Sv9"
   ]
  },
  {
   "cell_type": "code",
   "execution_count": null,
   "id": "2469c51d",
   "metadata": {},
   "outputs": [],
   "source": []
  }
 ],
 "metadata": {
  "kernelspec": {
   "display_name": "Python 3 (ipykernel)",
   "language": "python",
   "name": "python3"
  },
  "language_info": {
   "codemirror_mode": {
    "name": "ipython",
    "version": 3
   },
   "file_extension": ".py",
   "mimetype": "text/x-python",
   "name": "python",
   "nbconvert_exporter": "python",
   "pygments_lexer": "ipython3",
   "version": "3.8.15"
  }
 },
 "nbformat": 4,
 "nbformat_minor": 5
}
