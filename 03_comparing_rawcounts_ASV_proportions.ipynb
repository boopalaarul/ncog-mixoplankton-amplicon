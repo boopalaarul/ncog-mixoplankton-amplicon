{
 "cells": [
  {
   "cell_type": "markdown",
   "id": "4e734a61",
   "metadata": {},
   "source": [
    "Preparing models for 2 different approaches: tree models and neural networks.\n",
    "Can bring in the latter after forming some initial hypotheses about how samples are clustered.\n",
    "\n",
    "Input Data Files:\n",
    "in ./input_data_files/\n",
    "- 18Sv4 and 18Sv9 asv counts, raw counts\n",
    "- 18Sv4 and 18Sv8 asv counts, CPL counts\n",
    "- exclude_samples.txt, samples to filter out of analysis\n",
    "- new 18Sv4 and 18Sv9 taxonomies on pr2 5.0.0\n",
    "\n",
    "No longer importing MFT databases, helper method \"identify_mixo_by_taxo\" does that now.\n",
    "\n",
    "outputs of this notebook:\n",
    "- see if we need any. may be that CPL proportions, or MFT_loose proportions, *or both*, offer no improvement over strict species-match ASV classification & rawcounts per-sample proportions."
   ]
  },
  {
   "cell_type": "markdown",
   "id": "527c98ca",
   "metadata": {},
   "source": [
    "### **Reading in input files**"
   ]
  },
  {
   "cell_type": "code",
   "execution_count": 1,
   "id": "5c1bb830",
   "metadata": {},
   "outputs": [],
   "source": [
    "import pandas as pd\n",
    "import numpy as np\n",
    "import matplotlib.pyplot as plt\n",
    "%matplotlib inline"
   ]
  },
  {
   "cell_type": "code",
   "execution_count": 2,
   "id": "af0b0896",
   "metadata": {},
   "outputs": [],
   "source": [
    "#any functions required by other notebooks have been moved here\n",
    "#reimport when changing functions\n",
    "from helper_functions import proportional_frequencies, shannon_index, asv_richness, identify_mixo_by_taxo"
   ]
  },
  {
   "cell_type": "code",
   "execution_count": 3,
   "id": "3f6d2aa2",
   "metadata": {},
   "outputs": [],
   "source": [
    "raw_asv_counts_18Sv9 = pd.read_csv(\"input_data_files/NCOG_18sV9_asv_count_tax_S.tsv\", sep = \"\\t\", index_col = 0)\n",
    "raw_asv_counts_18Sv4 = pd.read_csv(\"input_data_files/NCOG_18sV4_asv_count_tax.tsv\", sep = \"\\t\", index_col = 0)\n",
    "\n",
    "raw_asv_cpl_18Sv9 = pd.read_csv(\"input_data_files/NCOG_18sV9_asv_count_tax_S_cpl.tsv\", sep = \"\\t\", index_col = 0)\n",
    "raw_asv_cpl_18Sv4 = pd.read_csv(\"input_data_files/NCOG_18sV4_asv_count_tax_S_cpl.tsv\", sep = \"\\t\", index_col = 0)\n",
    "\n",
    "raw_asv_taxonomies_18Sv9 = pd.read_csv(\"input_data_files/18Sv9_pr2_5.0.0_classifications.tsv\", sep = \"\\t\", index_col = 0)\n",
    "raw_asv_taxonomies_18Sv4 = pd.read_csv(\"input_data_files/18Sv4_pr2_5.0.0_classifications.tsv\", sep = \"\\t\", index_col = 0)\n",
    "\n",
    "samples_to_exclude = pd.read_csv(\"input_data_files/exclude_samples.txt\", skiprows=2)\n",
    "sample_metadata = pd.read_csv(\"input_data_files/NCOG_sample_log_DNA_stvx_meta_2014-2020.csv\", index_col = 0)"
   ]
  },
  {
   "cell_type": "code",
   "execution_count": 4,
   "id": "9d97b8ac",
   "metadata": {},
   "outputs": [
    {
     "data": {
      "text/plain": [
       "((34498, 1203), (42032, 808))"
      ]
     },
     "execution_count": 4,
     "metadata": {},
     "output_type": "execute_result"
    }
   ],
   "source": [
    "#no corresponding \"_S\" file, including same number of ASVs[?] but more samples\n",
    "#that's right, the CPL files only include 2014-2016. But they also include more ASVs?\n",
    "raw_asv_counts_18Sv4.shape,\\\n",
    "raw_asv_cpl_18Sv4.shape"
   ]
  },
  {
   "cell_type": "code",
   "execution_count": 5,
   "id": "359b2c35",
   "metadata": {},
   "outputs": [
    {
     "data": {
      "text/plain": [
       "((50408, 1542), (50408, 808))"
      ]
     },
     "execution_count": 5,
     "metadata": {},
     "output_type": "execute_result"
    }
   ],
   "source": [
    "#making sure all column (sample) indices are unique - they are. diff # of ASVs and samples in each.\n",
    "raw_asv_counts_18Sv9.shape,\\\n",
    "raw_asv_cpl_18Sv9.shape"
   ]
  },
  {
   "cell_type": "markdown",
   "id": "d7548cfe",
   "metadata": {},
   "source": [
    "### **Filter out asv counts and rescale to proportions after removing S. pombe**\n",
    "\n",
    "Can S. pombe be selected from CPL tables?"
   ]
  },
  {
   "cell_type": "code",
   "execution_count": 28,
   "id": "6f22c13a",
   "metadata": {},
   "outputs": [],
   "source": [
    "def sample_select(column):\n",
    "    \"\"\"Selects only the columns which correspond to valid sample IDs, and which are not to be excluded,\n",
    "    and which do not contain only zeroes.\"\"\"\n",
    "    return column.name[0] == \"X\" \\\n",
    "        and column.name[1:7].isdigit() \\\n",
    "        and column.name not in samples_to_exclude \\\n",
    "        and sum(column) > 0\n",
    "\n",
    "#18Sv4 and v9 do not have the same number of observations (samples).\n",
    "sample_mask_18Sv4_counts = raw_asv_counts_18Sv4.apply(sample_select, axis = 0)\n",
    "sample_mask_18Sv9_counts = raw_asv_counts_18Sv9.apply(sample_select, axis = 0)\n",
    "sample_mask_18Sv4_cpl = raw_asv_cpl_18Sv4.apply(sample_select, axis = 0)\n",
    "sample_mask_18Sv9_cpl = raw_asv_cpl_18Sv9.apply(sample_select, axis = 0)\n",
    "\n",
    "#exclude all ASVs identified as internal standard Schizosaccharomyces pomb\n",
    "non_spike_asvs_18Sv4 = raw_asv_taxonomies_18Sv4.loc[\n",
    "    raw_asv_taxonomies_18Sv4[\"Taxon\"].str.contains(\"pombe\").apply(lambda x: not x)\n",
    "].index\n",
    "non_spike_asvs_18Sv9 = raw_asv_taxonomies_18Sv9.loc[\n",
    "    raw_asv_taxonomies_18Sv9[\"Taxon\"].str.contains(\"pombe\").apply(lambda x: not x)\n",
    "].index"
   ]
  },
  {
   "cell_type": "code",
   "execution_count": 30,
   "id": "85795dbb",
   "metadata": {},
   "outputs": [],
   "source": [
    "#step 1: exclude spikes and rescale to proportions \n",
    "asv_proportions_rawcounts_18Sv4 = raw_asv_counts_18Sv4.loc[non_spike_asvs_18Sv4, sample_mask_18Sv4_counts].apply(\n",
    "    proportional_frequencies, axis = 0\n",
    ")\n",
    "asv_proportions_rawcounts_18Sv9 = raw_asv_counts_18Sv9.loc[non_spike_asvs_18Sv9, sample_mask_18Sv9_counts].apply(\n",
    "    proportional_frequencies, axis = 0\n",
    ")"
   ]
  },
  {
   "cell_type": "code",
   "execution_count": 35,
   "id": "a7565ee0",
   "metadata": {},
   "outputs": [
    {
     "data": {
      "text/plain": [
       "(42032, 42032, 34498)"
      ]
     },
     "execution_count": 35,
     "metadata": {},
     "output_type": "execute_result"
    }
   ],
   "source": [
    "raw_asv_cpl_18Sv4.index.size,\\\n",
    "raw_asv_cpl_18Sv4.index.unique().size,\\\n",
    "raw_asv_taxonomies_18Sv4.index.size"
   ]
  },
  {
   "cell_type": "code",
   "execution_count": 31,
   "id": "9e41b0dd",
   "metadata": {},
   "outputs": [],
   "source": [
    "#this has the side effect of dropping all the \"extra\" ASVs from raw_asv_cpl_18Sv4, but they're not included in the master\n",
    "#dna_sequences fasta file anyways.\n",
    "asv_proportions_cpl_18Sv4 = raw_asv_cpl_18Sv4.loc[non_spike_asvs_18Sv4, sample_mask_18Sv4_cpl].apply(\n",
    "    proportional_frequencies, axis = 0\n",
    ")\n",
    "asv_proportions_cpl_18Sv9 = raw_asv_cpl_18Sv9.loc[non_spike_asvs_18Sv9, sample_mask_18Sv9_cpl].apply(\n",
    "    proportional_frequencies, axis = 0\n",
    ")"
   ]
  },
  {
   "cell_type": "code",
   "execution_count": 37,
   "id": "b4db29fc",
   "metadata": {},
   "outputs": [],
   "source": [
    "asv_taxo_mft_18Sv4 = raw_asv_taxonomies_18Sv4.loc[asv_proportions_cpl_18Sv4.index]\n",
    "asv_taxo_mft_18Sv9 = raw_asv_taxonomies_18Sv9.loc[asv_proportions_cpl_18Sv9.index]\n",
    "asv_taxo_mft_18Sv4[\"most_specific_name\"] = asv_taxo_mft_18Sv4[\"Taxon\"].apply(lambda x: x.strip(\";.\").split(\";\")[-1])\n",
    "asv_taxo_mft_18Sv9[\"most_specific_name\"] = asv_taxo_mft_18Sv9[\"Taxon\"].apply(lambda x: x.strip(\";.\").split(\";\")[-1])"
   ]
  },
  {
   "cell_type": "code",
   "execution_count": 55,
   "id": "d4f3ebdd",
   "metadata": {},
   "outputs": [
    {
     "data": {
      "text/plain": [
       "(945, 585)"
      ]
     },
     "execution_count": 55,
     "metadata": {},
     "output_type": "execute_result"
    }
   ],
   "source": [
    "asv_taxo_mft_18Sv4[\"MFT_loose\"] = identify_mixo_by_taxo(asv_taxo_mft_18Sv4[\"most_specific_name\"],\n",
    "                                                        match_by_genus=True, threshold = 10)\n",
    "asv_taxo_mft_18Sv4[\"MFT_strict\"] = identify_mixo_by_taxo(asv_taxo_mft_18Sv4[\"most_specific_name\"],\n",
    "                                                        match_by_genus=False)\n",
    "sum(asv_taxo_mft_18Sv4[\"MFT_loose\"] != \"\"),\\\n",
    "sum(asv_taxo_mft_18Sv4[\"MFT_strict\"] != \"\")"
   ]
  },
  {
   "cell_type": "code",
   "execution_count": 73,
   "id": "1f86e68e",
   "metadata": {},
   "outputs": [
    {
     "data": {
      "text/plain": [
       "(989, 631)"
      ]
     },
     "execution_count": 73,
     "metadata": {},
     "output_type": "execute_result"
    }
   ],
   "source": [
    "asv_taxo_mft_18Sv9[\"MFT_loose\"] = identify_mixo_by_taxo(asv_taxo_mft_18Sv9[\"most_specific_name\"],\n",
    "                                                        match_by_genus=True, threshold = 10)\n",
    "asv_taxo_mft_18Sv9[\"MFT_strict\"] = identify_mixo_by_taxo(asv_taxo_mft_18Sv9[\"most_specific_name\"],\n",
    "                                                        match_by_genus=False)\n",
    "sum(asv_taxo_mft_18Sv9[\"MFT_loose\"] != \"\"),\\\n",
    "sum(asv_taxo_mft_18Sv9[\"MFT_strict\"] != \"\")"
   ]
  },
  {
   "cell_type": "code",
   "execution_count": 76,
   "id": "82fb6b2b",
   "metadata": {},
   "outputs": [],
   "source": [
    "loose_CM_asvs_18Sv4 = asv_taxo_mft_18Sv4.loc[asv_taxo_mft_18Sv4[\"MFT_loose\"] == \"CM\"].index\n",
    "strict_CM_asvs_18Sv4 = asv_taxo_mft_18Sv4.loc[asv_taxo_mft_18Sv4[\"MFT_strict\"] == \"CM\"].index\n",
    "loose_CM_proportions_cpl_18Sv4 = asv_proportions_cpl_18Sv4.loc[loose_CM_asvs_18Sv4].apply(sum, axis = 0)\n",
    "strict_CM_proportions_cpl_18Sv4 = asv_proportions_cpl_18Sv4.loc[strict_CM_asvs_18Sv4].apply(sum, axis = 0)\n",
    "loose_CM_proportions_rawcounts_18Sv4 = asv_proportions_rawcounts_18Sv4.loc[loose_CM_asvs_18Sv4].apply(sum, axis = 0)\n",
    "strict_CM_proportions_rawcounts_18Sv4 = asv_proportions_rawcounts_18Sv4.loc[strict_CM_asvs_18Sv4].apply(sum, axis = 0)\n",
    "\n",
    "loose_CM_asvs_18Sv9 = asv_taxo_mft_18Sv9.loc[asv_taxo_mft_18Sv9[\"MFT_loose\"] == \"CM\"].index\n",
    "strict_CM_asvs_18Sv9 = asv_taxo_mft_18Sv9.loc[asv_taxo_mft_18Sv9[\"MFT_strict\"] == \"CM\"].index\n",
    "loose_CM_proportions_cpl_18Sv9 = asv_proportions_cpl_18Sv9.loc[loose_CM_asvs_18Sv9].apply(sum, axis = 0)\n",
    "strict_CM_proportions_cpl_18Sv9 = asv_proportions_cpl_18Sv9.loc[strict_CM_asvs_18Sv9].apply(sum, axis = 0)\n",
    "loose_CM_proportions_rawcounts_18Sv9 = asv_proportions_rawcounts_18Sv9.loc[loose_CM_asvs_18Sv9].apply(sum, axis = 0)\n",
    "strict_CM_proportions_rawcounts_18Sv9 = asv_proportions_rawcounts_18Sv9.loc[strict_CM_asvs_18Sv9].apply(sum, axis = 0)"
   ]
  },
  {
   "cell_type": "code",
   "execution_count": 68,
   "id": "2850fc93",
   "metadata": {},
   "outputs": [
    {
     "data": {
      "text/plain": [
       "(array([453., 355., 193.,  79.,  28.,  21.,   9.,   2.,   2.,   3.]),\n",
       " array([0.        , 0.00757763, 0.01515527, 0.0227329 , 0.03031054,\n",
       "        0.03788817, 0.04546581, 0.05304344, 0.06062107, 0.06819871,\n",
       "        0.07577634]),\n",
       " <BarContainer object of 10 artists>)"
      ]
     },
     "execution_count": 68,
     "metadata": {},
     "output_type": "execute_result"
    },
    {
     "data": {
      "image/png": "[encoded data removed]",
      "text/plain": [
       "<Figure size 1000x480 with 2 Axes>"
      ]
     },
     "metadata": {},
     "output_type": "display_data"
    }
   ],
   "source": [
    "#check if threshold is having intended effect: don't want differences of loose/strict to be too big\n",
    "fig, ax = plt.subplots(1,2)\n",
    "fig.set_figwidth(10)\n",
    "ax[0].hist(loose_CM_proportions_cpl_18Sv4 - strict_CM_proportions_cpl_18Sv4)\n",
    "ax[1].hist(loose_CM_proportions_rawcounts_18Sv4 - strict_CM_proportions_rawcounts_18Sv4)"
   ]
  },
  {
   "cell_type": "code",
   "execution_count": 71,
   "id": "6e771991",
   "metadata": {},
   "outputs": [
    {
     "data": {
      "text/plain": [
       "(array([1.086e+03, 2.700e+01, 9.000e+00, 7.000e+00, 8.000e+00, 2.000e+00,\n",
       "        1.000e+00, 1.000e+00, 2.000e+00, 2.000e+00]),\n",
       " array([0.        , 0.04149061, 0.08298123, 0.12447184, 0.16596246,\n",
       "        0.20745307, 0.24894369, 0.2904343 , 0.33192492, 0.37341553,\n",
       "        0.41490615]),\n",
       " <BarContainer object of 10 artists>)"
      ]
     },
     "execution_count": 71,
     "metadata": {},
     "output_type": "execute_result"
    },
    {
     "data": {
      "image/png": "[encoded data removed]",
      "text/plain": [
       "<Figure size 1000x1000 with 4 Axes>"
      ]
     },
     "metadata": {},
     "output_type": "display_data"
    }
   ],
   "source": [
    "fig, ax = plt.subplots(2,2)\n",
    "fig.set_figheight(10)\n",
    "fig.set_figwidth(10)\n",
    "ax[0][0].hist(loose_CM_proportions_cpl_18Sv4, log = True)\n",
    "ax[0][1].hist(strict_CM_proportions_cpl_18Sv4, log = True)\n",
    "ax[1][0].hist(loose_CM_proportions_rawcounts_18Sv4, log = True)\n",
    "ax[1][1].hist(strict_CM_proportions_rawcounts_18Sv4, log = True)"
   ]
  },
  {
   "cell_type": "code",
   "execution_count": 77,
   "id": "018ea3ea",
   "metadata": {},
   "outputs": [
    {
     "data": {
      "text/plain": [
       "(array([653., 548., 187.,  62.,  16.,  11.,   4.,   2.,   1.,   1.]),\n",
       " array([0.        , 0.00480221, 0.00960442, 0.01440664, 0.01920885,\n",
       "        0.02401106, 0.02881327, 0.03361549, 0.0384177 , 0.04321991,\n",
       "        0.04802212]),\n",
       " <BarContainer object of 10 artists>)"
      ]
     },
     "execution_count": 77,
     "metadata": {},
     "output_type": "execute_result"
    },
    {
     "data": {
      "image/png": "[encoded data removed]",
      "text/plain": [
       "<Figure size 1000x480 with 2 Axes>"
      ]
     },
     "metadata": {},
     "output_type": "display_data"
    }
   ],
   "source": [
    "#check if threshold is having intended effect: don't want differences of loose/strict to be too big\n",
    "\n",
    "fig, ax = plt.subplots(1,2)\n",
    "fig.set_figwidth(10)\n",
    "ax[0].hist(loose_CM_proportions_cpl_18Sv9 - strict_CM_proportions_cpl_18Sv9)\n",
    "ax[1].hist(loose_CM_proportions_rawcounts_18Sv9 - strict_CM_proportions_rawcounts_18Sv9)"
   ]
  },
  {
   "cell_type": "code",
   "execution_count": 79,
   "id": "16b29211",
   "metadata": {},
   "outputs": [
    {
     "data": {
      "text/plain": [
       "(array([1.429e+03, 4.600e+01, 3.000e+00, 2.000e+00, 1.000e+00, 2.000e+00,\n",
       "        2.000e+00, 0.000e+00, 0.000e+00]),\n",
       " array([0.  , 0.05, 0.1 , 0.15, 0.2 , 0.25, 0.3 , 0.35, 0.4 , 0.45]),\n",
       " <BarContainer object of 9 artists>)"
      ]
     },
     "execution_count": 79,
     "metadata": {},
     "output_type": "execute_result"
    },
    {
     "data": {
      "image/png": "[encoded data removed]",
      "text/plain": [
       "<Figure size 1000x1000 with 4 Axes>"
      ]
     },
     "metadata": {},
     "output_type": "display_data"
    }
   ],
   "source": [
    "fig, ax = plt.subplots(2,2)\n",
    "fig.set_figheight(10)\n",
    "fig.set_figwidth(10)\n",
    "ax[0][0].hist(loose_CM_proportions_cpl_18Sv9, log = True, bins = np.arange(0,0.5,0.05))\n",
    "ax[0][1].hist(strict_CM_proportions_cpl_18Sv9, log = True, bins = np.arange(0,0.5,0.05))\n",
    "ax[1][0].hist(loose_CM_proportions_rawcounts_18Sv9, log = True, bins = np.arange(0,0.5,0.05))\n",
    "ax[1][1].hist(strict_CM_proportions_rawcounts_18Sv9, log = True, bins = np.arange(0,0.5,0.05))"
   ]
  },
  {
   "cell_type": "markdown",
   "id": "b22744ad",
   "metadata": {},
   "source": [
    "### Conclusion:\n",
    "\n",
    "**The nonspike CPL proportions and raw counts proportions are not actually that different.** It's single digit (between 10^0 and 10^1) numbers of samples in one bin vs another. Problems with betareg won't go away with this."
   ]
  },
  {
   "cell_type": "markdown",
   "id": "f7711b03",
   "metadata": {},
   "source": [
    "MFT selector threshold experiments"
   ]
  },
  {
   "cell_type": "code",
   "execution_count": 81,
   "id": "cb4c2a94",
   "metadata": {},
   "outputs": [
    {
     "data": {
      "text/html": [
       "<div>\n",
       "<style scoped>\n",
       "    .dataframe tbody tr th:only-of-type {\n",
       "        vertical-align: middle;\n",
       "    }\n",
       "\n",
       "    .dataframe tbody tr th {\n",
       "        vertical-align: top;\n",
       "    }\n",
       "\n",
       "    .dataframe thead th {\n",
       "        text-align: right;\n",
       "    }\n",
       "</style>\n",
       "<table border=\"1\" class=\"dataframe\">\n",
       "  <thead>\n",
       "    <tr style=\"text-align: right;\">\n",
       "      <th></th>\n",
       "      <th>Taxon</th>\n",
       "      <th>Confidence</th>\n",
       "      <th>most_specific_name</th>\n",
       "      <th>MFT_loose</th>\n",
       "      <th>MFT_strict</th>\n",
       "    </tr>\n",
       "    <tr>\n",
       "      <th>Feature ID</th>\n",
       "      <th></th>\n",
       "      <th></th>\n",
       "      <th></th>\n",
       "      <th></th>\n",
       "      <th></th>\n",
       "    </tr>\n",
       "  </thead>\n",
       "  <tbody>\n",
       "    <tr>\n",
       "      <th>010531ccf5cf2044fa6e8c3542900fe6</th>\n",
       "      <td>Eukaryota;TSAR;Alveolata;Dinoflagellata;Dinoph...</td>\n",
       "      <td>0.836344</td>\n",
       "      <td>Fragilidium_duplocampanaeforme</td>\n",
       "      <td>CM</td>\n",
       "      <td>CM</td>\n",
       "    </tr>\n",
       "    <tr>\n",
       "      <th>010b0c835e92a111f126a1e760cbe73f</th>\n",
       "      <td>Eukaryota;Haptista;Haptophyta;Haptophyta_X;Pry...</td>\n",
       "      <td>0.996714</td>\n",
       "      <td>Chrysochromulina</td>\n",
       "      <td>CM</td>\n",
       "      <td></td>\n",
       "    </tr>\n",
       "    <tr>\n",
       "      <th>0160d46a0e316439ed3ea98508dce0b3</th>\n",
       "      <td>Eukaryota;TSAR;Alveolata;Dinoflagellata;Dinoph...</td>\n",
       "      <td>1.000000</td>\n",
       "      <td>Fragilidium_mexicanum</td>\n",
       "      <td>CM</td>\n",
       "      <td>CM</td>\n",
       "    </tr>\n",
       "    <tr>\n",
       "      <th>016cd4e18c65f314b8e92525ad03a12c</th>\n",
       "      <td>Eukaryota;Haptista;Haptophyta;Haptophyta_X;Pry...</td>\n",
       "      <td>0.992016</td>\n",
       "      <td>Chrysochromulina_sp</td>\n",
       "      <td>CM</td>\n",
       "      <td></td>\n",
       "    </tr>\n",
       "    <tr>\n",
       "      <th>019c10f67db9022794477232b3eb9586</th>\n",
       "      <td>Eukaryota;TSAR;Alveolata;Dinoflagellata;Dinoph...</td>\n",
       "      <td>1.000000</td>\n",
       "      <td>Lingulodinium_polyedra</td>\n",
       "      <td>CM</td>\n",
       "      <td>CM</td>\n",
       "    </tr>\n",
       "    <tr>\n",
       "      <th>...</th>\n",
       "      <td>...</td>\n",
       "      <td>...</td>\n",
       "      <td>...</td>\n",
       "      <td>...</td>\n",
       "      <td>...</td>\n",
       "    </tr>\n",
       "    <tr>\n",
       "      <th>fd2ea1d42f608f9bfba891437786b039</th>\n",
       "      <td>Eukaryota;TSAR;Alveolata;Dinoflagellata;Dinoph...</td>\n",
       "      <td>0.926271</td>\n",
       "      <td>Fragilidium_duplocampanaeforme</td>\n",
       "      <td>CM</td>\n",
       "      <td>CM</td>\n",
       "    </tr>\n",
       "    <tr>\n",
       "      <th>fdbb0fed47a0912794df87c058eb64d2</th>\n",
       "      <td>Eukaryota;Haptista;Haptophyta;Haptophyta_X;Pry...</td>\n",
       "      <td>0.996878</td>\n",
       "      <td>Chrysochromulina_sp</td>\n",
       "      <td>CM</td>\n",
       "      <td></td>\n",
       "    </tr>\n",
       "    <tr>\n",
       "      <th>fef46c9e7a158a2bb03e518c5888f8aa</th>\n",
       "      <td>Eukaryota;TSAR;Alveolata;Dinoflagellata;Dinoph...</td>\n",
       "      <td>0.999998</td>\n",
       "      <td>Lingulodinium_polyedra</td>\n",
       "      <td>CM</td>\n",
       "      <td>CM</td>\n",
       "    </tr>\n",
       "    <tr>\n",
       "      <th>ff519383ce0b898a2739b63dae5ce679</th>\n",
       "      <td>Eukaryota;TSAR;Alveolata;Dinoflagellata;Dinoph...</td>\n",
       "      <td>1.000000</td>\n",
       "      <td>Lingulodinium_polyedra</td>\n",
       "      <td>CM</td>\n",
       "      <td>CM</td>\n",
       "    </tr>\n",
       "    <tr>\n",
       "      <th>ffc2a7890aff2471c371511a5cabd707</th>\n",
       "      <td>Eukaryota;TSAR;Alveolata;Dinoflagellata;Dinoph...</td>\n",
       "      <td>0.802275</td>\n",
       "      <td>Blastodinium_sp</td>\n",
       "      <td>CM</td>\n",
       "      <td>CM</td>\n",
       "    </tr>\n",
       "  </tbody>\n",
       "</table>\n",
       "<p>795 rows × 5 columns</p>\n",
       "</div>"
      ],
      "text/plain": [
       "                                                                              Taxon  ...  MFT_strict\n",
       "Feature ID                                                                           ...            \n",
       "010531ccf5cf2044fa6e8c3542900fe6  Eukaryota;TSAR;Alveolata;Dinoflagellata;Dinoph...  ...          CM\n",
       "010b0c835e92a111f126a1e760cbe73f  Eukaryota;Haptista;Haptophyta;Haptophyta_X;Pry...  ...            \n",
       "0160d46a0e316439ed3ea98508dce0b3  Eukaryota;TSAR;Alveolata;Dinoflagellata;Dinoph...  ...          CM\n",
       "016cd4e18c65f314b8e92525ad03a12c  Eukaryota;Haptista;Haptophyta;Haptophyta_X;Pry...  ...            \n",
       "019c10f67db9022794477232b3eb9586  Eukaryota;TSAR;Alveolata;Dinoflagellata;Dinoph...  ...          CM\n",
       "...                                                                             ...  ...         ...\n",
       "fd2ea1d42f608f9bfba891437786b039  Eukaryota;TSAR;Alveolata;Dinoflagellata;Dinoph...  ...          CM\n",
       "fdbb0fed47a0912794df87c058eb64d2  Eukaryota;Haptista;Haptophyta;Haptophyta_X;Pry...  ...            \n",
       "fef46c9e7a158a2bb03e518c5888f8aa  Eukaryota;TSAR;Alveolata;Dinoflagellata;Dinoph...  ...          CM\n",
       "ff519383ce0b898a2739b63dae5ce679  Eukaryota;TSAR;Alveolata;Dinoflagellata;Dinoph...  ...          CM\n",
       "ffc2a7890aff2471c371511a5cabd707  Eukaryota;TSAR;Alveolata;Dinoflagellata;Dinoph...  ...          CM\n",
       "\n",
       "[795 rows x 5 columns]"
      ]
     },
     "execution_count": 81,
     "metadata": {},
     "output_type": "execute_result"
    }
   ],
   "source": [
    "asv_taxo_mft_18Sv4.loc[loose_CM_asvs_18Sv4]"
   ]
  },
  {
   "cell_type": "code",
   "execution_count": 82,
   "id": "11eb2076",
   "metadata": {},
   "outputs": [
    {
     "data": {
      "text/html": [
       "<div>\n",
       "<style scoped>\n",
       "    .dataframe tbody tr th:only-of-type {\n",
       "        vertical-align: middle;\n",
       "    }\n",
       "\n",
       "    .dataframe tbody tr th {\n",
       "        vertical-align: top;\n",
       "    }\n",
       "\n",
       "    .dataframe thead th {\n",
       "        text-align: right;\n",
       "    }\n",
       "</style>\n",
       "<table border=\"1\" class=\"dataframe\">\n",
       "  <thead>\n",
       "    <tr style=\"text-align: right;\">\n",
       "      <th></th>\n",
       "      <th>Taxon</th>\n",
       "      <th>Confidence</th>\n",
       "      <th>most_specific_name</th>\n",
       "      <th>MFT_loose</th>\n",
       "      <th>MFT_strict</th>\n",
       "    </tr>\n",
       "    <tr>\n",
       "      <th>Feature ID</th>\n",
       "      <th></th>\n",
       "      <th></th>\n",
       "      <th></th>\n",
       "      <th></th>\n",
       "      <th></th>\n",
       "    </tr>\n",
       "  </thead>\n",
       "  <tbody>\n",
       "    <tr>\n",
       "      <th>001d7bf29c4f7053d31e8f1fcbeb0b29</th>\n",
       "      <td>Eukaryota:nucl;Cryptista:nucl;Cryptophyta:nucl...</td>\n",
       "      <td>0.880312</td>\n",
       "      <td>Geminigera_cryophila:nucl</td>\n",
       "      <td>CM</td>\n",
       "      <td>CM</td>\n",
       "    </tr>\n",
       "    <tr>\n",
       "      <th>00370dd7d21ecfb7f2f2bd38d1993a53</th>\n",
       "      <td>Eukaryota;TSAR;Alveolata;Dinoflagellata;Dinoph...</td>\n",
       "      <td>0.930084</td>\n",
       "      <td>Blastodinium</td>\n",
       "      <td>CM</td>\n",
       "      <td></td>\n",
       "    </tr>\n",
       "    <tr>\n",
       "      <th>0065f4344bb905b0fa9ae76e53285e4c</th>\n",
       "      <td>Eukaryota:nucl;Cryptista:nucl;Cryptophyta:nucl...</td>\n",
       "      <td>0.998085</td>\n",
       "      <td>Geminigera_cryophila:nucl</td>\n",
       "      <td>CM</td>\n",
       "      <td>CM</td>\n",
       "    </tr>\n",
       "    <tr>\n",
       "      <th>014662e1e3316d2618f4ad77401ba67a</th>\n",
       "      <td>Eukaryota;TSAR;Alveolata;Dinoflagellata;Dinoph...</td>\n",
       "      <td>0.968906</td>\n",
       "      <td>Blastodinium</td>\n",
       "      <td>CM</td>\n",
       "      <td></td>\n",
       "    </tr>\n",
       "    <tr>\n",
       "      <th>01bcdb7dcc8eec2ddda3fce720120ed8</th>\n",
       "      <td>Eukaryota;Haptista;Haptophyta;Haptophyta_X;Pry...</td>\n",
       "      <td>0.933052</td>\n",
       "      <td>Chrysochromulina_sp</td>\n",
       "      <td>CM</td>\n",
       "      <td></td>\n",
       "    </tr>\n",
       "    <tr>\n",
       "      <th>...</th>\n",
       "      <td>...</td>\n",
       "      <td>...</td>\n",
       "      <td>...</td>\n",
       "      <td>...</td>\n",
       "      <td>...</td>\n",
       "    </tr>\n",
       "    <tr>\n",
       "      <th>fe5aaeda7e2053cdf22c4f9001899548</th>\n",
       "      <td>Eukaryota;TSAR;Alveolata;Dinoflagellata;Dinoph...</td>\n",
       "      <td>0.914689</td>\n",
       "      <td>Biecheleria_cincta</td>\n",
       "      <td>CM</td>\n",
       "      <td>CM</td>\n",
       "    </tr>\n",
       "    <tr>\n",
       "      <th>fe8fd5880fb24fe18a2c2fadc1ca0d14</th>\n",
       "      <td>Eukaryota;TSAR;Alveolata;Dinoflagellata;Dinoph...</td>\n",
       "      <td>0.998613</td>\n",
       "      <td>Pelagodinium_sp</td>\n",
       "      <td>CM</td>\n",
       "      <td>CM</td>\n",
       "    </tr>\n",
       "    <tr>\n",
       "      <th>fef5f5659d853209d723691ad31dba24</th>\n",
       "      <td>Eukaryota;TSAR;Alveolata;Dinoflagellata;Dinoph...</td>\n",
       "      <td>0.929477</td>\n",
       "      <td>Bispinodinium_angelaceum</td>\n",
       "      <td>CM</td>\n",
       "      <td>CM</td>\n",
       "    </tr>\n",
       "    <tr>\n",
       "      <th>ffab7ffa7cc5c180ee5659c4eac7e974</th>\n",
       "      <td>Eukaryota;Haptista;Haptophyta;Haptophyta_X;Pry...</td>\n",
       "      <td>0.998866</td>\n",
       "      <td>Chrysochromulina_sp</td>\n",
       "      <td>CM</td>\n",
       "      <td></td>\n",
       "    </tr>\n",
       "    <tr>\n",
       "      <th>ffb56a7ad7e7de0c6465dcb213978f1b</th>\n",
       "      <td>Eukaryota;TSAR;Alveolata;Dinoflagellata;Dinoph...</td>\n",
       "      <td>0.901006</td>\n",
       "      <td>Blastodinium_mangini</td>\n",
       "      <td>CM</td>\n",
       "      <td>CM</td>\n",
       "    </tr>\n",
       "  </tbody>\n",
       "</table>\n",
       "<p>687 rows × 5 columns</p>\n",
       "</div>"
      ],
      "text/plain": [
       "                                                                              Taxon  ...  MFT_strict\n",
       "Feature ID                                                                           ...            \n",
       "001d7bf29c4f7053d31e8f1fcbeb0b29  Eukaryota:nucl;Cryptista:nucl;Cryptophyta:nucl...  ...          CM\n",
       "00370dd7d21ecfb7f2f2bd38d1993a53  Eukaryota;TSAR;Alveolata;Dinoflagellata;Dinoph...  ...            \n",
       "0065f4344bb905b0fa9ae76e53285e4c  Eukaryota:nucl;Cryptista:nucl;Cryptophyta:nucl...  ...          CM\n",
       "014662e1e3316d2618f4ad77401ba67a  Eukaryota;TSAR;Alveolata;Dinoflagellata;Dinoph...  ...            \n",
       "01bcdb7dcc8eec2ddda3fce720120ed8  Eukaryota;Haptista;Haptophyta;Haptophyta_X;Pry...  ...            \n",
       "...                                                                             ...  ...         ...\n",
       "fe5aaeda7e2053cdf22c4f9001899548  Eukaryota;TSAR;Alveolata;Dinoflagellata;Dinoph...  ...          CM\n",
       "fe8fd5880fb24fe18a2c2fadc1ca0d14  Eukaryota;TSAR;Alveolata;Dinoflagellata;Dinoph...  ...          CM\n",
       "fef5f5659d853209d723691ad31dba24  Eukaryota;TSAR;Alveolata;Dinoflagellata;Dinoph...  ...          CM\n",
       "ffab7ffa7cc5c180ee5659c4eac7e974  Eukaryota;Haptista;Haptophyta;Haptophyta_X;Pry...  ...            \n",
       "ffb56a7ad7e7de0c6465dcb213978f1b  Eukaryota;TSAR;Alveolata;Dinoflagellata;Dinoph...  ...          CM\n",
       "\n",
       "[687 rows x 5 columns]"
      ]
     },
     "execution_count": 82,
     "metadata": {},
     "output_type": "execute_result"
    }
   ],
   "source": [
    "asv_taxo_mft_18Sv9.loc[loose_CM_asvs_18Sv9]"
   ]
  },
  {
   "cell_type": "code",
   "execution_count": null,
   "id": "fc24723a",
   "metadata": {},
   "outputs": [],
   "source": []
  }
 ],
 "metadata": {
  "kernelspec": {
   "display_name": "Python 3 (ipykernel)",
   "language": "python",
   "name": "python3"
  },
  "language_info": {
   "codemirror_mode": {
    "name": "ipython",
    "version": 3
   },
   "file_extension": ".py",
   "mimetype": "text/x-python",
   "name": "python",
   "nbconvert_exporter": "python",
   "pygments_lexer": "ipython3",
   "version": "3.8.15"
  }
 },
 "nbformat": 4,
 "nbformat_minor": 5
}
