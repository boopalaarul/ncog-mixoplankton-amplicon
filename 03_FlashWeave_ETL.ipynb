{
 "cells": [
  {
   "cell_type": "markdown",
   "id": "40469d79",
   "metadata": {},
   "source": [
    "Predictors for:\n",
    "\n",
    "dino CM proportion\n",
    "dino CM diversity (among other dinos)\n",
    "CM proportion \n",
    "CM diversity (among all other ASVs?)\n",
    "\n",
    "with env features, with pigment features?\n",
    "with 18Sv4 and v9, can average results\n",
    "\n",
    "**Objective: ranking features by how much they reduce sum of squared residuals on base estimators of best performing bagging models.**\n",
    "\n",
    "\n",
    "Results:\n",
    "\n",
    "Scatterplots and graphs tell the story: most of this data is zeroes. Can't tell anything meaningful with it, and it obscures patterns which could be found elsewhere. Start focusing on the data you actually want (drop the zeroes) and compare \"diatom heavy\" vs \"dino CM heavy\" samples: what's different, what's the same?\n",
    "\n",
    "Inevitable result (?) of only considering a few hundred ASVs out of 34k+ in 18Sv4, etc. Would be more useful to do co-occurrence, community clustering, or other analyses with all available ASVs and then just extract the networks of known mixotrophs (the subgraphs centered on those ASVs). Even then, number of 0s may mean poor pairwise associations... could add counts for CMs together? \n",
    "\n",
    "Results:\n",
    "Seeing how things turn out with the non-outlier samples brought back in: ust the same as adding a lot more zeroes, but doesn't really tell us anything.\n",
    "\n",
    "Even though the whole point of this was to find out which variables are associated with a rise in CM proportion, sheer amount of zeroes (with very diverse environmental conditions) means that (for example) bagging can very easily lower MSE with trivial splits, and linear methods also have trouble (even with nonlinear methods, harder to get significant coefficients. PCA/RDA would find some vectors but nothing more interesting.\n",
    "\n",
    "So instead we found a \"comparable\" group in the diatoms - are they really comparable metabolically? And with this group we confirm what should have been obvious before: there's no particular link of environmental variables to CM proportion except maybe season."
   ]
  },
  {
   "cell_type": "markdown",
   "id": "e6bbf542",
   "metadata": {},
   "source": [
    "But now I have another question: are we even going to get a significant association of CM proportion with any of the environmental variables? Flashweave uses Aitchison/CLR for normalization. And \"proportion\" could just as easily represent a reduction in biomass overall... so maybe underlying community patterns don't really change, it's just that CMs are accompanied by fewer producers...\n",
    "- Flashweave should be able to adjust pairwise mutual information when \"probability\" of CM achieving a particular count or log ratio is 0... so keep the zeroes, while marking the outliers: might be a useful metavariable\n",
    "plan is: get the \"neighbors\" (highest association) of each (dino, otherwise) CM and of the metavariables. Then can add up those into a single category and track year/month flows, etc. So question becomes, which samples are dominated by an outlier proportion of \"neighbors/direct associates of CMs\", and do those have a notably different distribution of seasons (categorical) compared to (again?) diatoms (or neighbors of the same?)\n",
    "- in that case we could well ask: are the diatom neighbors so different from CM neighbors to start with?\n",
    "\n",
    "Tables which Flashweave needs: all-asv table (raw), and env_metadata with new variable.\n",
    "\n",
    "**What this notebook achieves**: May want to minimize zeroes by filtering rows and columns: dropping samples as required, and establishing a criterion for ASV inclusion **or consolidation.**\n",
    "\n",
    "From Chaffron: \"As log transformation cannot be applied to zero values, we added beforehand a pseudo count of one to all elements of the matrix. Last, to reduce the high dimensionality of our data, which may be the source of false-positive predicted associations, we filtered each abundance matrix using a top-quartile filtering approach. For each sample, the upper quartile (Q3) of its nonzero abundance values was computed. An OTU was retained when its observed abundance was higher than \\[per-sample\\] Q3 in at least five samples.\"\n",
    "\n",
    "what I'll do to filter rows:\n",
    "1) MLD only? I wouldn't do this except that the 18Sv4 and v9 have such seemingly different numbers of outliers for dinos vs diatoms. difference seemingly attibutable only to primer/amplicon choice.\n",
    "\n",
    "what I'll do to filter columns: \n",
    "1) consolidate ASVs which refer to the same species. Have to match on the *species level*.\n",
    "2) drop all ASVs or ASV \"clusters\" which don't pass the Q3 filter.\n",
    "\n",
    "What does ETL mean? https://en.wikipedia.org/wiki/Extract,_transform,_load"
   ]
  },
  {
   "cell_type": "markdown",
   "id": "48d3a86a",
   "metadata": {},
   "source": [
    "### Reading and preprocessing data"
   ]
  },
  {
   "cell_type": "code",
   "execution_count": 1,
   "id": "6b84e852",
   "metadata": {},
   "outputs": [],
   "source": [
    "import pandas as pd\n",
    "import numpy as np\n",
    "import matplotlib.pyplot as plt\n",
    "%matplotlib inline"
   ]
  },
  {
   "cell_type": "markdown",
   "id": "35073103",
   "metadata": {},
   "source": [
    "Import the following files: \n",
    "\n",
    "env_features with sample metadata.\n",
    "\n",
    "asv_freqs tables describing species frequencies (proportions). will use these to develop per-sample features relating CM and diatom frequencies.\n",
    "\n",
    "asv_taxo_mft tables describing species taxonomy, most specific name, and MFT (yes/no). Taxonomy is according to naive bayes classification on pr2. up to 9 components in a determined order, separated by \";\"\n",
    "\n",
    "raw_asv_ tables: raw counts without any pre-processing, also include Spike counts. use these as main input to flashweave, since flashweave takes integer tables and transforms them to \"centered log ratio\" values."
   ]
  },
  {
   "cell_type": "code",
   "execution_count": 2,
   "id": "0de7bdd2",
   "metadata": {},
   "outputs": [],
   "source": [
    "asv_freqs_18Sv4 = pd.read_csv(\"01_out_asv_proportions_18Sv4.tsv\", sep = \"\\t\", index_col=0)\n",
    "asv_freqs_18Sv9 = pd.read_csv(\"01_out_asv_proportions_18Sv9.tsv\", sep = \"\\t\", index_col=0)"
   ]
  },
  {
   "cell_type": "code",
   "execution_count": 3,
   "id": "a002b0ac",
   "metadata": {},
   "outputs": [],
   "source": [
    "env_features_18Sv4 = pd.read_csv(\"01_out_env_features_18Sv4.tsv\", sep = \"\\t\", index_col=0)\n",
    "env_features_18Sv9 = pd.read_csv(\"01_out_env_features_18Sv9.tsv\", sep = \"\\t\", index_col=0)"
   ]
  },
  {
   "cell_type": "code",
   "execution_count": 4,
   "id": "a6d34cee",
   "metadata": {},
   "outputs": [],
   "source": [
    "#no longer recognizes missing values (such as empty strings) and replaces them with np.nan\n",
    "asv_taxo_mft_18Sv4 = pd.read_csv(\"01_out_asv_taxo_mft_18Sv4.tsv\", sep = \"\\t\", index_col=0, na_filter=False)\n",
    "asv_taxo_mft_18Sv9 = pd.read_csv(\"01_out_asv_taxo_mft_18Sv9.tsv\", sep = \"\\t\", index_col=0, na_filter=False)"
   ]
  },
  {
   "cell_type": "code",
   "execution_count": 5,
   "id": "cc8de131",
   "metadata": {},
   "outputs": [],
   "source": [
    "raw_asv_counts_18Sv4 = pd.read_csv(\"01_out_raw_asv_counts_18Sv4.tsv\", sep = \"\\t\", index_col = 0)\n",
    "raw_asv_counts_18Sv9 = pd.read_csv(\"01_out_raw_asv_counts_18Sv9.tsv\", sep = \"\\t\", index_col = 0)"
   ]
  },
  {
   "cell_type": "code",
   "execution_count": 6,
   "id": "3a194d52",
   "metadata": {},
   "outputs": [
    {
     "data": {
      "text/html": [
       "<div>\n",
       "<style scoped>\n",
       "    .dataframe tbody tr th:only-of-type {\n",
       "        vertical-align: middle;\n",
       "    }\n",
       "\n",
       "    .dataframe tbody tr th {\n",
       "        vertical-align: top;\n",
       "    }\n",
       "\n",
       "    .dataframe thead th {\n",
       "        text-align: right;\n",
       "    }\n",
       "</style>\n",
       "<table border=\"1\" class=\"dataframe\">\n",
       "  <thead>\n",
       "    <tr style=\"text-align: right;\">\n",
       "      <th></th>\n",
       "      <th>Cast_Type</th>\n",
       "      <th>Cardinal_Sta</th>\n",
       "      <th>Lat_Dec</th>\n",
       "      <th>Lon_Dec</th>\n",
       "      <th>Bottle_Depth</th>\n",
       "      <th>T_degC</th>\n",
       "      <th>Salnty</th>\n",
       "      <th>STheta</th>\n",
       "      <th>O2ml_L</th>\n",
       "      <th>PO4ug</th>\n",
       "      <th>...</th>\n",
       "      <th>NO3ug</th>\n",
       "      <th>NH3ug</th>\n",
       "      <th>ChlorA</th>\n",
       "      <th>Phaeop</th>\n",
       "      <th>RecInd</th>\n",
       "      <th>MLD_Sigma</th>\n",
       "      <th>year</th>\n",
       "      <th>month</th>\n",
       "      <th>season</th>\n",
       "      <th>Mins_since_0000</th>\n",
       "    </tr>\n",
       "  </thead>\n",
       "  <tbody>\n",
       "    <tr>\n",
       "      <th>X201402_086.7_033.0_10</th>\n",
       "      <td>Prodo</td>\n",
       "      <td>False</td>\n",
       "      <td>33.88950</td>\n",
       "      <td>-118.49250</td>\n",
       "      <td>10.0</td>\n",
       "      <td>14.652000</td>\n",
       "      <td>33.495701</td>\n",
       "      <td>24.888700</td>\n",
       "      <td>5.661</td>\n",
       "      <td>0.48</td>\n",
       "      <td>...</td>\n",
       "      <td>1.80</td>\n",
       "      <td>0.51</td>\n",
       "      <td>1.461</td>\n",
       "      <td>0.427</td>\n",
       "      <td>3.0</td>\n",
       "      <td>24.152739</td>\n",
       "      <td>2014.0</td>\n",
       "      <td>2.0</td>\n",
       "      <td>winter</td>\n",
       "      <td>1161.0</td>\n",
       "    </tr>\n",
       "    <tr>\n",
       "      <th>X201402_086.7_033.0_22</th>\n",
       "      <td>Prodo</td>\n",
       "      <td>False</td>\n",
       "      <td>33.88950</td>\n",
       "      <td>-118.49250</td>\n",
       "      <td>22.0</td>\n",
       "      <td>14.619000</td>\n",
       "      <td>33.494900</td>\n",
       "      <td>24.895889</td>\n",
       "      <td>5.624</td>\n",
       "      <td>0.50</td>\n",
       "      <td>...</td>\n",
       "      <td>1.80</td>\n",
       "      <td>0.62</td>\n",
       "      <td>1.333</td>\n",
       "      <td>0.417</td>\n",
       "      <td>3.0</td>\n",
       "      <td>24.152739</td>\n",
       "      <td>2014.0</td>\n",
       "      <td>2.0</td>\n",
       "      <td>winter</td>\n",
       "      <td>1161.0</td>\n",
       "    </tr>\n",
       "    <tr>\n",
       "      <th>X201402_090.0_037.0_10</th>\n",
       "      <td>Ros</td>\n",
       "      <td>True</td>\n",
       "      <td>33.18017</td>\n",
       "      <td>-118.39332</td>\n",
       "      <td>10.0</td>\n",
       "      <td>15.544000</td>\n",
       "      <td>33.530701</td>\n",
       "      <td>24.721359</td>\n",
       "      <td>5.822</td>\n",
       "      <td>0.34</td>\n",
       "      <td>...</td>\n",
       "      <td>0.00</td>\n",
       "      <td>0.01</td>\n",
       "      <td>0.362</td>\n",
       "      <td>0.097</td>\n",
       "      <td>3.0</td>\n",
       "      <td>13.239982</td>\n",
       "      <td>2014.0</td>\n",
       "      <td>2.0</td>\n",
       "      <td>winter</td>\n",
       "      <td>122.0</td>\n",
       "    </tr>\n",
       "    <tr>\n",
       "      <th>X201402_090.0_037.0_30</th>\n",
       "      <td>Ros</td>\n",
       "      <td>True</td>\n",
       "      <td>33.18017</td>\n",
       "      <td>-118.39332</td>\n",
       "      <td>30.0</td>\n",
       "      <td>14.020000</td>\n",
       "      <td>33.443100</td>\n",
       "      <td>24.982420</td>\n",
       "      <td>5.748</td>\n",
       "      <td>0.48</td>\n",
       "      <td>...</td>\n",
       "      <td>1.40</td>\n",
       "      <td>0.02</td>\n",
       "      <td>1.489</td>\n",
       "      <td>0.426</td>\n",
       "      <td>3.0</td>\n",
       "      <td>13.239982</td>\n",
       "      <td>2014.0</td>\n",
       "      <td>2.0</td>\n",
       "      <td>winter</td>\n",
       "      <td>122.0</td>\n",
       "    </tr>\n",
       "    <tr>\n",
       "      <th>X201402_090.0_053.0_10</th>\n",
       "      <td>Ros</td>\n",
       "      <td>True</td>\n",
       "      <td>32.65117</td>\n",
       "      <td>-119.48417</td>\n",
       "      <td>10.0</td>\n",
       "      <td>14.460000</td>\n",
       "      <td>33.290100</td>\n",
       "      <td>24.770920</td>\n",
       "      <td>5.897</td>\n",
       "      <td>0.37</td>\n",
       "      <td>...</td>\n",
       "      <td>0.10</td>\n",
       "      <td>0.05</td>\n",
       "      <td>0.466</td>\n",
       "      <td>0.122</td>\n",
       "      <td>3.0</td>\n",
       "      <td>21.755340</td>\n",
       "      <td>2014.0</td>\n",
       "      <td>2.0</td>\n",
       "      <td>winter</td>\n",
       "      <td>600.0</td>\n",
       "    </tr>\n",
       "    <tr>\n",
       "      <th>...</th>\n",
       "      <td>...</td>\n",
       "      <td>...</td>\n",
       "      <td>...</td>\n",
       "      <td>...</td>\n",
       "      <td>...</td>\n",
       "      <td>...</td>\n",
       "      <td>...</td>\n",
       "      <td>...</td>\n",
       "      <td>...</td>\n",
       "      <td>...</td>\n",
       "      <td>...</td>\n",
       "      <td>...</td>\n",
       "      <td>...</td>\n",
       "      <td>...</td>\n",
       "      <td>...</td>\n",
       "      <td>...</td>\n",
       "      <td>...</td>\n",
       "      <td>...</td>\n",
       "      <td>...</td>\n",
       "      <td>...</td>\n",
       "      <td>...</td>\n",
       "    </tr>\n",
       "    <tr>\n",
       "      <th>X202010_093.3_050.0_10</th>\n",
       "      <td>NaN</td>\n",
       "      <td>False</td>\n",
       "      <td>32.17972</td>\n",
       "      <td>-118.89242</td>\n",
       "      <td>10.0</td>\n",
       "      <td>20.429001</td>\n",
       "      <td>33.686600</td>\n",
       "      <td>23.649481</td>\n",
       "      <td>5.350</td>\n",
       "      <td>0.14</td>\n",
       "      <td>...</td>\n",
       "      <td>0.18</td>\n",
       "      <td>NaN</td>\n",
       "      <td>0.263</td>\n",
       "      <td>0.103</td>\n",
       "      <td>NaN</td>\n",
       "      <td>10.429259</td>\n",
       "      <td>2020.0</td>\n",
       "      <td>10.0</td>\n",
       "      <td>fall</td>\n",
       "      <td>1102.0</td>\n",
       "    </tr>\n",
       "    <tr>\n",
       "      <th>X202010_093.3_050.0_30</th>\n",
       "      <td>NaN</td>\n",
       "      <td>False</td>\n",
       "      <td>32.17972</td>\n",
       "      <td>-118.89242</td>\n",
       "      <td>29.0</td>\n",
       "      <td>15.711000</td>\n",
       "      <td>33.455700</td>\n",
       "      <td>24.627911</td>\n",
       "      <td>5.594</td>\n",
       "      <td>0.36</td>\n",
       "      <td>...</td>\n",
       "      <td>0.93</td>\n",
       "      <td>NaN</td>\n",
       "      <td>1.019</td>\n",
       "      <td>0.542</td>\n",
       "      <td>NaN</td>\n",
       "      <td>10.429259</td>\n",
       "      <td>2020.0</td>\n",
       "      <td>10.0</td>\n",
       "      <td>fall</td>\n",
       "      <td>1102.0</td>\n",
       "    </tr>\n",
       "    <tr>\n",
       "      <th>X202010_093.3_090.0_10</th>\n",
       "      <td>Ross</td>\n",
       "      <td>False</td>\n",
       "      <td>30.84673</td>\n",
       "      <td>-121.59022</td>\n",
       "      <td>10.0</td>\n",
       "      <td>19.943001</td>\n",
       "      <td>33.251400</td>\n",
       "      <td>23.445560</td>\n",
       "      <td>5.388</td>\n",
       "      <td>NaN</td>\n",
       "      <td>...</td>\n",
       "      <td>NaN</td>\n",
       "      <td>NaN</td>\n",
       "      <td>NaN</td>\n",
       "      <td>NaN</td>\n",
       "      <td>NaN</td>\n",
       "      <td>14.173782</td>\n",
       "      <td>2020.0</td>\n",
       "      <td>10.0</td>\n",
       "      <td>fall</td>\n",
       "      <td>1163.0</td>\n",
       "    </tr>\n",
       "    <tr>\n",
       "      <th>X202010_093.3_090.0_75</th>\n",
       "      <td>Ross</td>\n",
       "      <td>False</td>\n",
       "      <td>30.84673</td>\n",
       "      <td>-121.59022</td>\n",
       "      <td>75.0</td>\n",
       "      <td>13.073000</td>\n",
       "      <td>32.908600</td>\n",
       "      <td>24.763290</td>\n",
       "      <td>6.186</td>\n",
       "      <td>NaN</td>\n",
       "      <td>...</td>\n",
       "      <td>NaN</td>\n",
       "      <td>NaN</td>\n",
       "      <td>NaN</td>\n",
       "      <td>NaN</td>\n",
       "      <td>NaN</td>\n",
       "      <td>14.173782</td>\n",
       "      <td>2020.0</td>\n",
       "      <td>10.0</td>\n",
       "      <td>fall</td>\n",
       "      <td>1163.0</td>\n",
       "    </tr>\n",
       "    <tr>\n",
       "      <th>X202010_093.4_026.4_10</th>\n",
       "      <td>Ross</td>\n",
       "      <td>False</td>\n",
       "      <td>32.94422</td>\n",
       "      <td>-117.27828</td>\n",
       "      <td>10.0</td>\n",
       "      <td>18.330999</td>\n",
       "      <td>33.513302</td>\n",
       "      <td>24.054359</td>\n",
       "      <td>6.259</td>\n",
       "      <td>NaN</td>\n",
       "      <td>...</td>\n",
       "      <td>NaN</td>\n",
       "      <td>NaN</td>\n",
       "      <td>NaN</td>\n",
       "      <td>NaN</td>\n",
       "      <td>NaN</td>\n",
       "      <td>10.112873</td>\n",
       "      <td>2020.0</td>\n",
       "      <td>10.0</td>\n",
       "      <td>fall</td>\n",
       "      <td>1100.0</td>\n",
       "    </tr>\n",
       "  </tbody>\n",
       "</table>\n",
       "<p>1144 rows × 21 columns</p>\n",
       "</div>"
      ],
      "text/plain": [
       "                       Cast_Type Cardinal_Sta   Lat_Dec    Lon_Dec  \\\n",
       "X201402_086.7_033.0_10     Prodo        False  33.88950 -118.49250   \n",
       "X201402_086.7_033.0_22     Prodo        False  33.88950 -118.49250   \n",
       "X201402_090.0_037.0_10       Ros         True  33.18017 -118.39332   \n",
       "X201402_090.0_037.0_30       Ros         True  33.18017 -118.39332   \n",
       "X201402_090.0_053.0_10       Ros         True  32.65117 -119.48417   \n",
       "...                          ...          ...       ...        ...   \n",
       "X202010_093.3_050.0_10       NaN        False  32.17972 -118.89242   \n",
       "X202010_093.3_050.0_30       NaN        False  32.17972 -118.89242   \n",
       "X202010_093.3_090.0_10      Ross        False  30.84673 -121.59022   \n",
       "X202010_093.3_090.0_75      Ross        False  30.84673 -121.59022   \n",
       "X202010_093.4_026.4_10      Ross        False  32.94422 -117.27828   \n",
       "\n",
       "                        Bottle_Depth     T_degC     Salnty     STheta  O2ml_L  \\\n",
       "X201402_086.7_033.0_10          10.0  14.652000  33.495701  24.888700   5.661   \n",
       "X201402_086.7_033.0_22          22.0  14.619000  33.494900  24.895889   5.624   \n",
       "X201402_090.0_037.0_10          10.0  15.544000  33.530701  24.721359   5.822   \n",
       "X201402_090.0_037.0_30          30.0  14.020000  33.443100  24.982420   5.748   \n",
       "X201402_090.0_053.0_10          10.0  14.460000  33.290100  24.770920   5.897   \n",
       "...                              ...        ...        ...        ...     ...   \n",
       "X202010_093.3_050.0_10          10.0  20.429001  33.686600  23.649481   5.350   \n",
       "X202010_093.3_050.0_30          29.0  15.711000  33.455700  24.627911   5.594   \n",
       "X202010_093.3_090.0_10          10.0  19.943001  33.251400  23.445560   5.388   \n",
       "X202010_093.3_090.0_75          75.0  13.073000  32.908600  24.763290   6.186   \n",
       "X202010_093.4_026.4_10          10.0  18.330999  33.513302  24.054359   6.259   \n",
       "\n",
       "                        PO4ug  ...  NO3ug  NH3ug  ChlorA  Phaeop  RecInd  \\\n",
       "X201402_086.7_033.0_10   0.48  ...   1.80   0.51   1.461   0.427     3.0   \n",
       "X201402_086.7_033.0_22   0.50  ...   1.80   0.62   1.333   0.417     3.0   \n",
       "X201402_090.0_037.0_10   0.34  ...   0.00   0.01   0.362   0.097     3.0   \n",
       "X201402_090.0_037.0_30   0.48  ...   1.40   0.02   1.489   0.426     3.0   \n",
       "X201402_090.0_053.0_10   0.37  ...   0.10   0.05   0.466   0.122     3.0   \n",
       "...                       ...  ...    ...    ...     ...     ...     ...   \n",
       "X202010_093.3_050.0_10   0.14  ...   0.18    NaN   0.263   0.103     NaN   \n",
       "X202010_093.3_050.0_30   0.36  ...   0.93    NaN   1.019   0.542     NaN   \n",
       "X202010_093.3_090.0_10    NaN  ...    NaN    NaN     NaN     NaN     NaN   \n",
       "X202010_093.3_090.0_75    NaN  ...    NaN    NaN     NaN     NaN     NaN   \n",
       "X202010_093.4_026.4_10    NaN  ...    NaN    NaN     NaN     NaN     NaN   \n",
       "\n",
       "                        MLD_Sigma    year  month  season Mins_since_0000  \n",
       "X201402_086.7_033.0_10  24.152739  2014.0    2.0  winter          1161.0  \n",
       "X201402_086.7_033.0_22  24.152739  2014.0    2.0  winter          1161.0  \n",
       "X201402_090.0_037.0_10  13.239982  2014.0    2.0  winter           122.0  \n",
       "X201402_090.0_037.0_30  13.239982  2014.0    2.0  winter           122.0  \n",
       "X201402_090.0_053.0_10  21.755340  2014.0    2.0  winter           600.0  \n",
       "...                           ...     ...    ...     ...             ...  \n",
       "X202010_093.3_050.0_10  10.429259  2020.0   10.0    fall          1102.0  \n",
       "X202010_093.3_050.0_30  10.429259  2020.0   10.0    fall          1102.0  \n",
       "X202010_093.3_090.0_10  14.173782  2020.0   10.0    fall          1163.0  \n",
       "X202010_093.3_090.0_75  14.173782  2020.0   10.0    fall          1163.0  \n",
       "X202010_093.4_026.4_10  10.112873  2020.0   10.0    fall          1100.0  \n",
       "\n",
       "[1144 rows x 21 columns]"
      ]
     },
     "execution_count": 6,
     "metadata": {},
     "output_type": "execute_result"
    }
   ],
   "source": [
    "env_features_18Sv4"
   ]
  },
  {
   "cell_type": "code",
   "execution_count": 7,
   "id": "4094b82b",
   "metadata": {},
   "outputs": [
    {
     "data": {
      "text/plain": [
       "(True, True, True, True)"
      ]
     },
     "execution_count": 7,
     "metadata": {},
     "output_type": "execute_result"
    }
   ],
   "source": [
    "#is the number of samples equal in all tables which contain them\n",
    "(raw_asv_counts_18Sv4.columns == env_features_18Sv4.index).all(),\\\n",
    "(raw_asv_counts_18Sv9.columns == env_features_18Sv9.index).all(),\\\n",
    "(raw_asv_counts_18Sv4.columns == asv_freqs_18Sv4.columns).all(),\\\n",
    "(raw_asv_counts_18Sv9.columns == asv_freqs_18Sv9.columns).all()"
   ]
  },
  {
   "cell_type": "markdown",
   "id": "40a47510",
   "metadata": {},
   "source": [
    "### Creating 1 more sample metavariable: \"is this a CM-dominated or diatom-dominated sample\"?\n",
    "\n",
    "X-dominated sample: sample in which there is an outlier proportion of diatom OR CM (all CMs), and in which proportion of X exceeds proportion of Y."
   ]
  },
  {
   "cell_type": "markdown",
   "id": "e9ae2fc9",
   "metadata": {},
   "source": [
    "Use asv_taxo_mft to get lists of CM and lists of diatom ASVs. Then, add their frequencies within each sample."
   ]
  },
  {
   "cell_type": "code",
   "execution_count": 8,
   "id": "caf283f2",
   "metadata": {},
   "outputs": [
    {
     "data": {
      "text/plain": [
       "(583, 630, 263, 268)"
      ]
     },
     "execution_count": 8,
     "metadata": {},
     "output_type": "execute_result"
    }
   ],
   "source": [
    "#some of the MFTs are NaN... replace with \"\"?\n",
    "CM_asvs_18Sv4 = asv_taxo_mft_18Sv4.loc[ asv_taxo_mft_18Sv4[\"MFT\"].str.contains(\"CM\") ].index\n",
    "CM_asvs_18Sv9 = asv_taxo_mft_18Sv9.loc[ asv_taxo_mft_18Sv9[\"MFT\"].str.contains(\"CM\") ].index\n",
    "\n",
    "diatom_asvs_18Sv4 = asv_taxo_mft_18Sv4.loc[ asv_taxo_mft_18Sv4['Taxon'].str.contains(\"Bacillariophyceae\") ].index\n",
    "diatom_asvs_18Sv9 = asv_taxo_mft_18Sv9.loc[ asv_taxo_mft_18Sv9['Taxon'].str.contains(\"Bacillariophyceae\") ].index\n",
    "\n",
    "CM_asvs_18Sv4.size, CM_asvs_18Sv9.size, diatom_asvs_18Sv4.size, diatom_asvs_18Sv9.size"
   ]
  },
  {
   "cell_type": "code",
   "execution_count": 9,
   "id": "1c54119e",
   "metadata": {},
   "outputs": [],
   "source": [
    "CM_asv_freqs_18Sv4 = asv_freqs_18Sv4.loc[CM_asvs_18Sv4].apply(sum, axis = 0)\n",
    "CM_asv_freqs_18Sv9 = asv_freqs_18Sv9.loc[CM_asvs_18Sv9].apply(sum, axis = 0)\n",
    "\n",
    "diatom_asv_freqs_18Sv4 = asv_freqs_18Sv4.loc[diatom_asvs_18Sv4].apply(sum, axis = 0)\n",
    "diatom_asv_freqs_18Sv9 = asv_freqs_18Sv9.loc[diatom_asvs_18Sv9].apply(sum, axis = 0)"
   ]
  },
  {
   "cell_type": "code",
   "execution_count": 10,
   "id": "40d64a07",
   "metadata": {},
   "outputs": [
    {
     "data": {
      "image/png": "[encoded data removed]",
      "text/plain": [
       "<Figure size 1200x600 with 2 Axes>"
      ]
     },
     "metadata": {},
     "output_type": "display_data"
    }
   ],
   "source": [
    "MLD_samples_18Sv4 = env_features_18Sv4.loc[ env_features_18Sv4[\"Bottle_Depth\"] <= env_features_18Sv4[\"MLD_Sigma\"] ].index\n",
    "MLD_samples_18Sv9 = env_features_18Sv9.loc[ env_features_18Sv9[\"Bottle_Depth\"] <= env_features_18Sv9[\"MLD_Sigma\"] ].index\n",
    "\n",
    "fig,ax = plt.subplots(1,2)\n",
    "fig.set_figheight(6)\n",
    "fig.set_figwidth(12)\n",
    "ax[0].scatter(CM_asv_freqs_18Sv4.loc[MLD_samples_18Sv4], diatom_asv_freqs_18Sv4.loc[MLD_samples_18Sv4])\n",
    "ax[1].scatter(CM_asv_freqs_18Sv9.loc[MLD_samples_18Sv9], diatom_asv_freqs_18Sv9.loc[MLD_samples_18Sv9])\n",
    "plt.show()"
   ]
  },
  {
   "cell_type": "markdown",
   "id": "95ed089a",
   "metadata": {},
   "source": [
    "Deep water (Bottle Depth < MLD_Sigma) samples: 18Sv4 and 18Sv9 datasets show different levels of capture for CMs and diatoms, it's hard to think that both of these outcomes represent the same microbial communities. Possible biases with primers used, capture methods, or taxonomies?"
   ]
  },
  {
   "cell_type": "code",
   "execution_count": 11,
   "id": "7064e08e",
   "metadata": {},
   "outputs": [
    {
     "data": {
      "image/png": "[encoded data removed]",
      "text/plain": [
       "<Figure size 1200x600 with 2 Axes>"
      ]
     },
     "metadata": {},
     "output_type": "display_data"
    }
   ],
   "source": [
    "fig,ax = plt.subplots(1,2)\n",
    "fig.set_figheight(6)\n",
    "fig.set_figwidth(12)\n",
    "ax[0].scatter(CM_asv_freqs_18Sv4.drop(MLD_samples_18Sv4), diatom_asv_freqs_18Sv4.drop(MLD_samples_18Sv4))\n",
    "ax[1].scatter(CM_asv_freqs_18Sv9.drop(MLD_samples_18Sv9), diatom_asv_freqs_18Sv9.drop(MLD_samples_18Sv9))\n",
    "plt.show()"
   ]
  },
  {
   "cell_type": "code",
   "execution_count": 12,
   "id": "40f0ef98",
   "metadata": {},
   "outputs": [],
   "source": [
    "def outliers(series):\n",
    "    q3 = np.quantile(series, 0.75)\n",
    "    IQR = q3 - np.quantile(series, 0.25)\n",
    "    return pd.Series(series.loc[ series > (q3 + (1.5 * IQR)) ].index)\n",
    "\n",
    "#samples in which there is an outlier amount of diatoms and/or CMs.\n",
    "#includes only the shallow water samples!\n",
    "all_MLD_outliers_18Sv4 = pd.concat([outliers(CM_asv_freqs_18Sv4.loc[MLD_samples_18Sv4]),\n",
    "                                    outliers(diatom_asv_freqs_18Sv4.loc[MLD_samples_18Sv4])],\n",
    "                                    ignore_index=True).drop_duplicates()\n",
    "all_MLD_outliers_18Sv9 = pd.concat([outliers(CM_asv_freqs_18Sv9.loc[MLD_samples_18Sv9]),\n",
    "                                    outliers(diatom_asv_freqs_18Sv9.loc[MLD_samples_18Sv9])],\n",
    "                                    ignore_index=True).drop_duplicates()"
   ]
  },
  {
   "cell_type": "code",
   "execution_count": 13,
   "id": "84aff94c",
   "metadata": {},
   "outputs": [],
   "source": [
    "#includes only samples above MLD\n",
    "CM_dom_MLD_outliers_18Sv4 = all_MLD_outliers_18Sv4[\n",
    "    all_MLD_outliers_18Sv4.apply(lambda x: CM_asv_freqs_18Sv4[x] > diatom_asv_freqs_18Sv4[x])\n",
    "]\n",
    "diatom_dom_MLD_outliers_18Sv4 = all_MLD_outliers_18Sv4[\n",
    "    all_MLD_outliers_18Sv4.apply(lambda x: CM_asv_freqs_18Sv4[x] <= diatom_asv_freqs_18Sv4[x])\n",
    "]\n",
    "\n",
    "CM_dom_MLD_outliers_18Sv9 = all_MLD_outliers_18Sv9[\n",
    "    all_MLD_outliers_18Sv9.apply(lambda x: CM_asv_freqs_18Sv9[x] > diatom_asv_freqs_18Sv9[x])\n",
    "]\n",
    "diatom_dom_MLD_outliers_18Sv9 = all_MLD_outliers_18Sv9[\n",
    "    all_MLD_outliers_18Sv9.apply(lambda x: CM_asv_freqs_18Sv9[x] <= diatom_asv_freqs_18Sv9[x])\n",
    "]"
   ]
  },
  {
   "cell_type": "code",
   "execution_count": 14,
   "id": "14e40bb3",
   "metadata": {},
   "outputs": [
    {
     "data": {
      "text/plain": [
       "(69, 49, 118)"
      ]
     },
     "execution_count": 14,
     "metadata": {},
     "output_type": "execute_result"
    }
   ],
   "source": [
    "CM_dom_MLD_outliers_18Sv4.size, diatom_dom_MLD_outliers_18Sv4.size, all_MLD_outliers_18Sv4.size"
   ]
  },
  {
   "cell_type": "code",
   "execution_count": 15,
   "id": "d2a0ea49",
   "metadata": {},
   "outputs": [
    {
     "data": {
      "text/plain": [
       "(71, 70, 141)"
      ]
     },
     "execution_count": 15,
     "metadata": {},
     "output_type": "execute_result"
    }
   ],
   "source": [
    "CM_dom_MLD_outliers_18Sv9.size, diatom_dom_MLD_outliers_18Sv9.size, all_MLD_outliers_18Sv9.size"
   ]
  },
  {
   "cell_type": "markdown",
   "id": "98d90990",
   "metadata": {},
   "source": [
    "Distributions of X-dominated outlier samples along environmental gradients: already found the seasonal link, can continue from there. Refer to notebook 02."
   ]
  },
  {
   "cell_type": "code",
   "execution_count": 16,
   "id": "27bada6f",
   "metadata": {},
   "outputs": [],
   "source": [
    "env_features_18Sv4[\"MixedLayer_Outlier\"] = \"not\"\n",
    "env_features_18Sv4.loc[CM_dom_MLD_outliers_18Sv4, \"MixedLayer_Outlier\"] = \"CM_dominated\"\n",
    "env_features_18Sv4.loc[diatom_dom_MLD_outliers_18Sv4, \"MixedLayer_Outlier\"] = \"diatom_dominated\"\n",
    "env_features_18Sv4.loc[MLD_samples_18Sv4].to_csv(\"02_out_env_features_18Sv4.tsv\", sep = \"\\t\")\n",
    "\n",
    "env_features_18Sv9[\"MixedLayer_Outlier\"] = \"not\"\n",
    "env_features_18Sv9.loc[CM_dom_MLD_outliers_18Sv9, \"MixedLayer_Outlier\"] = \"CM_dominated\"\n",
    "env_features_18Sv9.loc[diatom_dom_MLD_outliers_18Sv9, \"MixedLayer_Outlier\"] = \"diatom_dominated\"\n",
    "env_features_18Sv9.loc[MLD_samples_18Sv9].to_csv(\"02_out_env_features_18Sv9.tsv\", sep = \"\\t\")"
   ]
  },
  {
   "cell_type": "markdown",
   "id": "b5603c26",
   "metadata": {},
   "source": [
    "### Filtering rows (samples): Removing NA values/dropping samples that have them. \n",
    "\n",
    "Seems that FlashWeave can't handle them since missing values are turned into SubString{String} \"\" and mess up the preprocessing.\n",
    "\n",
    "\"Treatment of missing values\n",
    "FlashWeave currently does not support missing data, please remove all samples with missing entries (both in OTU and meta data tables) prior to running FlashWeave. \""
   ]
  },
  {
   "cell_type": "code",
   "execution_count": 17,
   "id": "6d50b47a",
   "metadata": {},
   "outputs": [
    {
     "data": {
      "text/plain": [
       "X201911_080.0_100.0_12    18.979000\n",
       "X201911_081.8_046.9_10    16.910000\n",
       "X201911_083.3_051.0_10    16.730000\n",
       "X201911_083.3_090.0_9     16.455999\n",
       "X201911_086.7_035.0_10          NaN\n",
       "X201911_086.7_060.0_8     16.896999\n",
       "X201911_086.7_100.0_14    18.934999\n",
       "X201911_090.0_037.0_10    18.455000\n",
       "X201911_090.0_045.0_10    18.558001\n",
       "X201911_090.0_053.0_10    17.969999\n",
       "X201911_090.0_070.0_10    16.983000\n",
       "Name: T_degC, dtype: float64"
      ]
     },
     "execution_count": 17,
     "metadata": {},
     "output_type": "execute_result"
    }
   ],
   "source": [
    "env_features_18Sv4.loc[MLD_samples_18Sv4].iloc[510:521,5]"
   ]
  },
  {
   "cell_type": "code",
   "execution_count": 18,
   "id": "e320770c",
   "metadata": {},
   "outputs": [
    {
     "data": {
      "text/plain": [
       "RecInd                152\n",
       "NH3ug                  94\n",
       "Cast_Type              79\n",
       "PO4ug                  37\n",
       "SiO3ug                 37\n",
       "NO3ug                  37\n",
       "Cardinal_Sta           24\n",
       "ChlorA                 12\n",
       "Phaeop                 12\n",
       "O2ml_L                  8\n",
       "T_degC                  6\n",
       "Salnty                  4\n",
       "STheta                  4\n",
       "Bottle_Depth            4\n",
       "Lon_Dec                 4\n",
       "Lat_Dec                 4\n",
       "MLD_Sigma               4\n",
       "year                    4\n",
       "month                   4\n",
       "season                  4\n",
       "Mins_since_0000         4\n",
       "MixedLayer_Outlier      0\n",
       "dtype: int64"
      ]
     },
     "execution_count": 18,
     "metadata": {},
     "output_type": "execute_result"
    }
   ],
   "source": [
    "env_features_18Sv4.isna().apply(sum, axis = 0).sort_values(ascending=False)"
   ]
  },
  {
   "cell_type": "code",
   "execution_count": 19,
   "id": "3f81361b",
   "metadata": {},
   "outputs": [
    {
     "data": {
      "text/plain": [
       "Index(['Cast_Type', 'Cardinal_Sta', 'Lat_Dec', 'Lon_Dec', 'Bottle_Depth',\n",
       "       'T_degC', 'Salnty', 'STheta', 'O2ml_L', 'PO4ug', 'SiO3ug', 'NO3ug',\n",
       "       'MLD_Sigma', 'year', 'month', 'season', 'Mins_since_0000',\n",
       "       'MixedLayer_Outlier'],\n",
       "      dtype='object')"
      ]
     },
     "execution_count": 19,
     "metadata": {},
     "output_type": "execute_result"
    }
   ],
   "source": [
    "#drop chlorA and Phaeop[hycin], unhelpful correlations between metavariables\n",
    "#drop RecInd, too many nulls; drop NH3ug, same reasons\n",
    "#keep Cast_Type, etc. to find \"hidden\" effects on species counts\n",
    "useful_features = env_features_18Sv4.columns.drop([\"ChlorA\", \"Phaeop\", \"RecInd\", \"NH3ug\"])\n",
    "useful_features"
   ]
  },
  {
   "cell_type": "code",
   "execution_count": 20,
   "id": "0ba875b8",
   "metadata": {},
   "outputs": [],
   "source": [
    "#Both of these variables are read as strings, so might as well add \"unknown\" as a possible string-- using missing values as\n",
    "#another factor value\n",
    "env_features_18Sv4[\"Cast_Type\"] = env_features_18Sv4[\"Cast_Type\"].replace(np.nan, \"unknown\")\n",
    "env_features_18Sv9[\"Cast_Type\"] = env_features_18Sv9[\"Cast_Type\"].replace(np.nan, \"unknown\")\n",
    "\n",
    "env_features_18Sv4[\"Cardinal_Sta\"] = env_features_18Sv4[\"Cardinal_Sta\"].replace(np.nan, \"unknown\")\n",
    "env_features_18Sv9[\"Cardinal_Sta\"] = env_features_18Sv9[\"Cardinal_Sta\"].replace(np.nan, \"unknown\")"
   ]
  },
  {
   "cell_type": "code",
   "execution_count": 21,
   "id": "906f3281",
   "metadata": {},
   "outputs": [
    {
     "data": {
      "text/plain": [
       "PO4ug                 37\n",
       "SiO3ug                37\n",
       "NO3ug                 37\n",
       "O2ml_L                 8\n",
       "T_degC                 6\n",
       "season                 4\n",
       "Lat_Dec                4\n",
       "Lon_Dec                4\n",
       "Bottle_Depth           4\n",
       "Salnty                 4\n",
       "STheta                 4\n",
       "Mins_since_0000        4\n",
       "MLD_Sigma              4\n",
       "year                   4\n",
       "month                  4\n",
       "Cast_Type              0\n",
       "Cardinal_Sta           0\n",
       "MixedLayer_Outlier     0\n",
       "dtype: int64"
      ]
     },
     "execution_count": 21,
     "metadata": {},
     "output_type": "execute_result"
    }
   ],
   "source": [
    "env_features_18Sv4[useful_features].isna().apply(sum, axis = 0).sort_values(ascending=False)"
   ]
  },
  {
   "cell_type": "code",
   "execution_count": 22,
   "id": "490f9c9d",
   "metadata": {},
   "outputs": [
    {
     "data": {
      "text/plain": [
       "((1144, 22), (1484, 22))"
      ]
     },
     "execution_count": 22,
     "metadata": {},
     "output_type": "execute_result"
    }
   ],
   "source": [
    "env_features_18Sv4.shape, env_features_18Sv9.shape"
   ]
  },
  {
   "cell_type": "code",
   "execution_count": 23,
   "id": "2cbba5cd",
   "metadata": {},
   "outputs": [
    {
     "data": {
      "text/plain": [
       "(623, 790)"
      ]
     },
     "execution_count": 23,
     "metadata": {},
     "output_type": "execute_result"
    }
   ],
   "source": [
    "#these series are derived from the \"asv_freqs\" tables which already have Spike sequence counts and all-zero rows removed.\n",
    "MLD_samples_18Sv4.size, MLD_samples_18Sv9.size"
   ]
  },
  {
   "cell_type": "code",
   "execution_count": 24,
   "id": "8778f5a6",
   "metadata": {},
   "outputs": [
    {
     "data": {
      "text/plain": [
       "((957, 22), (509, 22))"
      ]
     },
     "execution_count": 24,
     "metadata": {},
     "output_type": "execute_result"
    }
   ],
   "source": [
    "env_features_18Sv4.dropna().shape, env_features_18Sv4.loc[MLD_samples_18Sv4].dropna().shape"
   ]
  },
  {
   "cell_type": "code",
   "execution_count": 25,
   "id": "c513f92a",
   "metadata": {},
   "outputs": [
    {
     "data": {
      "text/plain": [
       "((1281, 22), (673, 22))"
      ]
     },
     "execution_count": 25,
     "metadata": {},
     "output_type": "execute_result"
    }
   ],
   "source": [
    "env_features_18Sv9.dropna().shape, env_features_18Sv9.loc[MLD_samples_18Sv9].dropna().shape "
   ]
  },
  {
   "cell_type": "code",
   "execution_count": 26,
   "id": "4295efed",
   "metadata": {},
   "outputs": [],
   "source": [
    "#might as well drop the samples now.\n",
    "env_features_18Sv4 = env_features_18Sv4.dropna()\n",
    "env_features_18Sv9 = env_features_18Sv9.dropna()\n",
    "\n",
    "MLD_samples_18Sv4 = MLD_samples_18Sv4.intersection(env_features_18Sv4.index)\n",
    "MLD_samples_18Sv9 = MLD_samples_18Sv9.intersection(env_features_18Sv9.index)\n",
    "\n",
    "raw_asv_counts_18Sv4 = raw_asv_counts_18Sv4[env_features_18Sv4.index]\n",
    "raw_asv_counts_18Sv9 = raw_asv_counts_18Sv9[env_features_18Sv9.index]"
   ]
  },
  {
   "cell_type": "code",
   "execution_count": 27,
   "id": "8b94c74c",
   "metadata": {},
   "outputs": [
    {
     "data": {
      "text/plain": [
       "((957, 22), (509,), (34496, 957))"
      ]
     },
     "execution_count": 27,
     "metadata": {},
     "output_type": "execute_result"
    }
   ],
   "source": [
    "env_features_18Sv4.shape, MLD_samples_18Sv4.shape, raw_asv_counts_18Sv4.shape"
   ]
  },
  {
   "cell_type": "code",
   "execution_count": 28,
   "id": "ddbe6c29",
   "metadata": {},
   "outputs": [
    {
     "data": {
      "text/plain": [
       "((1281, 22), (673,), (50407, 1281))"
      ]
     },
     "execution_count": 28,
     "metadata": {},
     "output_type": "execute_result"
    }
   ],
   "source": [
    "env_features_18Sv9.shape, MLD_samples_18Sv9.shape, raw_asv_counts_18Sv9.shape"
   ]
  },
  {
   "cell_type": "markdown",
   "id": "fa4215f4",
   "metadata": {},
   "source": [
    "### Filtering columns (ASVs).\n",
    "\n",
    "third-quartile filter described in Chaffron: for each sample find Q3. each ASV must be above sample Q3 for at least five samples.\n",
    "\n",
    "ASV consolidation by species: add together any ASVs that have the same species name?"
   ]
  },
  {
   "cell_type": "code",
   "execution_count": 29,
   "id": "adc7cc13",
   "metadata": {},
   "outputs": [
    {
     "data": {
      "image/png": "[encoded data removed]",
      "text/plain": [
       "<Figure size 640x480 with 2 Axes>"
      ]
     },
     "metadata": {},
     "output_type": "display_data"
    }
   ],
   "source": [
    "#total raw read counts for MLD samples only.\n",
    "fig, ax = plt.subplots(2)\n",
    "ax[0].hist(raw_asv_counts_18Sv4[MLD_samples_18Sv4].apply(sum), bins = range(0, 300000, 1000))\n",
    "ax[1].hist(raw_asv_counts_18Sv9[MLD_samples_18Sv9].apply(sum), bins = range(0, 300000, 1000))\n",
    "plt.show()"
   ]
  },
  {
   "cell_type": "code",
   "execution_count": 30,
   "id": "03830ae1",
   "metadata": {},
   "outputs": [
    {
     "data": {
      "image/png": "[encoded data removed]",
      "text/plain": [
       "<Figure size 640x480 with 2 Axes>"
      ]
     },
     "metadata": {},
     "output_type": "display_data"
    }
   ],
   "source": [
    "#total raw counts for all samples: histogram\n",
    "fig, ax = plt.subplots(2)\n",
    "ax[0].hist(raw_asv_counts_18Sv4.apply(sum), bins = range(0, 300000, 1000))\n",
    "ax[1].hist(raw_asv_counts_18Sv9.apply(sum), bins = range(0, 300000, 1000))\n",
    "plt.show()"
   ]
  },
  {
   "cell_type": "code",
   "execution_count": 31,
   "id": "d524846d",
   "metadata": {},
   "outputs": [],
   "source": [
    "def consolidate_asvs(frame_row, asv_counts, asv_names):\n",
    "    species_name = frame_row.name\n",
    "    #Per sample sums of all ASV counts for ASVs identified as this species.\n",
    "    #try:\n",
    "    counts = asv_counts.loc[asv_names == species_name]\n",
    "    #except ValueError:\n",
    "    #    print(species_name)\n",
    "    #    quit(1)\n",
    "    count_sum = counts.apply(sum, axis = 0).rename(species_name)\n",
    "    #print(species_name)\n",
    "    #assert((count_sum.index == asv_counts.columns).all())\n",
    "    return count_sum"
   ]
  },
  {
   "cell_type": "code",
   "execution_count": 32,
   "id": "f93d83fe",
   "metadata": {},
   "outputs": [],
   "source": [
    "#ASV consolidation: for each ASV, indicate whether corresponding taxon has a species name or not.\n",
    "has_species_name_18Sv4 = asv_taxo_mft_18Sv4[\"Taxon\"].str.strip(\";.\").str.split(\";\").apply(lambda x: len(x) > 8)\n",
    "no_species_name_18Sv4 = has_species_name_18Sv4.apply(lambda x: not x)\n",
    "\n",
    "#for those species which have species names, can add together ASV frequencies according to species name\n",
    "unique_species_names_18Sv4 = asv_taxo_mft_18Sv4.loc[has_species_name_18Sv4, \"most_specific_name\"].unique()\n",
    "\n",
    "#new dataframe: rows are samples, columns are sequences or groups of sequences\n",
    "consolidated_counts_18Sv4 = pd.DataFrame(\n",
    "    np.zeros((raw_asv_counts_18Sv4.columns.size, unique_species_names_18Sv4.size)), \n",
    "    columns = unique_species_names_18Sv4,\n",
    "    index = raw_asv_counts_18Sv4.columns\n",
    ").apply(\n",
    "    consolidate_asvs, \n",
    "    axis = 0, #apply function row by row: rows contain species names\n",
    "    #kwargs\n",
    "    asv_counts=raw_asv_counts_18Sv4, \n",
    "    asv_names=asv_taxo_mft_18Sv4[\"most_specific_name\"]\n",
    ").join(\n",
    "    #index to index join\n",
    "    raw_asv_counts_18Sv4[no_species_name_18Sv4].transpose()\n",
    ")"
   ]
  },
  {
   "cell_type": "code",
   "execution_count": 33,
   "id": "ff72405f",
   "metadata": {},
   "outputs": [],
   "source": [
    "#ASV consolidation: for each ASV, indicate whether corresponding taxon has a species name or not.\n",
    "has_species_name_18Sv9 = asv_taxo_mft_18Sv9[\"Taxon\"].str.strip(\";.\").str.split(\";\").apply(lambda x: len(x) > 8)\n",
    "no_species_name_18Sv9 = has_species_name_18Sv9.apply(lambda x: not x)\n",
    "\n",
    "#for those species which have species names, can add together ASV frequencies according to species name\n",
    "unique_species_names_18Sv9 = asv_taxo_mft_18Sv9.loc[has_species_name_18Sv9, \"most_specific_name\"].unique()\n",
    "\n",
    "#new dataframe: rows are samples, columns are sequences or groups of sequences\n",
    "consolidated_counts_18Sv9 = pd.DataFrame(\n",
    "    np.zeros((raw_asv_counts_18Sv9.columns.size, unique_species_names_18Sv9.size)), \n",
    "    columns = unique_species_names_18Sv9,\n",
    "    index = raw_asv_counts_18Sv9.columns\n",
    ").apply(\n",
    "    consolidate_asvs, \n",
    "    axis = 0, #apply function row by row: rows contain species names\n",
    "    #kwargs\n",
    "    asv_counts=raw_asv_counts_18Sv9, \n",
    "    asv_names=asv_taxo_mft_18Sv9[\"most_specific_name\"]\n",
    ").join(\n",
    "    #index to index join\n",
    "    raw_asv_counts_18Sv9[no_species_name_18Sv9].transpose()\n",
    ")"
   ]
  },
  {
   "cell_type": "code",
   "execution_count": 34,
   "id": "d786a890",
   "metadata": {},
   "outputs": [
    {
     "data": {
      "text/plain": [
       "False"
      ]
     },
     "execution_count": 34,
     "metadata": {},
     "output_type": "execute_result"
    }
   ],
   "source": [
    "#no join errors: not even a single cell is false\n",
    "consolidated_counts_18Sv4.isna().any().any()"
   ]
  },
  {
   "cell_type": "code",
   "execution_count": 35,
   "id": "956d39a2",
   "metadata": {},
   "outputs": [
    {
     "data": {
      "text/plain": [
       "False"
      ]
     },
     "execution_count": 35,
     "metadata": {},
     "output_type": "execute_result"
    }
   ],
   "source": [
    "#no join errors\n",
    "consolidated_counts_18Sv9.isna().any().any()"
   ]
  },
  {
   "cell_type": "code",
   "execution_count": 36,
   "id": "4205ccb7",
   "metadata": {},
   "outputs": [
    {
     "data": {
      "text/plain": [
       "(957, 16745)"
      ]
     },
     "execution_count": 36,
     "metadata": {},
     "output_type": "execute_result"
    }
   ],
   "source": [
    "consolidated_counts_18Sv4.shape"
   ]
  },
  {
   "cell_type": "markdown",
   "id": "dec647cc",
   "metadata": {},
   "source": [
    "How effective would a q3 filter be -> What is the distribution of per-sample Q3s? Turns out it's all 0, for all of them, even after species consolidation!\n",
    "\n",
    "Would be more effective probably to just outright say \"this species/ASV has to have nonzero counts in 10 samples, or 20\"."
   ]
  },
  {
   "cell_type": "code",
   "execution_count": 37,
   "id": "658264aa",
   "metadata": {},
   "outputs": [
    {
     "data": {
      "text/plain": [
       "((array([  0.,   0.,   0.,   0.,   0., 957.,   0.,   0.,   0.,   0.]),\n",
       "  array([-0.5, -0.4, -0.3, -0.2, -0.1,  0. ,  0.1,  0.2,  0.3,  0.4,  0.5]),\n",
       "  <BarContainer object of 10 artists>),\n",
       " (array([   0.,    0.,    0.,    0.,    0., 1281.,    0.,    0.,    0.,\n",
       "            0.]),\n",
       "  array([-0.5, -0.4, -0.3, -0.2, -0.1,  0. ,  0.1,  0.2,  0.3,  0.4,  0.5]),\n",
       "  <BarContainer object of 10 artists>))"
      ]
     },
     "execution_count": 37,
     "metadata": {},
     "output_type": "execute_result"
    },
    {
     "data": {
      "image/png": "[encoded data removed]",
      "text/plain": [
       "<Figure size 640x480 with 2 Axes>"
      ]
     },
     "metadata": {},
     "output_type": "display_data"
    }
   ],
   "source": [
    "per_sample_q3_18Sv4 = consolidated_counts_18Sv4.apply(lambda row: np.quantile(row, 0.75), axis = 1)\n",
    "per_sample_q3_18Sv9 = consolidated_counts_18Sv9.apply(lambda row: np.quantile(row, 0.75), axis = 1)\n",
    "fig, ax = plt.subplots(2,1)\n",
    "ax[0].hist(per_sample_q3_18Sv4, log = True),\\\n",
    "ax[1].hist(per_sample_q3_18Sv9, log = True)"
   ]
  },
  {
   "cell_type": "code",
   "execution_count": 38,
   "id": "51458c7a",
   "metadata": {},
   "outputs": [],
   "source": [
    "def q3_filter_mask(frame):\n",
    "    #Iterates over samples and generates Q3 for each.\n",
    "    per_sample_q3 = frame.apply(lambda row: np.quantile(row, 0.75), axis = 1) #apply to each row\n",
    "    #print(per_sample_q3.shape)\n",
    "    \n",
    "    #Iterates over \"species\" and checks sample abundance > Q3. if sum(...) < 5, discard this \"species\"\n",
    "    #return row_mask\n",
    "    return frame.apply(lambda col: sum( col > per_sample_q3 ) >= 5)\n",
    "    \n",
    "filtered_counts_18Sv4 = consolidated_counts_18Sv4.loc[:, q3_filter_mask(consolidated_counts_18Sv4)]\n",
    "filtered_counts_18Sv9 = consolidated_counts_18Sv9.loc[:, q3_filter_mask(consolidated_counts_18Sv9)]"
   ]
  },
  {
   "cell_type": "code",
   "execution_count": 39,
   "id": "de05ac37",
   "metadata": {},
   "outputs": [
    {
     "data": {
      "text/plain": [
       "((957, 3092), (1281, 8475))"
      ]
     },
     "execution_count": 39,
     "metadata": {},
     "output_type": "execute_result"
    }
   ],
   "source": [
    "filtered_counts_18Sv4.shape, filtered_counts_18Sv9.shape"
   ]
  },
  {
   "cell_type": "markdown",
   "id": "e5398fa5",
   "metadata": {},
   "source": [
    "Still a lot of zeroes, could lead to spurious correlations. Can try this again with the no_species ASVs removed: this allows a much higher proportion of nonzero values.\n",
    "\n",
    "**As an intermediate solution, can also make the q3 filter more stringent.** But the maximum expected \"nonzero cell percentage\" won't exceed 18% in 18Sv4, 23% in 18Sv9."
   ]
  },
  {
   "cell_type": "code",
   "execution_count": 40,
   "id": "bea1d894",
   "metadata": {},
   "outputs": [
    {
     "data": {
      "text/plain": [
       "0.078076567972629"
      ]
     },
     "execution_count": 40,
     "metadata": {},
     "output_type": "execute_result"
    }
   ],
   "source": [
    "sum(filtered_counts_18Sv4.values.flatten() > 0)/filtered_counts_18Sv4.size"
   ]
  },
  {
   "cell_type": "code",
   "execution_count": 41,
   "id": "272bad6c",
   "metadata": {},
   "outputs": [
    {
     "data": {
      "text/plain": [
       "0.06073499915948777"
      ]
     },
     "execution_count": 41,
     "metadata": {},
     "output_type": "execute_result"
    }
   ],
   "source": [
    "sum(filtered_counts_18Sv9.values.flatten() > 0)/filtered_counts_18Sv9.size"
   ]
  },
  {
   "cell_type": "code",
   "execution_count": 42,
   "id": "d7080160",
   "metadata": {},
   "outputs": [
    {
     "data": {
      "text/plain": [
       "0.18069072007134823"
      ]
     },
     "execution_count": 42,
     "metadata": {},
     "output_type": "execute_result"
    }
   ],
   "source": [
    "sum(filtered_counts_18Sv4[filtered_counts_18Sv4.columns.drop(asv_freqs_18Sv4.index, errors=\"ignore\")].values.flatten() > 0)\\\n",
    "/filtered_counts_18Sv4[filtered_counts_18Sv4.columns.drop(asv_freqs_18Sv4.index, errors=\"ignore\")].size"
   ]
  },
  {
   "cell_type": "code",
   "execution_count": 43,
   "id": "d7186190",
   "metadata": {},
   "outputs": [
    {
     "data": {
      "text/plain": [
       "0.23797362039269004"
      ]
     },
     "execution_count": 43,
     "metadata": {},
     "output_type": "execute_result"
    }
   ],
   "source": [
    "sum(filtered_counts_18Sv9[filtered_counts_18Sv9.columns.drop(asv_freqs_18Sv9.index, errors=\"ignore\")].values.flatten() > 0)\\\n",
    "/filtered_counts_18Sv9[filtered_counts_18Sv9.columns.drop(asv_freqs_18Sv9.index, errors=\"ignore\")].size"
   ]
  },
  {
   "cell_type": "markdown",
   "id": "0217548b",
   "metadata": {},
   "source": [
    "#mean percentile for a given species within each sample...\n",
    "#would need access to each row to calculate rank, and access to each col to calculate mean rank. every single calculation\n",
    "#would make use of the entire matrix.\n",
    "#instead, just using mean proportion."
   ]
  },
  {
   "cell_type": "code",
   "execution_count": 44,
   "id": "d5afd293",
   "metadata": {},
   "outputs": [],
   "source": [
    "#can make proportions with per-column or per-row totals: here, samples are rows.\n",
    "from helper_functions import proportional_frequencies"
   ]
  },
  {
   "cell_type": "code",
   "execution_count": 45,
   "id": "0c2870c2",
   "metadata": {},
   "outputs": [
    {
     "data": {
      "image/png": "[encoded data removed]",
      "text/plain": [
       "<Figure size 640x480 with 2 Axes>"
      ]
     },
     "metadata": {},
     "output_type": "display_data"
    }
   ],
   "source": [
    "fig, ax = plt.subplots(1,2)\n",
    "ax[0].hist(consolidated_counts_18Sv4.apply(proportional_frequencies, axis = 1).apply(np.median, axis = 0), log = True)\n",
    "ax[1].hist(filtered_counts_18Sv4.apply(proportional_frequencies, axis = 1).apply(np.median, axis = 0), log = True)\n",
    "plt.show()"
   ]
  },
  {
   "cell_type": "code",
   "execution_count": 46,
   "id": "60d97034",
   "metadata": {},
   "outputs": [
    {
     "data": {
      "image/png": "[encoded data removed]",
      "text/plain": [
       "<Figure size 640x480 with 2 Axes>"
      ]
     },
     "metadata": {},
     "output_type": "display_data"
    }
   ],
   "source": [
    "fig, ax = plt.subplots(1,2)\n",
    "ax[0].hist(consolidated_counts_18Sv9.apply(proportional_frequencies, axis = 1).apply(np.median, axis = 0), log = True)\n",
    "ax[1].hist(filtered_counts_18Sv9.apply(proportional_frequencies, axis = 1).apply(np.median, axis = 0), log = True)\n",
    "plt.show()"
   ]
  },
  {
   "cell_type": "markdown",
   "id": "e0fac42d",
   "metadata": {},
   "source": [
    "### Preparing tables for Flashweave.\n",
    "\n",
    "\"NOTE: OTU table and metadata table must be aligned such that each row corresponds to the same sample in both files (i.e. sample 1 data is found in row 1 in both files, etc.).\"\n",
    "\n",
    "leave sample ID in, it has only been removed from the \"tiny\" examples, is present in the \"small\".\n",
    "\n",
    "\"Meta variables containing string factors with more than two categories are automatically one-hot encoded by FlashWeave prior to network inference to increase the reliability and interpretability of statistical tests (the user will be notified if this happens).\"\n",
    "\n",
    "See the \"attack\" notebook from michael for how graph output becomes readable, esp. in python. (it becomes so by exporting a .gml graph from flashweave and importing it into python environment with networkx)"
   ]
  },
  {
   "cell_type": "code",
   "execution_count": 47,
   "id": "5e81f6ad",
   "metadata": {},
   "outputs": [
    {
     "data": {
      "text/plain": [
       "(4, 18, 22)"
      ]
     },
     "execution_count": 47,
     "metadata": {},
     "output_type": "execute_result"
    }
   ],
   "source": [
    "categorical_env_features = env_features_18Sv4.select_dtypes(exclude=[float]).columns\n",
    "numerical_env_features = env_features_18Sv4.select_dtypes(include=[float]).columns\n",
    "categorical_env_features.size, numerical_env_features.size, env_features_18Sv4.columns.size"
   ]
  },
  {
   "cell_type": "code",
   "execution_count": 48,
   "id": "13cbb137",
   "metadata": {},
   "outputs": [
    {
     "data": {
      "text/plain": [
       "(14, 14)"
      ]
     },
     "execution_count": 48,
     "metadata": {},
     "output_type": "execute_result"
    },
    {
     "data": {
      "image/png": "[encoded data removed]",
      "text/plain": [
       "<Figure size 640x480 with 2 Axes>"
      ]
     },
     "metadata": {},
     "output_type": "display_data"
    }
   ],
   "source": [
    "import seaborn as sns\n",
    "#kendall, spearman both show similar looking graphs\n",
    "feature_correlations_18Sv4 = env_features_18Sv4.loc[\n",
    "    MLD_samples_18Sv4, \n",
    "    numerical_env_features.intersection(useful_features)\n",
    "].corr(method=\"spearman\")\n",
    "#with sns.set_theme(rc={'figure.figsize':(15,12), 'font.size':10}): #local context\n",
    "sns.heatmap(feature_correlations_18Sv4, cmap='coolwarm', annot=True, annot_kws={\"size\":5})\n",
    "feature_correlations_18Sv4.shape"
   ]
  },
  {
   "cell_type": "code",
   "execution_count": 49,
   "id": "1c61136f",
   "metadata": {},
   "outputs": [
    {
     "data": {
      "text/plain": [
       "(509, 673)"
      ]
     },
     "execution_count": 49,
     "metadata": {},
     "output_type": "execute_result"
    }
   ],
   "source": [
    "MLD_samples_18Sv4.size, MLD_samples_18Sv9.size"
   ]
  },
  {
   "cell_type": "code",
   "execution_count": 50,
   "id": "6124d7c9",
   "metadata": {},
   "outputs": [
    {
     "data": {
      "text/plain": [
       "((957, 3092), (509, 3092))"
      ]
     },
     "execution_count": 50,
     "metadata": {},
     "output_type": "execute_result"
    }
   ],
   "source": [
    "filtered_counts_18Sv4.shape, filtered_counts_18Sv4.loc[MLD_samples_18Sv4].shape"
   ]
  },
  {
   "cell_type": "code",
   "execution_count": 51,
   "id": "ae25c317",
   "metadata": {},
   "outputs": [
    {
     "data": {
      "text/plain": [
       "(False, False)"
      ]
     },
     "execution_count": 51,
     "metadata": {},
     "output_type": "execute_result"
    }
   ],
   "source": [
    "#should now be safe for Flashweave.\n",
    "env_features_18Sv4.isna().any().any(), env_features_18Sv9.isna().any().any()"
   ]
  },
  {
   "cell_type": "markdown",
   "id": "0efcbaeb",
   "metadata": {},
   "source": [
    "Number of output tables:\n",
    "- leave out non-MLD samples vs leave them in.\n",
    "- 18Sv4 vs v9.\n",
    "- pseudocounts vs no pseudocounts.\n",
    "8 tables total? and that's just species counts, but metadata shouldn't change except for the MLD-or-not one."
   ]
  },
  {
   "cell_type": "code",
   "execution_count": 52,
   "id": "43de08a3",
   "metadata": {},
   "outputs": [],
   "source": [
    "filtered_counts_18Sv4_pcounts = filtered_counts_18Sv4 + 1\n",
    "filtered_counts_18Sv9_pcounts = filtered_counts_18Sv9 + 1"
   ]
  },
  {
   "cell_type": "code",
   "execution_count": 53,
   "id": "8bf87e79",
   "metadata": {},
   "outputs": [],
   "source": [
    "#delete/comment out based on what flasheave rejects\n",
    "filtered_counts_18Sv4.to_csv(\"03_counts_18Sv4_alldepths_nopcounts.tsv\", sep = \"\\t\", index=True)\n",
    "filtered_counts_18Sv4.loc[MLD_samples_18Sv4].to_csv(\"03_counts_18Sv4_MLD_nopcounts.tsv\", sep = \"\\t\", index=True)\n",
    "filtered_counts_18Sv4_pcounts.to_csv(\"03_counts_18Sv4_alldepths_pcounts.tsv\", sep = \"\\t\", index=True)\n",
    "filtered_counts_18Sv4_pcounts.loc[MLD_samples_18Sv4].to_csv(\"03_counts_18Sv4_MLD_pcounts.tsv\", sep = \"\\t\", index=True)\n",
    "\n",
    "filtered_counts_18Sv9.to_csv(\"03_counts_18Sv9_alldepths_nopcounts.tsv\", sep = \"\\t\", index=True)\n",
    "filtered_counts_18Sv9.loc[MLD_samples_18Sv9].to_csv(\"03_counts_18Sv9_MLD_nopcounts.tsv\", sep = \"\\t\", index=True)\n",
    "filtered_counts_18Sv9_pcounts.to_csv(\"03_counts_18Sv9_alldepths_pcounts.tsv\", sep = \"\\t\", index=True)\n",
    "filtered_counts_18Sv9_pcounts.loc[MLD_samples_18Sv9].to_csv(\"03_counts_18Sv9_MLD_pcounts.tsv\", sep = \"\\t\", index=True)"
   ]
  },
  {
   "cell_type": "code",
   "execution_count": 54,
   "id": "6ee79176",
   "metadata": {},
   "outputs": [],
   "source": [
    "#metavariable tables: alldepths vs MLD, for 18Sv4 and v9.\n",
    "env_features_18Sv4[useful_features].to_csv(\"03_mvars_18Sv4_alldepths.tsv\", sep = \"\\t\", index=True)\n",
    "env_features_18Sv4.loc[MLD_samples_18Sv4, useful_features].to_csv(\"03_mvars_18Sv4_MLD.tsv\", sep = \"\\t\", index=True)\n",
    "\n",
    "env_features_18Sv9[useful_features].to_csv(\"03_mvars_18Sv9_alldepths.tsv\", sep = \"\\t\", index=True)\n",
    "env_features_18Sv9.loc[MLD_samples_18Sv9, useful_features].to_csv(\"03_mvars_18Sv9_MLD.tsv\", sep = \"\\t\", index=True)"
   ]
  },
  {
   "cell_type": "markdown",
   "id": "f22fd7ab",
   "metadata": {},
   "source": [
    "### 16S Tables? \n",
    "\n",
    "Flashweave can normalize them independently. pretty sure they have to have the same row number and order as the other tables (18S and metadata)."
   ]
  },
  {
   "cell_type": "code",
   "execution_count": 85,
   "id": "fb75bf7a",
   "metadata": {},
   "outputs": [],
   "source": [
    "import re\n",
    "#a = re.compile(r\"\"\"\\d +  # the integral part\n",
    "#                   \\.    # the decimal point\n",
    "#                   \\d *  # some fractional digits\"\"\", re.X)"
   ]
  },
  {
   "cell_type": "code",
   "execution_count": 57,
   "id": "e90e75ee",
   "metadata": {},
   "outputs": [],
   "source": [
    "raw_asv_counts_16S = pd.read_csv(\"input_data_files/NCOG_21_16S_redo2_asv_count_tax.tsv\", sep = \"\\t\", index_col=0)\n",
    "asv_taxonomies_16S = raw_asv_counts_16S[[\"silva_Taxon\",\"silva_Confidence\"]]"
   ]
  },
  {
   "cell_type": "code",
   "execution_count": 75,
   "id": "0d2e2cc1",
   "metadata": {},
   "outputs": [
    {
     "data": {
      "text/plain": [
       "(28909, 1071)"
      ]
     },
     "execution_count": 75,
     "metadata": {},
     "output_type": "execute_result"
    }
   ],
   "source": [
    "raw_asv_counts_16S.shape"
   ]
  },
  {
   "cell_type": "code",
   "execution_count": 113,
   "id": "8a284e6d",
   "metadata": {},
   "outputs": [
    {
     "data": {
      "text/plain": [
       "(7155, 21754)"
      ]
     },
     "execution_count": 113,
     "metadata": {},
     "output_type": "execute_result"
    }
   ],
   "source": [
    "#exclude eukaryota and mitochondrion genes\n",
    "asvs_to_exclude_16S = asv_taxonomies_16S[\"silva_Taxon\"].str.contains(\"Eukaryota\") |\\\n",
    "                        asv_taxonomies_16S[\"silva_Taxon\"].str.contains(\"Mitochondria\") |\\\n",
    "                        asv_taxonomies_16S[\"silva_Taxon\"].str.contains(\"Chloroplast\")\n",
    "asvs_to_include_16S = asvs_to_exclude_16S.apply(lambda x: not x)\n",
    "sum(asvs_to_exclude_16S), sum(asvs_to_include_16S)"
   ]
  },
  {
   "cell_type": "code",
   "execution_count": 91,
   "id": "267ec09c",
   "metadata": {},
   "outputs": [],
   "source": [
    "tag_16S = re.compile(r\"_16S.*\")\n",
    "raw_asv_counts_16S.columns = raw_asv_counts_16S.columns.str.replace(tag_16S, \"\")"
   ]
  },
  {
   "cell_type": "code",
   "execution_count": 104,
   "id": "ee5de2bb",
   "metadata": {},
   "outputs": [],
   "source": [
    "shared_samples_16S_18Sv4 = raw_asv_counts_16S.columns.intersection(filtered_counts_18Sv4.index)\n",
    "shared_samples_16S_18Sv9 = raw_asv_counts_16S.columns.intersection(filtered_counts_18Sv9.index)"
   ]
  },
  {
   "cell_type": "code",
   "execution_count": 105,
   "id": "b887ddcd",
   "metadata": {},
   "outputs": [
    {
     "data": {
      "text/plain": [
       "Index(['X201504_083.3_090.0_72'], dtype='object')"
      ]
     },
     "execution_count": 105,
     "metadata": {},
     "output_type": "execute_result"
    }
   ],
   "source": [
    "#the only sample to be in 16S and 18Sv9 but not 18Sv4.\n",
    "raw_asv_counts_16S.columns.drop( shared_samples_16S_18Sv9 ).difference(\n",
    "raw_asv_counts_16S.columns.drop( shared_samples_16S_18Sv4 )\n",
    ")"
   ]
  },
  {
   "cell_type": "code",
   "execution_count": 142,
   "id": "93611faf",
   "metadata": {},
   "outputs": [
    {
     "data": {
      "text/plain": [
       "28593"
      ]
     },
     "execution_count": 142,
     "metadata": {},
     "output_type": "execute_result"
    }
   ],
   "source": [
    "#consolidating/filtering 16S? seems necessary since FlashWeave is running out of memory.\n",
    "species_name = re.compile(r\"s\")\n",
    "sum(asv_taxonomies_16S[\"silva_Taxon\"].str.match(r'd'))"
   ]
  },
  {
   "cell_type": "code",
   "execution_count": 151,
   "id": "5642f081",
   "metadata": {},
   "outputs": [
    {
     "data": {
      "text/plain": [
       "Feature.ID\n",
       "0007750f83d6991ae589d472230b1d11                                                                 d__Bacteria; p__Bacteroidota; c__Bacteroidia; o__Flavobacteriales; f__Cryomorphaceae; g__NS10_marine_group; s__uncultured_Bacteroidetes/Chlorobi\n",
       "0014190ab4bbee9c985ea1f7fc5e6116    d__Bacteria; p__Marinimicrobia_(SAR406_clade); c__Marinimicrobia_(SAR406_clade); o__Marinimicrobia_(SAR406_clade); f__Marinimicrobia_(SAR406_clade); g__Marinimicrobia_(SAR406_clade); s__unidentified_marine\n",
       "001d7fe59fdb2c1a4747c4feb9a8f8ef                                                                       d__Bacteria; p__Bdellovibrionota; c__Bdellovibrionia; o__Bacteriovoracales; f__Bacteriovoracaceae; g__Peredibacter; s__uncultured_organism\n",
       "0021134a7998b5200704acd47b82c7b7                                                                                                                              d__Bacteria; p__WPS-2; c__WPS-2; o__WPS-2; f__WPS-2; g__WPS-2; s__marine_metagenome\n",
       "002c14075180e4484913e02e02dead50                                                                   d__Bacteria; p__Bacteroidota; c__Bacteroidia; o__Flavobacteriales; f__Crocinitomicaceae; g__Crocinitomix; s__uncultured_Bacteroidetes/Chlorobi\n",
       "                                                                                                                                        ...                                                                                                      \n",
       "ffdecce8789c89374e053ab51727b002                                                                                                  d__Bacteria; p__Myxococcota; c__Myxococcia; o__Myxococcales; f__Myxococcaceae; g__P3OB-42; s__uncultured_marine\n",
       "ffea7457de7711f0b6e83c715de10cce                                                                                         d__Bacteria; p__Proteobacteria; c__Alphaproteobacteria; o__Parvibaculales; f__PS1_clade; g__PS1_clade; s__uncultured_PS1\n",
       "ffec0d080d61f2b82dde351ab6f0a910                                                                                  d__Bacteria; p__Proteobacteria; c__Gammaproteobacteria; o__SAR86_clade; f__SAR86_clade; g__SAR86_clade; s__uncultured_bacterium\n",
       "ffef24b37b1b776cb28ad016e7de42e5                                                                                     d__Bacteria; p__Proteobacteria; c__Alphaproteobacteria; o__Rickettsiales; f__Fokiniaceae; g__MD3-55; s__uncultured_bacterium\n",
       "fff1c15f23ccf0c00bb3b9f16cb363c4                                                                              d__Bacteria; p__Proteobacteria; c__Alphaproteobacteria; o__Rickettsiales; f__Rickettsiaceae; g__uncultured; s__uncultured_bacterium\n",
       "Name: silva_Taxon, Length: 10986, dtype: object"
      ]
     },
     "metadata": {},
     "output_type": "display_data"
    }
   ],
   "source": [
    "#consolidating/filtering 16S? seems necessary since FlashWeave is running out of memory.\n",
    "#can do this after 18S.\n",
    "with pd.option_context(\"display.max_colwidth\", None):\n",
    "    display(asv_taxonomies_16S.loc[asv_taxonomies_16S[\"silva_Taxon\"].str.match(r'.*s__.*'), \"silva_Taxon\"].loc[asvs_to_include_16S])"
   ]
  },
  {
   "cell_type": "code",
   "execution_count": 124,
   "id": "55788cfc",
   "metadata": {},
   "outputs": [
    {
     "data": {
      "text/plain": [
       "(800, 21754)"
      ]
     },
     "execution_count": 124,
     "metadata": {},
     "output_type": "execute_result"
    }
   ],
   "source": [
    "asv_counts_16S_18Sv4 = raw_asv_counts_16S.loc[asvs_to_include_16S, shared_samples_16S_18Sv4].transpose()\n",
    "asv_counts_16S_18Sv4.shape"
   ]
  },
  {
   "cell_type": "code",
   "execution_count": 116,
   "id": "6e7cadfa",
   "metadata": {},
   "outputs": [
    {
     "data": {
      "text/plain": [
       "(799, 21754)"
      ]
     },
     "execution_count": 116,
     "metadata": {},
     "output_type": "execute_result"
    }
   ],
   "source": [
    "asv_counts_16S_18Sv9 = raw_asv_counts_16S.loc[asvs_to_include_16S, shared_samples_16S_18Sv9].transpose()\n",
    "asv_counts_16S_18Sv9.shape"
   ]
  },
  {
   "cell_type": "code",
   "execution_count": 125,
   "id": "37d36f05",
   "metadata": {},
   "outputs": [],
   "source": [
    "MLD_samples_16S_18Sv4 = asv_counts_16S_18Sv4.index.intersection(MLD_samples_18Sv4)\n",
    "MLD_samples_16S_18Sv9 = asv_counts_16S_18Sv9.index.intersection(MLD_samples_18Sv9)"
   ]
  },
  {
   "cell_type": "code",
   "execution_count": 126,
   "id": "1d2c9e53",
   "metadata": {},
   "outputs": [
    {
     "data": {
      "text/plain": [
       "(430, 430)"
      ]
     },
     "execution_count": 126,
     "metadata": {},
     "output_type": "execute_result"
    }
   ],
   "source": [
    "MLD_samples_16S_18Sv4.size, MLD_samples_16S_18Sv9.size"
   ]
  },
  {
   "cell_type": "code",
   "execution_count": 128,
   "id": "9a31ba17",
   "metadata": {},
   "outputs": [],
   "source": [
    "#cannot save file in a nonexistent directory\n",
    "asv_counts_16S_18Sv4.to_csv(\n",
    "    \"counts_mvars_16S_and_18S/asv_counts_16S_18Sv4_alldepths.tsv\", sep = \"\\t\", index = True)\n",
    "filtered_counts_18Sv4.loc[shared_samples_16S_18Sv4].to_csv(\n",
    "    \"counts_mvars_16S_and_18S/asv_counts_18Sv4_alldepths.tsv\", sep = \"\\t\", index=True)\n",
    "asv_counts_16S_18Sv9.to_csv(\n",
    "    \"counts_mvars_16S_and_18S/asv_counts_16S_18Sv9_alldepths.tsv\", sep = \"\\t\", index = True)\n",
    "filtered_counts_18Sv9.loc[shared_samples_16S_18Sv9].to_csv(\n",
    "    \"counts_mvars_16S_and_18S/asv_counts_18Sv9_alldepths.tsv\", sep = \"\\t\", index=True)\n",
    "\n",
    "#MLD samples only\n",
    "asv_counts_16S_18Sv4.loc[MLD_samples_16S_18Sv4].to_csv(\n",
    "    \"counts_mvars_16S_and_18S/asv_counts_16S_18Sv4_MLD.tsv\", sep = \"\\t\", index = True)\n",
    "filtered_counts_18Sv4.loc[MLD_samples_16S_18Sv4].to_csv(\n",
    "    \"counts_mvars_16S_and_18S/asv_counts_18Sv4_MLD.tsv\", sep = \"\\t\", index=True)\n",
    "asv_counts_16S_18Sv9.loc[MLD_samples_16S_18Sv9].to_csv(\n",
    "    \"counts_mvars_16S_and_18S/asv_counts_16S_18Sv9_MLD.tsv\", sep = \"\\t\", index = True)\n",
    "filtered_counts_18Sv9.loc[MLD_samples_16S_18Sv9].to_csv(\n",
    "    \"counts_mvars_16S_and_18S/asv_counts_18Sv9_MLD.tsv\", sep = \"\\t\", index=True)"
   ]
  },
  {
   "cell_type": "code",
   "execution_count": 129,
   "id": "2e89d9db",
   "metadata": {},
   "outputs": [],
   "source": [
    "#metavariable tables: alldepths vs MLD, for 18Sv4 and v9.\n",
    "env_features_18Sv4.loc[shared_samples_16S_18Sv4, useful_features].to_csv(\n",
    "    \"counts_mvars_16S_and_18S/mvars_18Sv4_alldepths.tsv\", sep = \"\\t\", index=True)\n",
    "env_features_18Sv4.loc[MLD_samples_16S_18Sv4, useful_features].to_csv(\n",
    "    \"counts_mvars_16S_and_18S/mvars_18Sv4_MLD.tsv\", sep = \"\\t\", index=True)\n",
    "\n",
    "env_features_18Sv9.loc[shared_samples_16S_18Sv9, useful_features].to_csv(\n",
    "    \"counts_mvars_16S_and_18S/mvars_18Sv9_alldepths.tsv\", sep = \"\\t\", index=True)\n",
    "env_features_18Sv9.loc[MLD_samples_16S_18Sv9, useful_features].to_csv(\n",
    "    \"counts_mvars_16S_and_18S/mvars_18Sv9_MLD.tsv\", sep = \"\\t\", index=True)"
   ]
  },
  {
   "cell_type": "code",
   "execution_count": null,
   "id": "bcd8dc42",
   "metadata": {},
   "outputs": [],
   "source": [
    "assert(False)"
   ]
  },
  {
   "cell_type": "markdown",
   "id": "e298b788",
   "metadata": {},
   "source": [
    "Final set of predictors: join MLD_select_numeric_features and onehots for each categorical variable.\n",
    "(don't expect cardinal and cast type to be basis of any splits so leave them out?)\n",
    "\n",
    "570 obs for 18Sv4, 734 for 18Sv9. could do a 9:1 train test split. 8:2 maybe."
   ]
  },
  {
   "cell_type": "code",
   "execution_count": null,
   "id": "376ff41f",
   "metadata": {},
   "outputs": [],
   "source": [
    "#join right frame onto left frame using left frame index\n",
    "X_18Sv4 = MLD_select_numeric_features_18Sv4.join(season_onehot_18Sv4, how=\"left\")\n",
    "X_18Sv9 = MLD_select_numeric_features_18Sv9.join(season_onehot_18Sv9, how=\"left\")\n",
    "X_18Sv4.shape, X_18Sv9.shape"
   ]
  },
  {
   "cell_type": "markdown",
   "id": "63660250",
   "metadata": {},
   "source": [
    "Final responses: prune MLD_dino_CM_diatom_difference_18Sv4 with index of X_18Sv4."
   ]
  },
  {
   "cell_type": "code",
   "execution_count": null,
   "id": "9d08c712",
   "metadata": {},
   "outputs": [],
   "source": [
    "#y_18Sv4 = MLD_dino_CM_diatom_difference_18Sv4.loc[X_18Sv4.index]\n",
    "#y_18Sv9 = MLD_dino_CM_diatom_difference_18Sv9.loc[X_18Sv9.index]\n",
    "\n",
    "y_18Sv4 = CM_asv_freqs_18Sv4[X_18Sv4.index]\n",
    "y_18Sv9 = CM_asv_freqs_18Sv9[X_18Sv9.index]"
   ]
  },
  {
   "cell_type": "code",
   "execution_count": null,
   "id": "b23952ec",
   "metadata": {},
   "outputs": [],
   "source": [
    "fig, ax = plt.subplots(2,1)\n",
    "ax[0].hist(y_18Sv4, bins = np.arange(0, 1, 1e-2), orientation = \"horizontal\", log = False)\n",
    "ax[1].hist(y_18Sv9, bins = np.arange(0, 1, 1e-2), orientation = \"horizontal\", log = False)\n",
    "plt.show()"
   ]
  },
  {
   "cell_type": "markdown",
   "id": "36d9753b",
   "metadata": {},
   "source": [
    "### Bagging Model: Predict difference of per sample dino-CM and diatom percentages (MLD_dino_CM_diatom_difference_18Sv4, 9) in mixed layer depth samples with environmental variables.\n",
    "\n",
    "Can we identify environmental types with different properties? (expect that many environments will look exactly the same, since response value close to 0)."
   ]
  },
  {
   "cell_type": "markdown",
   "id": "b7395384",
   "metadata": {},
   "source": [
    "**Train test split**\n",
    "\n",
    "There's 1 feature dataset and 2 response datasets, we're going to use ~20% of the features to test later\n",
    "Make a selection vector and use it to make Xtrain, Xtest, y1train, y1test, y2train, y2test?\n",
    "\n",
    "Problem! Say I make an ensemble model fitted to 80% of either response vector. If we're starting with the premise that v4 and v9 offer very different views... which one is actually correct? is the test set just going to be \"every single observation twice, except associated with two different responses each time?\" what would accuracy on something like that even mean?\n",
    "\n",
    "it would be one thing to have 2 models where ASV data are predictors and something biogeochemical is the response (bowman)..."
   ]
  },
  {
   "cell_type": "raw",
   "id": "f7f5f337",
   "metadata": {},
   "source": [
    "#the only reason to use train_test_split over this is that the former method allows setting of random_state?\n",
    "#vector of values from uniform distribution\n",
    "sum(np.random.rand(X_18Sv4.index.size) < 0.33)"
   ]
  },
  {
   "cell_type": "code",
   "execution_count": null,
   "id": "76153f55",
   "metadata": {},
   "outputs": [],
   "source": [
    "X_train_18Sv4, X_test_18Sv4, y_train_18Sv4, y_test_18Sv4 = train_test_split(\n",
    "    X_18Sv4, \n",
    "    y_18Sv4,\n",
    "    test_size = 0.2, \n",
    "    random_state = 0\n",
    ")\n",
    "\n",
    "X_train_18Sv9, X_test_18Sv9, y_train_18Sv9, y_test_18Sv9 = train_test_split(\n",
    "    X_18Sv9, \n",
    "    y_18Sv9,\n",
    "    test_size = 0.2, \n",
    "    random_state = 0\n",
    ")"
   ]
  },
  {
   "cell_type": "markdown",
   "id": "8625760e",
   "metadata": {},
   "source": [
    "Tuning number of bagging estimators: is it important? Doesn't seem so, but that's probably more the nature of the data (mostly 0s)."
   ]
  },
  {
   "cell_type": "raw",
   "id": "6a3a6c69",
   "metadata": {},
   "source": [
    "#possibilities: too many of the large percents end up in test set and train can't predict them,\n",
    "#low train error & high test error\n",
    "def cv(X, y, B, folds):\n",
    "    \n",
    "    #create CV vector that tags each train set observation.\n",
    "    cv_index = np.random.randint(0, folds, X.index.size)\n",
    "    \n",
    "    #MSE after each fold\n",
    "    mse_per_fold = []\n",
    "\n",
    "    for fold in range(folds):\n",
    "        model = BaggingRegressor(\n",
    "            base_estimator=DecisionTreeRegressor(\n",
    "                #max_depth=6\n",
    "            ), #see if we get better results by stopping splits earlier\n",
    "            n_estimators = B, #tune this\n",
    "            #oob_score=True\n",
    "        ).fit(X.loc[cv_index != fold], y.loc[cv_index != fold])\n",
    "        mse = np.mean(\n",
    "            (model.predict(X.loc[cv_index == fold]) - y.loc[cv_index == fold]) ** 2\n",
    "        )\n",
    "        mse_per_fold.append(mse)\n",
    "        \n",
    "    #return average MSE\n",
    "    return np.mean(mse_per_fold)\n",
    "\n",
    "B_range = [i for i in range(15, 100)]\n",
    "cv_errors = [cv(folds=10, X=X_train_18Sv4, y=y_train_18Sv4, B = B) for B in B_range]\n",
    "fig, ax = plt.subplots()\n",
    "ax.scatter(x=B_range, y=cv_errors)\n",
    "plt.show()"
   ]
  },
  {
   "cell_type": "raw",
   "id": "3bccae2f",
   "metadata": {},
   "source": [
    "pd.DataFrame({\"A\": B_range, \"B\":cv_errors}).corr(method=\"spearman\")\n",
    "#np.corrcoef(B_range, cv_errors)"
   ]
  },
  {
   "cell_type": "markdown",
   "id": "1574db35",
   "metadata": {},
   "source": [
    "Use 20 estimators, see how results turn out."
   ]
  },
  {
   "cell_type": "code",
   "execution_count": null,
   "id": "e5362cf4",
   "metadata": {},
   "outputs": [],
   "source": [
    "model_18Sv4 = BaggingRegressor(\n",
    "    #estimator=DecisionTreeRegressor(), #see if we get better results by stopping splits earlier\n",
    "    n_estimators = 20,\n",
    "    random_state=0\n",
    ").fit(X_train_18Sv9, y_train_18Sv9)\n",
    "\n",
    "residuals = (model_18Sv4.predict(X_test_18Sv4) - y_test_18Sv4)\n",
    "fig, ax = plt.subplots()\n",
    "ax.hist(residuals, bins = np.arange(-.3, .3, 1e-2))\n",
    "plt.show()\n",
    "\n",
    "np.mean(residuals ** 2)# ** 0.5"
   ]
  },
  {
   "cell_type": "code",
   "execution_count": null,
   "id": "cad7f871",
   "metadata": {},
   "outputs": [],
   "source": [
    "model_env_dino_CM_percent_18Sv9 = BaggingRegressor(\n",
    "    base_estimator=DecisionTreeRegressor(max_depth=6), #see if we get better results by stopping splits earlier\n",
    "    n_estimators = 20,\n",
    "    random_state=0\n",
    ").fit(X_train_18Sv9, y_train_18Sv9)\n",
    "\n",
    "y_pred_18Sv9 = model_env_dino_CM_percent_18Sv4.predict(X_test_18Sv9)\n",
    "residuals = (y_test_18Sv9 - y_pred_18Sv9)\n",
    "fig, ax = plt.subplots()\n",
    "ax.hist(residuals, bins=np.arange(-.3,.3,1e-2))\n",
    "plt.show()\n",
    "\n",
    "np.mean(residuals ** 2), np.min(y_pred_18Sv9) #wouldn't expect to go below 0"
   ]
  },
  {
   "cell_type": "markdown",
   "id": "5faede61",
   "metadata": {},
   "source": [
    "### Contribution to Reducing SS_residual by Each Variable"
   ]
  },
  {
   "cell_type": "code",
   "execution_count": null,
   "id": "f867a3f8",
   "metadata": {},
   "outputs": [],
   "source": [
    "plt.figure(figsize=(15,10))\n",
    "plot_tree(model_env_dino_CM_percent_18Sv9.estimators_[3],feature_names=X_train_18Sv9.columns, fontsize=8)\n",
    "plt.show()"
   ]
  },
  {
   "cell_type": "code",
   "execution_count": null,
   "id": "185884d3",
   "metadata": {},
   "outputs": [],
   "source": [
    "#need a way to access every tree and every split, and count the involvement of each feature\n",
    "#we can see that every estimator was working from the same set of features\n",
    "model_env_dino_CM_percent_18Sv9.estimators_features_"
   ]
  },
  {
   "cell_type": "code",
   "execution_count": null,
   "id": "92d98d39",
   "metadata": {},
   "outputs": [],
   "source": [
    "for estimator in model_env_dino_CM_percent_18Sv9.estimators_:\n",
    "    #binary tree stored as parallel arrays, each array holds info about ith node (internal or leaf)\n",
    "    tree = estimator.tree_\n",
    "    print(tree)\n",
    "    #every -2 represents a leaf node\n",
    "    #print(tree.feature)\n",
    "    #mse is the impurity measure for regression\n",
    "    #print(tree.impurity)\n",
    "\n",
    "#a good split will decrease the amount of impurity? not necessarily. might split into a large low mse node\n",
    "#and a small, high mse node. so they have to be weighted?\n",
    "#MSE decrease = MSE_parent - sum(MSE_children)\n",
    "#does not need to be calculated when \"MSE parent\" would be a leaf node."
   ]
  },
  {
   "cell_type": "code",
   "execution_count": null,
   "id": "20aea589",
   "metadata": {},
   "outputs": [],
   "source": [
    "total_se_decrease=[0] * X_train_18Sv4.columns.size\n",
    "\n",
    "for estimator in model_env_dino_CM_percent_18Sv9.estimators_:\n",
    "    tree = estimator.tree_\n",
    "    for node_id in range(len(tree.feature)):\n",
    "        #if this node is a leaf, skip\n",
    "        feature_id = tree.feature[node_id]\n",
    "        if feature_id < 0:\n",
    "            continue\n",
    "        #if node is not a leaf, find MSE_parent - sum(MSE_children)\n",
    "        left_child_id = tree.children_left[node_id]\n",
    "        right_child_id = tree.children_right[node_id]\n",
    "        SE_parent = tree.impurity[node_id] * tree.n_node_samples[node_id]\n",
    "        SE_children = (tree.impurity[left_child_id] * tree.n_node_samples[left_child_id]) \\\n",
    "                    + (tree.impurity[right_child_id] * tree.n_node_samples[right_child_id])\n",
    "        #seems like we can't count on this, a split will choose a bad option even if it's \"best\"\n",
    "        #assert(SE_parent >= SE_children)\n",
    "        #if SE_parent < SE_children:\n",
    "        #    print(SE_parent, tree.impurity[node_id], tree.n_node_samples[node_id])\n",
    "        #    print(SE_children, tree.impurity[left_child_id], tree.n_node_samples[left_child_id])\n",
    "        #    print(tree.impurity[right_child_id], tree.n_node_samples[right_child_id])\n",
    "        #    print(tree)\n",
    "        #    assert(False)\n",
    "        #attribute the MSE decrease to the feature that this node splits on\n",
    "        total_se_decrease[feature_id] += (SE_parent - SE_children)\n",
    "        \n",
    "pd.Series(total_se_decrease, index=X_train_18Sv9.columns).sort_values(ascending=False)"
   ]
  },
  {
   "cell_type": "code",
   "execution_count": null,
   "id": "b970780e",
   "metadata": {},
   "outputs": [],
   "source": []
  }
 ],
 "metadata": {
  "kernelspec": {
   "display_name": "Python 3 (ipykernel)",
   "language": "python",
   "name": "python3"
  },
  "language_info": {
   "codemirror_mode": {
    "name": "ipython",
    "version": 3
   },
   "file_extension": ".py",
   "mimetype": "text/x-python",
   "name": "python",
   "nbconvert_exporter": "python",
   "pygments_lexer": "ipython3",
   "version": "3.8.15"
  }
 },
 "nbformat": 4,
 "nbformat_minor": 5
}
